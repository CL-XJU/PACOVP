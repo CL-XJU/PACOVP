{
 "cells": [
  {
   "cell_type": "code",
   "execution_count": 3,
   "id": "793de9ec",
   "metadata": {},
   "outputs": [],
   "source": [
    "from Bio import SeqIO\n",
    "from Bio.SeqUtils.ProtParam import ProteinAnalysis as PA\n",
    "from modlamp.descriptors import PeptideDescriptor, GlobalDescriptor\n",
    "from sklearn.model_selection import train_test_split,KFold\n",
    "import pandas as pd\n",
    "import os, re, math, platform\n",
    "import numpy as np\n",
    "import seaborn as sns\n",
    "import matplotlib.pyplot as plt\n",
    "from numpy import linalg as la\n",
    "import os\n",
    "import random\n",
    "import warnings\n",
    "warnings.filterwarnings('ignore')\n",
    "import random\n",
    "from fea_extract import read_fasta,insert_AAC,insert_DPC,insert_CKSAAGP,insert_CTD,insert_PAAC,insert_AAI,insert_GTPC,insert_QSO,insert_AAE,insert_PSAAC,insert_word2int,insert_ASDC\n",
    "from tools import del_data\n",
    "seed = 10\n",
    "from pathlib import Path\n",
    "Path('./results/process_data/').mkdir(exist_ok=True,parents=True)\n",
    "Path('./results/balance/').mkdir(exist_ok=True,parents=True)"
   ]
  },
  {
   "cell_type": "code",
   "execution_count": 5,
   "id": "078ae915",
   "metadata": {},
   "outputs": [],
   "source": [
    "# 定义函数\n",
    "def del_data(inFile):\n",
    "    seq = read_fasta(inFile)\n",
    "    seqname = seq.to_numpy()\n",
    "    newseq = []\n",
    "    j = seqname.shape[0]\n",
    "    for i in range(j):\n",
    "        if 6 <= len(seqname[i][1])<=100:\n",
    "            newseq.append(seqname[i])\n",
    "    newseq = np.array(newseq)\n",
    "    print('序列去除小于6序列后的维度：', newseq.shape)\n",
    "    newseq = pd.DataFrame(data=newseq, columns=[\"Id\", \"Sequence\"])\n",
    "    return newseq"
   ]
  },
  {
   "cell_type": "code",
   "execution_count": 6,
   "id": "d1691e30",
   "metadata": {},
   "outputs": [
    {
     "name": "stdout",
     "output_type": "stream",
     "text": [
      "序列去除小于6序列后的维度： (157, 2)\n",
      "序列去除小于6序列后的维度： (1984, 2)\n"
     ]
    }
   ],
   "source": [
    "seq_Anti_cov = del_data('data/ANTI-COV.csv')\n",
    "seq_AVP = del_data('data/Anti-Virus.faa')"
   ]
  },
  {
   "cell_type": "code",
   "execution_count": 6,
   "id": "6f944b9d",
   "metadata": {},
   "outputs": [],
   "source": [
    "from tools import pro_data"
   ]
  },
  {
   "cell_type": "code",
   "execution_count": 7,
   "id": "8b7ad172",
   "metadata": {},
   "outputs": [
    {
     "name": "stdout",
     "output_type": "stream",
     "text": [
      "Done!\n",
      "Done!\n"
     ]
    }
   ],
   "source": [
    "#划分训练集和测试集80%，20%\n",
    "prefix = [seq_AVP,seq_Anti_cov]\n",
    "Prefix = ['Seq_avp','Seq_anticov']\n",
    "for i in range(2):\n",
    "    df_train,df_test = train_test_split(prefix[i],random_state=seed,test_size=.2)\n",
    "    df_train.to_csv(os.path.join( \"data/train/{:s}_train.csv\".format(Prefix[i])), index=False)\n",
    "    df_test.to_csv(os.path.join(\"data/test/{:s}_test.csv\".format(Prefix[i])), index=False)\n",
    "    print(\"Done!\")"
   ]
  },
  {
   "cell_type": "code",
   "execution_count": 9,
   "id": "ee6cf00a",
   "metadata": {},
   "outputs": [],
   "source": [
    "#分别读取不同样本的训练集和测试集\n",
    "train_sets = {\n",
    "    lab:pd.read_csv('data/train/{:s}_train.csv'.format(lab))\n",
    "    for lab in ['Seq_avp','Seq_anticov']\n",
    "}\n",
    "test_sets = {\n",
    "    lab:pd.read_csv('data/test/{:s}_test.csv'.format(lab))\n",
    "    for lab in ['Seq_avp','Seq_anticov']\n",
    "}\n",
    "train_sets['Seq_anticov'].loc[:, 'Label'] = 1 #loc[]通过行标签索引行数据\n",
    "train_sets['Seq_avp'].loc[:, 'Label'] = 0 #负数据集\n",
    "test_sets['Seq_anticov'].loc[:, 'Label'] = 1\n",
    "test_sets['Seq_avp'].loc[:, 'Label'] = 0\n",
    "\n",
    "#对序列进行随机打乱\n",
    "all_train = pd.concat([train_sets['Seq_anticov'],train_sets['Seq_avp']],ignore_index='ignore')\n",
    "all_test = pd.concat([test_sets['Seq_anticov'],test_sets['Seq_avp']],ignore_index='ignore')\n",
    "X_train = all_train.iloc[:,0:2]\n",
    "X_test = all_test.iloc[:,0:2]\n",
    "y_train = all_train['Label']\n",
    "y_test = all_test[\"Label\"]\n",
    "X_test.to_csv('data/test/X_test.csv',index = False)\n",
    "y_test.to_csv('data/test/y_test.csv',index = False)\n",
    "X_train.to_csv('data/train/X_train.csv',index = False)\n",
    "y_train.to_csv('data/train/y_train.csv',index = False)"
   ]
  },
  {
   "cell_type": "markdown",
   "id": "007098c0",
   "metadata": {},
   "source": [
    "###### 对训练样本进行编码"
   ]
  },
  {
   "cell_type": "code",
   "execution_count": 11,
   "id": "1de3ea33",
   "metadata": {},
   "outputs": [],
   "source": [
    "insert_list=[insert_AAC,insert_DPC,insert_CKSAAGP,insert_PSAAC,insert_CTD,insert_GTPC,\n",
    "             insert_QSO,insert_AAE,insert_AAI,insert_ASDC,insert_PAAC,pro_data]\n",
    "insert_str=[\"insert_AAC\",\"insert_DPC\",\"insert_CKSAAGP\",\"insert_PSAAC\",\"insert_CTD\",\n",
    "            \"insert_GTPC\",\"insert_QSO\",\"insert_AAE\",\"insert_AAI\",\"insert_ASDC\",\"insert_PAAC\",'insert_All_data']"
   ]
  },
  {
   "cell_type": "code",
   "execution_count": 12,
   "id": "79e3c872",
   "metadata": {
    "scrolled": true
   },
   "outputs": [
    {
     "name": "stdout",
     "output_type": "stream",
     "text": [
      "encoding0_AAC\n",
      "encoding1_DPC\n",
      "encoding2_CKSAAGP\n",
      "encoding3_PSAAC\n",
      "encoding4_CTD\n",
      "encoding5_GTPC\n",
      "encoding6_QSO\n",
      "encoding7_AAE\n",
      "encoding8_AAI\n",
      "encoding9_ASDC\n",
      "encoding10_PAAC\n",
      "encoding11_All_data\n"
     ]
    }
   ],
   "source": [
    "n = len(insert_list)\n",
    "for j in range(n):\n",
    "    print(\"encoding{}_{}\".format(str(j),insert_str[j][7:]))\n",
    "    X_test = pd.read_csv('data/test/X_test.csv')\n",
    "    X_train = pd.read_csv('data/train/X_train.csv')\n",
    "    df_seq_train = insert_list[j](X_train)\n",
    "    df_seq_train.to_csv('results/process_data/train_{}.csv'.format(insert_str[j][7:]),index =False )\n",
    "    df_seq_test = insert_list[j](X_test)\n",
    "    df_seq_test.to_csv('results/process_data/test_{}.csv'.format(insert_str[j][7:]),index =False )"
   ]
  },
  {
   "cell_type": "code",
   "execution_count": null,
   "id": "97dbef2d",
   "metadata": {},
   "outputs": [],
   "source": []
  },
  {
   "cell_type": "code",
   "execution_count": null,
   "id": "aa9159bb",
   "metadata": {},
   "outputs": [],
   "source": []
  },
  {
   "cell_type": "code",
   "execution_count": null,
   "id": "c801066d",
   "metadata": {},
   "outputs": [],
   "source": []
  },
  {
   "cell_type": "code",
   "execution_count": null,
   "id": "cb08015e",
   "metadata": {},
   "outputs": [],
   "source": []
  },
  {
   "cell_type": "code",
   "execution_count": null,
   "id": "43a77e4c",
   "metadata": {},
   "outputs": [],
   "source": []
  },
  {
   "cell_type": "code",
   "execution_count": null,
   "id": "1c8074cf",
   "metadata": {},
   "outputs": [],
   "source": []
  },
  {
   "cell_type": "code",
   "execution_count": null,
   "id": "ec89e3f8",
   "metadata": {},
   "outputs": [],
   "source": []
  },
  {
   "cell_type": "markdown",
   "id": "ea56bb5b",
   "metadata": {},
   "source": [
    "###### 对于Word2int编码"
   ]
  },
  {
   "cell_type": "code",
   "execution_count": 7,
   "id": "8f81199e",
   "metadata": {},
   "outputs": [],
   "source": [
    "from tools import padseq"
   ]
  },
  {
   "cell_type": "code",
   "execution_count": 8,
   "id": "62860d7b",
   "metadata": {},
   "outputs": [],
   "source": [
    "X_test = pd.read_csv('data/test/X_test.csv')\n",
    "X_train = pd.read_csv('data/train/X_train.csv')\n",
    "new_seq_train = padseq(X_train)\n",
    "new_seq_test = padseq(X_test)\n",
    "word2_seq_train = insert_word2int(new_seq_train)\n",
    "word2_seq_train.to_csv('results/process_data/train_word2int.csv',index=False)\n",
    "\n",
    "word2_seq_test = insert_word2int(new_seq_test)\n",
    "word2_seq_test.to_csv('results/process_data/test_word2int.csv',index=False)"
   ]
  },
  {
   "cell_type": "code",
   "execution_count": null,
   "id": "b08fc7ee",
   "metadata": {},
   "outputs": [],
   "source": []
  },
  {
   "cell_type": "code",
   "execution_count": null,
   "id": "7f91877a",
   "metadata": {},
   "outputs": [],
   "source": []
  },
  {
   "cell_type": "markdown",
   "id": "15414313",
   "metadata": {},
   "source": [
    "######  对平衡数据集进行编码"
   ]
  },
  {
   "cell_type": "code",
   "execution_count": 15,
   "id": "26267e00",
   "metadata": {},
   "outputs": [],
   "source": [
    "insert_list=[insert_AAC,insert_DPC,insert_CKSAAGP,insert_PSAAC,insert_CTD,insert_GTPC,\n",
    "             insert_QSO,insert_AAE,insert_AAI,insert_ASDC,insert_PAAC]\n",
    "insert_str=[\"insert_AAC\",\"insert_DPC\",\"insert_CKSAAGP\",\"insert_PSAAC\",\"insert_CTD\",\n",
    "            \"insert_GTPC\",\"insert_QSO\",\"insert_AAE\",\"insert_AAI\",\"insert_ASDC\",\"insert_PAAC\"]"
   ]
  },
  {
   "cell_type": "code",
   "execution_count": 16,
   "id": "209b8150",
   "metadata": {},
   "outputs": [
    {
     "name": "stdout",
     "output_type": "stream",
     "text": [
      "encoding0_AAC\n",
      "encoding1_DPC\n",
      "encoding2_CKSAAGP\n",
      "encoding3_PSAAC\n",
      "encoding4_CTD\n",
      "encoding5_GTPC\n",
      "encoding6_QSO\n",
      "encoding7_AAE\n",
      "encoding8_AAI\n",
      "encoding9_ASDC\n",
      "encoding10_PAAC\n"
     ]
    }
   ],
   "source": [
    "n = len(insert_list)\n",
    "for j in range(n):\n",
    "    print(\"encoding{}_{}\".format(str(j),insert_str[j][7:]))\n",
    "    X_test = pd.read_csv('data/test/X_test.csv')\n",
    "    X_train = pd.read_csv('data/processdata/blearn_train.csv')\n",
    "    df_seq_train = insert_list[j](X_train)\n",
    "    df_seq_train.to_csv('results/balance/train_{}.csv'.format(insert_str[j][7:]),index =False )\n",
    "    df_seq_test = insert_list[j](X_test)\n",
    "    df_seq_test.to_csv('results/balance/test_{}.csv'.format(insert_str[j][7:]),index =False )"
   ]
  },
  {
   "cell_type": "code",
   "execution_count": 17,
   "id": "3285e7b1",
   "metadata": {},
   "outputs": [],
   "source": [
    "from tools import padseq"
   ]
  },
  {
   "cell_type": "code",
   "execution_count": 18,
   "id": "a51b5de9",
   "metadata": {},
   "outputs": [],
   "source": [
    "X_test = pd.read_csv('data/test/X_test.csv')\n",
    "X_train = pd.read_csv('data/processdata/blearn_train.csv')\n",
    "new_seq_train = padseq(X_train)\n",
    "new_seq_test = padseq(X_test)\n",
    "word2_seq_train = insert_word2int(new_seq_train)\n",
    "word2_seq_train.to_csv('results/balance/train_word2int.csv',index=False)\n",
    "\n",
    "word2_seq_test = insert_word2int(new_seq_test)\n",
    "word2_seq_test.to_csv('results/balance/test_word2int.csv',index=False)"
   ]
  },
  {
   "cell_type": "code",
   "execution_count": null,
   "id": "38dec20f",
   "metadata": {},
   "outputs": [],
   "source": []
  },
  {
   "cell_type": "code",
   "execution_count": 16,
   "id": "64c76fe1",
   "metadata": {},
   "outputs": [],
   "source": [
    "import pandas as pd\n",
    "import numpy as np"
   ]
  },
  {
   "cell_type": "code",
   "execution_count": 17,
   "id": "e2d15e80",
   "metadata": {},
   "outputs": [
    {
     "data": {
      "text/plain": [
       "(429, 2)"
      ]
     },
     "execution_count": 17,
     "metadata": {},
     "output_type": "execute_result"
    }
   ],
   "source": [
    "X_test = pd.read_csv('data/test/X_test.csv').to_numpy()\n",
    "X_test.shape"
   ]
  },
  {
   "cell_type": "code",
   "execution_count": 18,
   "id": "49932dee",
   "metadata": {},
   "outputs": [],
   "source": [
    "x_TEST=[]\n",
    "for i in range(429):\n",
    "    x_TEST.append('>'+X_test[i][0])\n",
    "    x_TEST.append(X_test[i][1])"
   ]
  },
  {
   "cell_type": "code",
   "execution_count": 20,
   "id": "d1ab9c1a",
   "metadata": {},
   "outputs": [],
   "source": [
    "x_test = pd.DataFrame(x_TEST)\n",
    "x_test.to_csv('x_Test.csv',index=False)"
   ]
  },
  {
   "cell_type": "code",
   "execution_count": null,
   "id": "75ab6f6b",
   "metadata": {},
   "outputs": [],
   "source": []
  },
  {
   "cell_type": "code",
   "execution_count": null,
   "id": "8bd9d0b8",
   "metadata": {},
   "outputs": [],
   "source": []
  },
  {
   "cell_type": "code",
   "execution_count": null,
   "id": "9d70d1ae",
   "metadata": {},
   "outputs": [],
   "source": []
  }
 ],
 "metadata": {
  "kernelspec": {
   "display_name": "Python 3 (ipykernel)",
   "language": "python",
   "name": "python3"
  },
  "language_info": {
   "codemirror_mode": {
    "name": "ipython",
    "version": 3
   },
   "file_extension": ".py",
   "mimetype": "text/x-python",
   "name": "python",
   "nbconvert_exporter": "python",
   "pygments_lexer": "ipython3",
   "version": "3.8.3"
  }
 },
 "nbformat": 4,
 "nbformat_minor": 5
}
