{
 "cells": [
  {
   "cell_type": "code",
   "execution_count": 1,
   "id": "5d34cfd5",
   "metadata": {},
   "outputs": [],
   "source": [
    "import numpy as np\n",
    "import pandas as pd\n",
    "import os, re, math, platform\n",
    "from pathlib import Path\n",
    "import matplotlib.pyplot as plt\n",
    "import json\n",
    "import joblib\n",
    "from scipy.stats import randint as sp_randint\n",
    "from sklearn.model_selection import train_test_split\n",
    "from sklearn.model_selection import KFold\n",
    "from sklearn.model_selection import RandomizedSearchCV\n",
    "from imblearn.over_sampling import SMOTE\n",
    "from sklearn.preprocessing import StandardScaler\n",
    "from sklearn.metrics import matthews_corrcoef, confusion_matrix\n",
    "from sklearn.metrics import precision_recall_curve, roc_curve, auc, fbeta_score\n",
    "from imblearn.metrics import geometric_mean_score\n",
    "from sklearn.neural_network import MLPClassifier\n",
    "from xgboost import XGBClassifier \n",
    "from xgboost import plot_importance\n",
    "from sklearn.ensemble import GradientBoostingClassifier,RandomForestClassifier,ExtraTreesClassifier,AdaBoostClassifier\n",
    "from sklearn.linear_model import LogisticRegression\n",
    "from sklearn.neighbors import KNeighborsClassifier\n",
    "from sklearn.svm import SVC\n",
    "from Bio import SeqIO\n",
    "from Bio.SeqUtils.ProtParam import ProteinAnalysis as PA\n",
    "from modlamp.descriptors import PeptideDescriptor, GlobalDescriptor\n",
    "from matplotlib import pyplot\n",
    "from sklearn.metrics import matthews_corrcoef, confusion_matrix,precision_recall_curve, roc_curve, auc, fbeta_score,roc_auc_score\n",
    "from fea_extract import read_fasta,insert_AAC,insert_DPC,insert_CKSAAGP,insert_CTD,insert_PAAC,insert_AAI,insert_GTPC,insert_QSO,insert_AAE,insert_PSAAC,insert_word2int,insert_ASDC\n",
    "import warnings \n",
    "from collections import Counter\n",
    "from tools import cv,evaluate\n",
    "import matplotlib.pyplot as plt\n",
    "import seaborn as sns\n",
    "Path('./results/balance_eval_AUC/').mkdir(exist_ok=True,parents=True)\n",
    "warnings.filterwarnings('ignore')\n",
    "seed=10"
   ]
  },
  {
   "cell_type": "code",
   "execution_count": 10,
   "id": "de855a98",
   "metadata": {},
   "outputs": [],
   "source": [
    "def pro_data(seq):\n",
    "    df_n = insert_PAAC(seq)\n",
    "    df_n = insert_AAC(df_n)\n",
    "    df_n = insert_CKSAAGP(df_n)\n",
    "    df_n = insert_CTD(df_n)\n",
    "    df_n = insert_DPC(df_n)\n",
    "    df_n = insert_GTPC(df_n)\n",
    "    df_n = insert_QSO(df_n)\n",
    "    df_n = insert_AAE(df_n)\n",
    "    df_n = insert_ASDC(df_n)\n",
    "    return df_n"
   ]
  },
  {
   "cell_type": "code",
   "execution_count": 3,
   "id": "6bb5332a",
   "metadata": {},
   "outputs": [],
   "source": [
    "seq_X_train = pd.read_csv('data/train/X_train.csv')\n",
    "seq_X_test = pd.read_csv('data/test/X_test.csv')\n",
    "seq_y_train = pd.read_csv('data/train/y_train.csv')\n",
    "seq_y_test = pd.read_csv('data/test/y_test.csv')"
   ]
  },
  {
   "cell_type": "code",
   "execution_count": 4,
   "id": "3674ffd4",
   "metadata": {},
   "outputs": [],
   "source": [
    "Seq_X_train = pro_data(seq_X_train)\n",
    "Seq_X_test = pro_data(seq_X_test)"
   ]
  },
  {
   "cell_type": "code",
   "execution_count": 41,
   "id": "2b828db2",
   "metadata": {},
   "outputs": [],
   "source": [
    "Seq_X_train.to_csv('data/train/Seq_X_train_all.csv',index=False)\n",
    "Seq_X_test.to_csv('data/test/Seq_X_test_all.csv',index=False)"
   ]
  },
  {
   "cell_type": "code",
   "execution_count": null,
   "id": "98d8f1b1",
   "metadata": {},
   "outputs": [],
   "source": []
  },
  {
   "cell_type": "code",
   "execution_count": 5,
   "id": "6ec23ab2",
   "metadata": {},
   "outputs": [],
   "source": [
    "ml = [\"XGBoost\",\"RF\",\"ET\",\"GBDT\"]\n",
    "GBDT = GradientBoostingClassifier(random_state=seed)\n",
    "ET = ExtraTreesClassifier(random_state=seed)\n",
    "SVM = SVC(random_state=seed,probability=True)\n",
    "MLP = MLPClassifier(hidden_layer_sizes=32,learning_rate=\"adaptive\",random_state=seed)\n",
    "RF = RandomForestClassifier(random_state=seed)\n",
    "XGBoost = XGBClassifier(random_state=seed)\n",
    "LR  = LogisticRegression(random_state=seed)\n",
    "AB = AdaBoostClassifier(random_state=seed)"
   ]
  },
  {
   "cell_type": "code",
   "execution_count": 5,
   "id": "a2202357",
   "metadata": {},
   "outputs": [],
   "source": [
    "fea = Seq_X_train.columns[2:]\n",
    "X_train = Seq_X_train[fea].to_numpy()\n",
    "X_test = Seq_X_test[fea].to_numpy()\n",
    "y_train = seq_y_train.to_numpy()\n",
    "y_test = seq_y_test.to_numpy()"
   ]
  },
  {
   "cell_type": "code",
   "execution_count": 14,
   "id": "e59a9f4f",
   "metadata": {
    "collapsed": true
   },
   "outputs": [
    {
     "name": "stdout",
     "output_type": "stream",
     "text": [
      "process_XGBoost\n",
      "process_RF\n",
      "process_ET\n",
      "process_SVM\n",
      "process_MLP\n",
      "process_GBDT\n",
      "process_AB\n"
     ]
    }
   ],
   "source": [
    "index = []\n",
    "ALL_eval=pd.DataFrame()\n",
    "for i in ml:\n",
    "    print('process_{}'.format(i))\n",
    "    model = eval(i)\n",
    "    Evals = cv(model,X_train,y_train)\n",
    "    ALL_eval = pd.concat([ALL_eval,Evals],axis=1)\n",
    "    index.append(\"{}\".format(i))\n",
    "ALL_eval.columns = index"
   ]
  },
  {
   "cell_type": "code",
   "execution_count": 10,
   "id": "8f4aca37",
   "metadata": {
    "collapsed": true
   },
   "outputs": [
    {
     "name": "stdout",
     "output_type": "stream",
     "text": [
      "process_XGBoost\n",
      "process_RF\n",
      "process_ET\n",
      "process_SVM\n",
      "process_MLP\n",
      "process_GBDT\n",
      "process_AB\n"
     ]
    }
   ],
   "source": [
    "index = []\n",
    "ALL_eval_test=pd.DataFrame()\n",
    "for i in ml:\n",
    "    eval_dict = []\n",
    "    print('process_{}'.format(i))\n",
    "    model = eval(i)\n",
    "    model.fit(X_train,y_train)\n",
    "    eval_dictionary = evaluate(X_test,y_test,model)\n",
    "    eval_dict = eval_dict+[eval_dictionary]\n",
    "    Evals = pd.DataFrame(eval_dict).T\n",
    "    ALL_eval_test = pd.concat([ALL_eval_test,Evals],axis=1)\n",
    "    index.append(\"{}\".format(i))\n",
    "ALL_eval_test.columns = index"
   ]
  },
  {
   "cell_type": "code",
   "execution_count": 8,
   "id": "49ba426f",
   "metadata": {
    "collapsed": true
   },
   "outputs": [
    {
     "data": {
      "text/plain": [
       "<matplotlib.legend.Legend at 0x1cd1bb14cd0>"
      ]
     },
     "execution_count": 8,
     "metadata": {},
     "output_type": "execute_result"
    },
    {
     "data": {
      "image/png": "[encoded data removed]",
      "text/plain": [
       "<Figure size 504x360 with 1 Axes>"
      ]
     },
     "metadata": {},
     "output_type": "display_data"
    }
   ],
   "source": [
    "evals = ALL_eval.loc[['AUC'],:]\n",
    "sns.set()\n",
    "evals.T.plot.bar(figsize=(7,5),rot=45,width = 0.7,grid = False)\n",
    "plt.ylim(0.6,1.0)\n",
    "plt.ylabel('Area Under Curve',fontsize=18)\n",
    "plt.xlabel('Performance of ML',fontsize=18)\n",
    "plt.legend(loc =  'lower left' )"
   ]
  },
  {
   "cell_type": "code",
   "execution_count": 13,
   "id": "fb6138f3",
   "metadata": {
    "collapsed": true
   },
   "outputs": [
    {
     "data": {
      "text/html": [
       "<div>\n",
       "<style scoped>\n",
       "    .dataframe tbody tr th:only-of-type {\n",
       "        vertical-align: middle;\n",
       "    }\n",
       "\n",
       "    .dataframe tbody tr th {\n",
       "        vertical-align: top;\n",
       "    }\n",
       "\n",
       "    .dataframe thead th {\n",
       "        text-align: right;\n",
       "    }\n",
       "</style>\n",
       "<table border=\"1\" class=\"dataframe\">\n",
       "  <thead>\n",
       "    <tr style=\"text-align: right;\">\n",
       "      <th></th>\n",
       "      <th>XGBoost</th>\n",
       "      <th>RF</th>\n",
       "      <th>ET</th>\n",
       "      <th>SVM</th>\n",
       "      <th>MLP</th>\n",
       "      <th>GBDT</th>\n",
       "      <th>AB</th>\n",
       "    </tr>\n",
       "  </thead>\n",
       "  <tbody>\n",
       "    <tr>\n",
       "      <th>ACC</th>\n",
       "      <td>0.958042</td>\n",
       "      <td>0.953380</td>\n",
       "      <td>0.960373</td>\n",
       "      <td>0.925408</td>\n",
       "      <td>0.955711</td>\n",
       "      <td>0.946387</td>\n",
       "      <td>0.948718</td>\n",
       "    </tr>\n",
       "    <tr>\n",
       "      <th>F1</th>\n",
       "      <td>0.653846</td>\n",
       "      <td>0.583333</td>\n",
       "      <td>0.666667</td>\n",
       "      <td>0.000000</td>\n",
       "      <td>0.677966</td>\n",
       "      <td>0.530612</td>\n",
       "      <td>0.633333</td>\n",
       "    </tr>\n",
       "    <tr>\n",
       "      <th>F2</th>\n",
       "      <td>0.574324</td>\n",
       "      <td>0.486111</td>\n",
       "      <td>0.578231</td>\n",
       "      <td>0.000000</td>\n",
       "      <td>0.645161</td>\n",
       "      <td>0.448276</td>\n",
       "      <td>0.608974</td>\n",
       "    </tr>\n",
       "    <tr>\n",
       "      <th>GMean</th>\n",
       "      <td>0.726110</td>\n",
       "      <td>0.659770</td>\n",
       "      <td>0.727031</td>\n",
       "      <td>0.000000</td>\n",
       "      <td>0.783569</td>\n",
       "      <td>0.634158</td>\n",
       "      <td>0.761767</td>\n",
       "    </tr>\n",
       "    <tr>\n",
       "      <th>SEN</th>\n",
       "      <td>0.531250</td>\n",
       "      <td>0.437500</td>\n",
       "      <td>0.531250</td>\n",
       "      <td>0.000000</td>\n",
       "      <td>0.625000</td>\n",
       "      <td>0.406250</td>\n",
       "      <td>0.593750</td>\n",
       "    </tr>\n",
       "    <tr>\n",
       "      <th>PREC</th>\n",
       "      <td>0.850000</td>\n",
       "      <td>0.875000</td>\n",
       "      <td>0.894737</td>\n",
       "      <td>NaN</td>\n",
       "      <td>0.740741</td>\n",
       "      <td>0.764706</td>\n",
       "      <td>0.678571</td>\n",
       "    </tr>\n",
       "    <tr>\n",
       "      <th>SPEC</th>\n",
       "      <td>0.992443</td>\n",
       "      <td>0.994962</td>\n",
       "      <td>0.994962</td>\n",
       "      <td>1.000000</td>\n",
       "      <td>0.982368</td>\n",
       "      <td>0.989924</td>\n",
       "      <td>0.977330</td>\n",
       "    </tr>\n",
       "    <tr>\n",
       "      <th>MCC</th>\n",
       "      <td>0.652635</td>\n",
       "      <td>0.599630</td>\n",
       "      <td>0.671989</td>\n",
       "      <td>0.000000</td>\n",
       "      <td>0.657093</td>\n",
       "      <td>0.533560</td>\n",
       "      <td>0.607458</td>\n",
       "    </tr>\n",
       "    <tr>\n",
       "      <th>AUC</th>\n",
       "      <td>0.943404</td>\n",
       "      <td>0.947300</td>\n",
       "      <td>0.923961</td>\n",
       "      <td>0.893498</td>\n",
       "      <td>0.917349</td>\n",
       "      <td>0.927582</td>\n",
       "      <td>0.945529</td>\n",
       "    </tr>\n",
       "  </tbody>\n",
       "</table>\n",
       "</div>"
      ],
      "text/plain": [
       "        XGBoost        RF        ET       SVM       MLP      GBDT        AB\n",
       "ACC    0.958042  0.953380  0.960373  0.925408  0.955711  0.946387  0.948718\n",
       "F1     0.653846  0.583333  0.666667  0.000000  0.677966  0.530612  0.633333\n",
       "F2     0.574324  0.486111  0.578231  0.000000  0.645161  0.448276  0.608974\n",
       "GMean  0.726110  0.659770  0.727031  0.000000  0.783569  0.634158  0.761767\n",
       "SEN    0.531250  0.437500  0.531250  0.000000  0.625000  0.406250  0.593750\n",
       "PREC   0.850000  0.875000  0.894737       NaN  0.740741  0.764706  0.678571\n",
       "SPEC   0.992443  0.994962  0.994962  1.000000  0.982368  0.989924  0.977330\n",
       "MCC    0.652635  0.599630  0.671989  0.000000  0.657093  0.533560  0.607458\n",
       "AUC    0.943404  0.947300  0.923961  0.893498  0.917349  0.927582  0.945529"
      ]
     },
     "execution_count": 13,
     "metadata": {},
     "output_type": "execute_result"
    }
   ],
   "source": [
    "ALL_eval_test"
   ]
  },
  {
   "cell_type": "code",
   "execution_count": 12,
   "id": "1a81ff4e",
   "metadata": {
    "collapsed": true
   },
   "outputs": [
    {
     "data": {
      "text/plain": [
       "<matplotlib.legend.Legend at 0x22e72e52bb0>"
      ]
     },
     "execution_count": 12,
     "metadata": {},
     "output_type": "execute_result"
    },
    {
     "data": {
      "image/png": "[encoded data removed]",
      "text/plain": [
       "<Figure size 504x360 with 1 Axes>"
      ]
     },
     "metadata": {},
     "output_type": "display_data"
    }
   ],
   "source": [
    "evals = ALL_eval_test.loc[['AUC'],:]\n",
    "sns.set()\n",
    "evals.T.plot.bar(figsize=(7,5),rot=45,width = 0.7,grid = False)\n",
    "plt.ylim(0.6,1.0)\n",
    "plt.ylabel('Area Under Curve',fontsize=18)\n",
    "plt.xlabel('Performance of ML',fontsize=18)\n",
    "plt.legend(loc =  'lower left' )"
   ]
  },
  {
   "cell_type": "markdown",
   "id": "ab51a883",
   "metadata": {},
   "source": [
    "#### 将数据进行归一化、标准化处理"
   ]
  },
  {
   "cell_type": "code",
   "execution_count": 6,
   "id": "afb4d390",
   "metadata": {},
   "outputs": [],
   "source": [
    "from sklearn.preprocessing import MinMaxScaler, StandardScaler "
   ]
  },
  {
   "cell_type": "code",
   "execution_count": 39,
   "id": "e4b6aa6a",
   "metadata": {},
   "outputs": [],
   "source": [
    "#归一化\n",
    "nms = MinMaxScaler()\n",
    "X_train_norm = nms.fit_transform(X_train)\n",
    "X_test_norm = nms.transform(X_test)\n",
    "#标准化\n",
    "stdsc = StandardScaler(with_mean=False)\n",
    "X_train_std = stdsc.fit_transform(X_train)\n",
    "X_test_std = stdsc.transform(X_test)"
   ]
  },
  {
   "cell_type": "code",
   "execution_count": 42,
   "id": "dd2278a7",
   "metadata": {},
   "outputs": [],
   "source": [
    "#归一化\n",
    "X_train_norm1 = pd.DataFrame(X_train_norm)\n",
    "X_train_norm1.to_csv('data/train/X_train_norm.csv',index=False)\n",
    "X_test_norm1 = pd.DataFrame(X_test_norm)\n",
    "X_test_norm1.to_csv('data/test/X_test_norm.csv',index=False)\n",
    "#标准化\n",
    "X_train_std1 = pd.DataFrame(X_train_std)\n",
    "X_train_std1.to_csv('data/train/X_train_std.csv',index=False)\n",
    "X_test_std1 = pd.DataFrame(X_test_std)\n",
    "X_test_std1.to_csv('data/test/X_test_std.csv',index=False)"
   ]
  },
  {
   "cell_type": "code",
   "execution_count": 24,
   "id": "6054e93c",
   "metadata": {
    "collapsed": true
   },
   "outputs": [
    {
     "name": "stdout",
     "output_type": "stream",
     "text": [
      "process_XGBoost\n",
      "process_RF\n",
      "process_ET\n",
      "process_SVM\n",
      "process_MLP\n",
      "process_GBDT\n",
      "process_AB\n"
     ]
    }
   ],
   "source": [
    "index = []\n",
    "ALL_eval=pd.DataFrame()\n",
    "for i in ml:\n",
    "    print('process_{}'.format(i))\n",
    "    model = eval(i)\n",
    "    Evals = cv(model,X_train_std,y_train)\n",
    "    ALL_eval = pd.concat([ALL_eval,Evals],axis=1)\n",
    "    index.append(\"{}\".format(i))\n",
    "ALL_eval.columns = index"
   ]
  },
  {
   "cell_type": "code",
   "execution_count": 25,
   "id": "a9f83b80",
   "metadata": {
    "collapsed": true
   },
   "outputs": [
    {
     "data": {
      "text/plain": [
       "<matplotlib.legend.Legend at 0x1cd1bb14a30>"
      ]
     },
     "execution_count": 25,
     "metadata": {},
     "output_type": "execute_result"
    },
    {
     "data": {
      "image/png": "[encoded data removed]",
      "text/plain": [
       "<Figure size 504x360 with 1 Axes>"
      ]
     },
     "metadata": {},
     "output_type": "display_data"
    }
   ],
   "source": [
    "evals = ALL_eval.loc[['AUC'],:]\n",
    "sns.set()\n",
    "evals.T.plot.bar(figsize=(7,5),rot=45,width = 0.7,grid = False)\n",
    "plt.ylim(0.6,1.0)\n",
    "plt.ylabel('Area Under Curve',fontsize=18)\n",
    "plt.xlabel('Performance of ML',fontsize=18)\n",
    "plt.legend(loc =  'lower left' )"
   ]
  },
  {
   "cell_type": "code",
   "execution_count": 26,
   "id": "c8d8858e",
   "metadata": {
    "collapsed": true
   },
   "outputs": [
    {
     "data": {
      "text/html": [
       "<div>\n",
       "<style scoped>\n",
       "    .dataframe tbody tr th:only-of-type {\n",
       "        vertical-align: middle;\n",
       "    }\n",
       "\n",
       "    .dataframe tbody tr th {\n",
       "        vertical-align: top;\n",
       "    }\n",
       "\n",
       "    .dataframe thead th {\n",
       "        text-align: right;\n",
       "    }\n",
       "</style>\n",
       "<table border=\"1\" class=\"dataframe\">\n",
       "  <thead>\n",
       "    <tr style=\"text-align: right;\">\n",
       "      <th></th>\n",
       "      <th>XGBoost</th>\n",
       "      <th>RF</th>\n",
       "      <th>ET</th>\n",
       "      <th>SVM</th>\n",
       "      <th>MLP</th>\n",
       "      <th>GBDT</th>\n",
       "      <th>AB</th>\n",
       "    </tr>\n",
       "  </thead>\n",
       "  <tbody>\n",
       "    <tr>\n",
       "      <th>ACC</th>\n",
       "      <td>0.952684</td>\n",
       "      <td>0.947426</td>\n",
       "      <td>0.950933</td>\n",
       "      <td>0.948596</td>\n",
       "      <td>0.951527</td>\n",
       "      <td>0.945674</td>\n",
       "      <td>0.942182</td>\n",
       "    </tr>\n",
       "    <tr>\n",
       "      <th>F1</th>\n",
       "      <td>0.534123</td>\n",
       "      <td>0.441873</td>\n",
       "      <td>0.497470</td>\n",
       "      <td>0.454301</td>\n",
       "      <td>0.570859</td>\n",
       "      <td>0.476926</td>\n",
       "      <td>0.503956</td>\n",
       "    </tr>\n",
       "    <tr>\n",
       "      <th>F2</th>\n",
       "      <td>0.429562</td>\n",
       "      <td>0.338019</td>\n",
       "      <td>0.389317</td>\n",
       "      <td>0.347012</td>\n",
       "      <td>0.488100</td>\n",
       "      <td>0.389025</td>\n",
       "      <td>0.443991</td>\n",
       "    </tr>\n",
       "    <tr>\n",
       "      <th>GMean</th>\n",
       "      <td>0.611308</td>\n",
       "      <td>0.534185</td>\n",
       "      <td>0.577902</td>\n",
       "      <td>0.541597</td>\n",
       "      <td>0.662746</td>\n",
       "      <td>0.582181</td>\n",
       "      <td>0.631348</td>\n",
       "    </tr>\n",
       "    <tr>\n",
       "      <th>SEN</th>\n",
       "      <td>0.380724</td>\n",
       "      <td>0.292701</td>\n",
       "      <td>0.340584</td>\n",
       "      <td>0.300277</td>\n",
       "      <td>0.445972</td>\n",
       "      <td>0.347066</td>\n",
       "      <td>0.412831</td>\n",
       "    </tr>\n",
       "    <tr>\n",
       "      <th>PREC</th>\n",
       "      <td>0.950000</td>\n",
       "      <td>0.977778</td>\n",
       "      <td>0.977778</td>\n",
       "      <td>1.000000</td>\n",
       "      <td>0.817589</td>\n",
       "      <td>0.796828</td>\n",
       "      <td>0.675155</td>\n",
       "    </tr>\n",
       "    <tr>\n",
       "      <th>SPEC</th>\n",
       "      <td>0.998121</td>\n",
       "      <td>0.999377</td>\n",
       "      <td>0.999377</td>\n",
       "      <td>1.000000</td>\n",
       "      <td>0.991222</td>\n",
       "      <td>0.993075</td>\n",
       "      <td>0.984272</td>\n",
       "    </tr>\n",
       "    <tr>\n",
       "      <th>MCC</th>\n",
       "      <td>0.578927</td>\n",
       "      <td>0.512856</td>\n",
       "      <td>0.556395</td>\n",
       "      <td>0.527582</td>\n",
       "      <td>0.579118</td>\n",
       "      <td>0.500356</td>\n",
       "      <td>0.496213</td>\n",
       "    </tr>\n",
       "    <tr>\n",
       "      <th>AUC</th>\n",
       "      <td>0.907282</td>\n",
       "      <td>0.915251</td>\n",
       "      <td>0.933768</td>\n",
       "      <td>0.870225</td>\n",
       "      <td>0.874794</td>\n",
       "      <td>0.875917</td>\n",
       "      <td>0.845543</td>\n",
       "    </tr>\n",
       "  </tbody>\n",
       "</table>\n",
       "</div>"
      ],
      "text/plain": [
       "        XGBoost        RF        ET       SVM       MLP      GBDT        AB\n",
       "ACC    0.952684  0.947426  0.950933  0.948596  0.951527  0.945674  0.942182\n",
       "F1     0.534123  0.441873  0.497470  0.454301  0.570859  0.476926  0.503956\n",
       "F2     0.429562  0.338019  0.389317  0.347012  0.488100  0.389025  0.443991\n",
       "GMean  0.611308  0.534185  0.577902  0.541597  0.662746  0.582181  0.631348\n",
       "SEN    0.380724  0.292701  0.340584  0.300277  0.445972  0.347066  0.412831\n",
       "PREC   0.950000  0.977778  0.977778  1.000000  0.817589  0.796828  0.675155\n",
       "SPEC   0.998121  0.999377  0.999377  1.000000  0.991222  0.993075  0.984272\n",
       "MCC    0.578927  0.512856  0.556395  0.527582  0.579118  0.500356  0.496213\n",
       "AUC    0.907282  0.915251  0.933768  0.870225  0.874794  0.875917  0.845543"
      ]
     },
     "execution_count": 26,
     "metadata": {},
     "output_type": "execute_result"
    }
   ],
   "source": [
    "ALL_eval"
   ]
  },
  {
   "cell_type": "code",
   "execution_count": 52,
   "id": "e951527b",
   "metadata": {
    "collapsed": true
   },
   "outputs": [
    {
     "name": "stdout",
     "output_type": "stream",
     "text": [
      "process_XGBoost\n",
      "process_RF\n",
      "process_ET\n",
      "process_MLP\n",
      "process_GBDT\n",
      "process_AB\n"
     ]
    }
   ],
   "source": [
    "index = []\n",
    "ALL_eval=pd.DataFrame()\n",
    "for i in ml:\n",
    "    print('process_{}'.format(i))\n",
    "    model = eval(i)\n",
    "    Evals = cv(model,X_train_norm,y_train)\n",
    "    ALL_eval = pd.concat([ALL_eval,Evals],axis=1)\n",
    "    index.append(\"{}\".format(i))\n",
    "ALL_eval.columns = index"
   ]
  },
  {
   "cell_type": "code",
   "execution_count": 54,
   "id": "f0ec7c41",
   "metadata": {
    "collapsed": true
   },
   "outputs": [
    {
     "data": {
      "text/plain": [
       "<matplotlib.legend.Legend at 0x22e719c0850>"
      ]
     },
     "execution_count": 54,
     "metadata": {},
     "output_type": "execute_result"
    },
    {
     "data": {
      "image/png": "[encoded data removed]",
      "text/plain": [
       "<Figure size 504x360 with 1 Axes>"
      ]
     },
     "metadata": {},
     "output_type": "display_data"
    }
   ],
   "source": [
    "evals = ALL_eval.loc[['AUC'],:]\n",
    "sns.set()\n",
    "evals.T.plot.bar(figsize=(7,5),rot=45,width = 0.7,grid = False)\n",
    "plt.ylim(0.6,1.0)\n",
    "plt.ylabel('Area Under Curve',fontsize=18)\n",
    "plt.xlabel('Performance of ML',fontsize=18)\n",
    "plt.legend(loc =  'lower left' )"
   ]
  },
  {
   "cell_type": "code",
   "execution_count": 7,
   "id": "03cb0360",
   "metadata": {},
   "outputs": [],
   "source": [
    "#下采样\n",
    "from imblearn.under_sampling import NearMiss,RandomUnderSampler,ClusterCentroids\n",
    "from sklearn.linear_model import LogisticRegression\n",
    "#上采样与下采样结合\n",
    "from imblearn.combine import SMOTEENN\n",
    "from imblearn.over_sampling import SMOTE"
   ]
  },
  {
   "cell_type": "code",
   "execution_count": 8,
   "id": "0ef3d8ed",
   "metadata": {},
   "outputs": [],
   "source": [
    "nm1 = NearMiss(version=1)\n",
    "nm2 = NearMiss(version=2)\n",
    "nm3 = NearMiss(version=3)\n",
    "rus = RandomUnderSampler(random_state=seed,replacement=True)\n",
    "cc = ClusterCentroids(random_state=seed)\n",
    "smotee = SMOTEENN(random_state=10)\n",
    "smote = SMOTE(random_state=seed)"
   ]
  },
  {
   "cell_type": "markdown",
   "id": "08433b19",
   "metadata": {},
   "source": [
    "##### 对不平衡数据处理方法与ML进行试验"
   ]
  },
  {
   "cell_type": "code",
   "execution_count": 12,
   "id": "05837bc2",
   "metadata": {
    "scrolled": true
   },
   "outputs": [
    {
     "name": "stdout",
     "output_type": "stream",
     "text": [
      "process_XGBoost\n",
      "process_RF\n",
      "process_ET\n",
      "process_SVM\n",
      "process_GBDT\n",
      "process_AB\n",
      "process_XGBoost\n",
      "process_RF\n",
      "process_ET\n",
      "process_SVM\n",
      "process_GBDT\n",
      "process_AB\n",
      "process_XGBoost\n",
      "process_RF\n",
      "process_ET\n",
      "process_SVM\n",
      "process_GBDT\n",
      "process_AB\n",
      "process_XGBoost\n",
      "process_RF\n",
      "process_ET\n",
      "process_SVM\n",
      "process_GBDT\n",
      "process_AB\n",
      "process_XGBoost\n",
      "process_RF\n",
      "process_ET\n",
      "process_SVM\n",
      "process_GBDT\n",
      "process_AB\n",
      "process_XGBoost\n",
      "process_RF\n",
      "process_ET\n",
      "process_SVM\n",
      "process_GBDT\n",
      "process_AB\n",
      "process_XGBoost\n",
      "process_RF\n",
      "process_ET\n",
      "process_SVM\n",
      "process_GBDT\n",
      "process_AB\n"
     ]
    }
   ],
   "source": [
    "baml = ['nm1','nm2','nm3','rus','cc','smotee','smote']\n",
    "ml_eval = pd.DataFrame()\n",
    "index = []\n",
    "for i in baml:\n",
    "    for m in ml:\n",
    "        print('process_{}'.format(m))\n",
    "        X_resampled ,y_resampled = eval(i).fit_sample(X_train,y_train)\n",
    "        evals = cv(eval(m),X_resampled,y_resampled)\n",
    "        ml_eval = pd.concat([ml_eval,evals],axis=1)\n",
    "        index.append(\"{}_{}\".format(i,m))\n",
    "ml_eval.columns = index\n",
    "ml_eval.to_csv('results/balance_eval_AUC/different_balance_ml.csv')"
   ]
  },
  {
   "cell_type": "code",
   "execution_count": 14,
   "id": "d7647ee6",
   "metadata": {
    "scrolled": true
   },
   "outputs": [
    {
     "name": "stdout",
     "output_type": "stream",
     "text": [
      "process_XGBoost\n",
      "process_RF\n",
      "process_ET\n",
      "process_SVM\n",
      "process_GBDT\n",
      "process_AB\n",
      "process_XGBoost\n",
      "process_RF\n",
      "process_ET\n",
      "process_SVM\n",
      "process_GBDT\n",
      "process_AB\n",
      "process_XGBoost\n",
      "process_RF\n",
      "process_ET\n",
      "process_SVM\n",
      "process_GBDT\n",
      "process_AB\n",
      "process_XGBoost\n",
      "process_RF\n",
      "process_ET\n",
      "process_SVM\n",
      "process_GBDT\n",
      "process_AB\n",
      "process_XGBoost\n",
      "process_RF\n",
      "process_ET\n",
      "process_SVM\n",
      "process_GBDT\n",
      "process_AB\n",
      "process_XGBoost\n",
      "process_RF\n",
      "process_ET\n",
      "process_SVM\n",
      "process_GBDT\n",
      "process_AB\n",
      "process_XGBoost\n",
      "process_RF\n",
      "process_ET\n",
      "process_SVM\n",
      "process_GBDT\n",
      "process_AB\n"
     ]
    }
   ],
   "source": [
    "baml = ['nm1','nm2','nm3','rus','cc','smotee','smote']\n",
    "ml_eval_test = []\n",
    "index = []\n",
    "for i in baml:\n",
    "    for m in ml:\n",
    "        print('process_{}'.format(m))\n",
    "        X_resampled ,y_resampled = eval(i).fit_sample(X_train,y_train)\n",
    "        eval(m).fit(X_resampled,y_resampled)\n",
    "        evals = evaluate(X_test,y_test,eval(m))\n",
    "        ml_eval_test = ml_eval_test + [evals]\n",
    "        index.append(\"{}_{}\".format(i,m))\n",
    "ml_eval_test = pd.DataFrame(ml_eval_test).T\n",
    "ml_eval_test.columns = index\n",
    "ml_eval_test.to_csv('results/balance_eval_AUC/different_balance_ml_test.csv')"
   ]
  },
  {
   "cell_type": "code",
   "execution_count": 2,
   "id": "36a247ad",
   "metadata": {},
   "outputs": [],
   "source": [
    "X_train_norm = pd.read_csv('data/train/X_train_norm.csv').to_numpy()\n",
    "X_test_norm = pd.read_csv('data/test/X_test_norm.csv').to_numpy()\n",
    "X_train_std = pd.read_csv('data/train/X_train_std.csv').to_numpy()\n",
    "X_test_std = pd.read_csv('data/test/X_test_std.csv').to_numpy()\n",
    "y_train = pd.read_csv('data/train/y_train.csv').to_numpy()\n",
    "y_test = pd.read_csv('data/test/y_test.csv').to_numpy()"
   ]
  },
  {
   "cell_type": "code",
   "execution_count": 9,
   "id": "33d31edd",
   "metadata": {
    "scrolled": true
   },
   "outputs": [
    {
     "name": "stdout",
     "output_type": "stream",
     "text": [
      "process_XGBoost\n",
      "process_RF\n",
      "process_ET\n",
      "process_GBDT\n",
      "process_XGBoost\n",
      "process_RF\n",
      "process_ET\n",
      "process_GBDT\n",
      "process_XGBoost\n",
      "process_RF\n",
      "process_ET\n",
      "process_GBDT\n",
      "process_XGBoost\n",
      "process_RF\n",
      "process_ET\n",
      "process_GBDT\n",
      "process_XGBoost\n",
      "process_RF\n",
      "process_ET\n",
      "process_GBDT\n",
      "process_XGBoost\n",
      "process_RF\n",
      "process_ET\n",
      "process_GBDT\n",
      "process_XGBoost\n",
      "process_RF\n",
      "process_ET\n",
      "process_GBDT\n"
     ]
    }
   ],
   "source": [
    "baml = ['nm1','nm2','nm3','rus','cc','smotee','smote']\n",
    "ml_eval = pd.DataFrame()\n",
    "index = []\n",
    "for i in baml:\n",
    "    for m in ml:\n",
    "        print('process_{}'.format(m))\n",
    "        X_resampled ,y_resampled = eval(i).fit_sample(X_train_norm,y_train)\n",
    "        evals = cv(eval(m),X_resampled,y_resampled)\n",
    "        ml_eval = pd.concat([ml_eval,evals],axis=1)\n",
    "        index.append(\"{}_{}\".format(i,m))\n",
    "ml_eval.columns = index\n",
    "ml_eval.to_csv('results/balance_eval_AUC/different_balance_ml_norm.csv')"
   ]
  },
  {
   "cell_type": "code",
   "execution_count": 10,
   "id": "cb3ded5e",
   "metadata": {
    "scrolled": true
   },
   "outputs": [
    {
     "name": "stdout",
     "output_type": "stream",
     "text": [
      "process_XGBoost\n",
      "process_RF\n",
      "process_ET\n",
      "process_GBDT\n",
      "process_XGBoost\n",
      "process_RF\n",
      "process_ET\n",
      "process_GBDT\n",
      "process_XGBoost\n",
      "process_RF\n",
      "process_ET\n",
      "process_GBDT\n",
      "process_XGBoost\n",
      "process_RF\n",
      "process_ET\n",
      "process_GBDT\n",
      "process_XGBoost\n",
      "process_RF\n",
      "process_ET\n",
      "process_GBDT\n",
      "process_XGBoost\n",
      "process_RF\n",
      "process_ET\n",
      "process_GBDT\n",
      "process_XGBoost\n",
      "process_RF\n",
      "process_ET\n",
      "process_GBDT\n"
     ]
    }
   ],
   "source": [
    "baml = ['nm1','nm2','nm3','rus','cc','smotee','smote']\n",
    "ml_eval = pd.DataFrame()\n",
    "index = []\n",
    "for i in baml:\n",
    "    for m in ml:\n",
    "        print('process_{}'.format(m))\n",
    "        X_resampled ,y_resampled = eval(i).fit_sample(X_train_std,y_train)\n",
    "        evals = cv(eval(m),X_resampled,y_resampled)\n",
    "        ml_eval = pd.concat([ml_eval,evals],axis=1)\n",
    "        index.append(\"{}_{}\".format(i,m))\n",
    "ml_eval.columns = index\n",
    "ml_eval.to_csv('results/balance_eval_AUC/different_balance_ml_std.csv')"
   ]
  },
  {
   "cell_type": "code",
   "execution_count": 12,
   "id": "35680ddc",
   "metadata": {},
   "outputs": [
    {
     "name": "stdout",
     "output_type": "stream",
     "text": [
      "process_XGBoost\n",
      "process_RF\n",
      "process_ET\n",
      "process_GBDT\n",
      "process_XGBoost\n",
      "process_RF\n",
      "process_ET\n",
      "process_GBDT\n",
      "process_XGBoost\n",
      "process_RF\n",
      "process_ET\n",
      "process_GBDT\n",
      "process_XGBoost\n",
      "process_RF\n",
      "process_ET\n",
      "process_GBDT\n",
      "process_XGBoost\n",
      "process_RF\n",
      "process_ET\n",
      "process_GBDT\n",
      "process_XGBoost\n",
      "process_RF\n",
      "process_ET\n",
      "process_GBDT\n",
      "process_XGBoost\n",
      "process_RF\n",
      "process_ET\n",
      "process_GBDT\n"
     ]
    }
   ],
   "source": [
    "baml = ['nm1','nm2','nm3','rus','cc','smotee','smote']\n",
    "ml_eval_test = []\n",
    "index = []\n",
    "for i in baml:\n",
    "    for m in ml:\n",
    "        print('process_{}'.format(m))\n",
    "        X_resampled ,y_resampled = eval(i).fit_sample(X_train_norm,y_train)\n",
    "        eval(m).fit(X_resampled,y_resampled)\n",
    "        evals = evaluate(X_test_norm,y_test,eval(m))\n",
    "        ml_eval_test = ml_eval_test + [evals]\n",
    "        index.append(\"{}_{}\".format(i,m))\n",
    "ml_eval_test = pd.DataFrame(ml_eval_test).T\n",
    "ml_eval_test.columns = index\n",
    "ml_eval_test.to_csv('results/balance_eval_AUC/different_balance_ml_norm_test.csv')"
   ]
  },
  {
   "cell_type": "code",
   "execution_count": 13,
   "id": "1bef1650",
   "metadata": {},
   "outputs": [
    {
     "name": "stdout",
     "output_type": "stream",
     "text": [
      "process_XGBoost\n",
      "process_RF\n",
      "process_ET\n",
      "process_GBDT\n",
      "process_XGBoost\n",
      "process_RF\n",
      "process_ET\n",
      "process_GBDT\n",
      "process_XGBoost\n",
      "process_RF\n",
      "process_ET\n",
      "process_GBDT\n",
      "process_XGBoost\n",
      "process_RF\n",
      "process_ET\n",
      "process_GBDT\n",
      "process_XGBoost\n",
      "process_RF\n",
      "process_ET\n",
      "process_GBDT\n",
      "process_XGBoost\n",
      "process_RF\n",
      "process_ET\n",
      "process_GBDT\n",
      "process_XGBoost\n",
      "process_RF\n",
      "process_ET\n",
      "process_GBDT\n"
     ]
    }
   ],
   "source": [
    "baml = ['nm1','nm2','nm3','rus','cc','smotee','smote']\n",
    "ml_eval_test = []\n",
    "index = []\n",
    "for i in baml:\n",
    "    for m in ml:\n",
    "        print('process_{}'.format(m))\n",
    "        X_resampled ,y_resampled = eval(i).fit_sample(X_train_std,y_train)\n",
    "        eval(m).fit(X_resampled,y_resampled)\n",
    "        evals = evaluate(X_test_std,y_test,eval(m))\n",
    "        ml_eval_test = ml_eval_test + [evals]\n",
    "        index.append(\"{}_{}\".format(i,m))\n",
    "ml_eval_test = pd.DataFrame(ml_eval_test).T\n",
    "ml_eval_test.columns = index\n",
    "ml_eval_test.to_csv('results/balance_eval_AUC/different_balance_ml_std_test.csv')"
   ]
  },
  {
   "cell_type": "code",
   "execution_count": 61,
   "id": "95a12d5b",
   "metadata": {},
   "outputs": [
    {
     "data": {
      "text/plain": [
       "<matplotlib.legend.Legend at 0x2ab80491f70>"
      ]
     },
     "execution_count": 61,
     "metadata": {},
     "output_type": "execute_result"
    },
    {
     "data": {
      "image/png": "[encoded data removed]",
      "text/plain": [
       "<Figure size 504x216 with 1 Axes>"
      ]
     },
     "metadata": {},
     "output_type": "display_data"
    }
   ],
   "source": [
    "evals = pd.read_excel('results/balance_eval_AUC/AUC.xlsx',index_col=0)\n",
    "sns.set()\n",
    "evals.T.plot(figsize=(7,3),rot=45,grid = False)\n",
    "plt.ylim(0.5,1.1)\n",
    "plt.ylabel('Area Under Curve',fontsize=18)\n",
    "plt.xlabel('Performance of ML',fontsize=18)\n",
    "plt.legend(loc =  'lower left' )"
   ]
  },
  {
   "cell_type": "code",
   "execution_count": null,
   "id": "a22a5c12",
   "metadata": {},
   "outputs": [],
   "source": []
  },
  {
   "cell_type": "code",
   "execution_count": null,
   "id": "a9b1abab",
   "metadata": {},
   "outputs": [],
   "source": []
  }
 ],
 "metadata": {
  "kernelspec": {
   "display_name": "Python 3 (ipykernel)",
   "language": "python",
   "name": "python3"
  },
  "language_info": {
   "codemirror_mode": {
    "name": "ipython",
    "version": 3
   },
   "file_extension": ".py",
   "mimetype": "text/x-python",
   "name": "python",
   "nbconvert_exporter": "python",
   "pygments_lexer": "ipython3",
   "version": "3.8.3"
  }
 },
 "nbformat": 4,
 "nbformat_minor": 5
}
