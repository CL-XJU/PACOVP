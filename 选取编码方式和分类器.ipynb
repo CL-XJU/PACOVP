{
 "cells": [
  {
   "cell_type": "code",
   "execution_count": 1,
   "id": "46eb6618",
   "metadata": {},
   "outputs": [],
   "source": [
    "import numpy as np\n",
    "import pandas as pd\n",
    "import os, re, math, platform\n",
    "from pathlib import Path\n",
    "import matplotlib.pyplot as plt\n",
    "import json\n",
    "import joblib\n",
    "from scipy.stats import randint as sp_randint\n",
    "from sklearn.model_selection import train_test_split\n",
    "from sklearn.model_selection import KFold\n",
    "from sklearn.model_selection import RandomizedSearchCV\n",
    "from imblearn.over_sampling import SMOTE\n",
    "from sklearn.preprocessing import StandardScaler\n",
    "from sklearn.metrics import matthews_corrcoef, confusion_matrix\n",
    "from sklearn.metrics import precision_recall_curve, roc_curve, auc, fbeta_score\n",
    "from imblearn.metrics import geometric_mean_score\n",
    "from sklearn.neural_network import MLPClassifier\n",
    "from xgboost import XGBClassifier \n",
    "from xgboost import plot_importance\n",
    "from sklearn.ensemble import GradientBoostingClassifier,RandomForestClassifier,ExtraTreesClassifier,AdaBoostClassifier\n",
    "from sklearn.linear_model import LogisticRegression\n",
    "from sklearn.neighbors import KNeighborsClassifier\n",
    "from sklearn.svm import SVC\n",
    "from Bio import SeqIO\n",
    "from Bio.SeqUtils.ProtParam import ProteinAnalysis as PA\n",
    "from modlamp.descriptors import PeptideDescriptor, GlobalDescriptor\n",
    "from matplotlib import pyplot\n",
    "from sklearn.metrics import matthews_corrcoef, confusion_matrix,precision_recall_curve, roc_curve, auc, fbeta_score,roc_auc_score\n",
    "from fea_extract import read_fasta,insert_AAC,insert_DPC,insert_CKSAAGP,insert_CTD,insert_PAAC,insert_AAI,insert_GTPC,insert_QSO,insert_AAE,insert_PSAAC,insert_word2int,insert_ASDC\n",
    "import warnings \n",
    "from tools import cv,evaluate\n",
    "warnings.filterwarnings('ignore')"
   ]
  },
  {
   "cell_type": "code",
   "execution_count": 2,
   "id": "4a15a655",
   "metadata": {},
   "outputs": [],
   "source": [
    "seed = 10\n",
    "Path('./results/evalue/').mkdir(exist_ok=True,parents=True)\n",
    "Path('./results/evalue_balance/').mkdir(exist_ok=True,parents=True)"
   ]
  },
  {
   "cell_type": "code",
   "execution_count": 4,
   "id": "85c6c4b8",
   "metadata": {},
   "outputs": [],
   "source": [
    "GBDT = GradientBoostingClassifier(random_state=seed)\n",
    "ET = ExtraTreesClassifier(random_state=seed)\n",
    "SVM = SVC(random_state=seed,probability=True)\n",
    "MLP = MLPClassifier(hidden_layer_sizes=32,learning_rate=\"adaptive\",random_state=seed)\n",
    "RF = RandomForestClassifier(random_state=seed)\n",
    "XGBoost = XGBClassifier(random_state=seed)\n",
    "LR  = LogisticRegression(random_state=seed)\n",
    "AB = AdaBoostClassifier(random_state=seed)\n",
    "clf_feature_order = {\n",
    "    \"AAC\": [\"XGBoost\",\"RF\",\"ET\",\"SVM\",\"MLP\",\"GBDT\",\"AB\"],\n",
    "    \"PAAC\": [\"XGBoost\",\"RF\",\"ET\",\"SVM\",\"MLP\",\"GBDT\",\"AB\"],\n",
    "    \"CKSAAGP\": [\"XGBoost\",\"RF\",\"ET\",\"SVM\",\"MLP\",\"GBDT\",\"AB\"],\n",
    "#     \"PSAAC\": [\"XGBoost\",\"RF\",\"ET\",\"SVM\",\"MLP\",\"GBDT\",\"AB\"],\n",
    "    \"DPC\": [\"XGBoost\",\"RF\",\"ET\",\"SVM\",\"MLP\",\"GBDT\",\"AB\"],\n",
    "    \"GTPC\": [\"XGBoost\",\"RF\",\"ET\",\"SVM\",\"MLP\",\"GBDT\",\"AB\"],\n",
    "    \"QSO\": [\"XGBoost\",\"RF\",\"ET\",\"SVM\",\"MLP\",\"GBDT\",\"AB\"],\n",
    "#     \"AAE\": [\"XGBoost\",\"RF\",\"ET\",\"SVM\",\"MLP\",\"GBDT\",\"AB\"],\n",
    "#     \"AAI\": [\"XGBoost\",\"RF\",\"ET\",\"SVM\",\"MLP\",\"GBDT\",\"AB\"],\n",
    "    \"ASDC\": [\"XGBoost\",\"RF\",\"ET\",\"SVM\",\"MLP\",\"GBDT\",\"AB\"],\n",
    "    \"CTD\" :[\"XGBoost\",\"RF\",\"ET\",\"SVM\",\"MLP\",\"GBDT\",\"AB\"],\n",
    "    \"All_data\" :[\"XGBoost\",\"RF\",\"ET\",\"SVM\",\"MLP\",\"GBDT\",\"AB\"]\n",
    "}"
   ]
  },
  {
   "cell_type": "markdown",
   "id": "f6a786cd",
   "metadata": {},
   "source": [
    "###### 5折交叉验证进行试验"
   ]
  },
  {
   "cell_type": "code",
   "execution_count": 5,
   "id": "841efe0f",
   "metadata": {
    "scrolled": false
   },
   "outputs": [
    {
     "name": "stdout",
     "output_type": "stream",
     "text": [
      "process_AAC\n",
      "process_PAAC\n",
      "process_CKSAAGP\n",
      "process_DPC\n",
      "process_GTPC\n",
      "process_QSO\n",
      "process_ASDC\n",
      "process_CTD\n",
      "process_All_data\n"
     ]
    }
   ],
   "source": [
    "index = []\n",
    "ALL_evals = pd.DataFrame()\n",
    "for (n,m) in clf_feature_order.items():\n",
    "    print('process_{}'.format(n))\n",
    "    X = pd.read_csv('results/process_data/train_{}.csv'.format(n))\n",
    "    feature = X.columns[2:]\n",
    "    X_ = X[feature] .to_numpy()\n",
    "    Y_ = pd.read_csv('data/train/y_train.csv').to_numpy()\n",
    "    #打乱数据\n",
    "    np.random.seed(1234)\n",
    "    idx = np.random.permutation(len(X_))\n",
    "    X_ = X_[idx]\n",
    "    Y_ = Y_[idx]\n",
    "    for i in m:\n",
    "        model = eval(i)\n",
    "        Evals = cv(model,X_,Y_)\n",
    "        ALL_evals = pd.concat([ALL_evals,Evals],axis=1)\n",
    "        index.append('{}_{}'.format(n,i))\n",
    "ALL_evals.columns=index"
   ]
  },
  {
   "cell_type": "code",
   "execution_count": 6,
   "id": "59028ead",
   "metadata": {},
   "outputs": [],
   "source": [
    "#针对测试集五折交叉验证\n",
    "def cv_test(model,df_X_train,df_y_train,df_X_test,df_y_test,n_folds=5):\n",
    "    eval_dict = []\n",
    "    kf = KFold(n_splits=5, shuffle=True, random_state=10)#K-折叠交叉验证。\n",
    "    for train_index, test_index in kf.split(df_X_train, df_y_train):\n",
    "        X_train_ = df_X_train[train_index]\n",
    "        y_train_ = df_y_train[train_index]\n",
    "        model.fit(X_train_,y_train_)\n",
    "        eval_dictionary = evaluate(df_X_test,df_y_test,model)\n",
    "        eval_dict = eval_dict+[eval_dictionary]\n",
    "    evals = pd.DataFrame(eval_dict).mean()\n",
    "    Evals = pd.DataFrame(evals)\n",
    "    return Evals"
   ]
  },
  {
   "cell_type": "code",
   "execution_count": 8,
   "id": "647f291c",
   "metadata": {
    "scrolled": true
   },
   "outputs": [
    {
     "name": "stdout",
     "output_type": "stream",
     "text": [
      "process_AAC\n",
      "process_PAAC\n",
      "process_CKSAAGP\n",
      "process_DPC\n",
      "process_GTPC\n",
      "process_QSO\n",
      "process_ASDC\n",
      "process_CTD\n",
      "process_All_data\n"
     ]
    }
   ],
   "source": [
    "index = []\n",
    "ALL_evals_test = pd.DataFrame()\n",
    "for (n,m) in clf_feature_order.items():\n",
    "    print('process_{}'.format(n))\n",
    "    X_train = pd.read_csv('results/process_data/train_{}.csv'.format(n))\n",
    "    X_test = pd.read_csv('results/process_data/test_{}.csv'.format(n))\n",
    "    feature = X_train.columns[2:]\n",
    "    x_train = X_train[feature] .to_numpy()\n",
    "    x_test = X_test[feature].to_numpy()\n",
    "    y_train = pd.read_csv('data/train/y_train.csv').to_numpy()\n",
    "    y_test = pd.read_csv('data/test/y_test.csv').to_numpy()\n",
    "    #打乱数据\n",
    "#     np.random.seed(1234)\n",
    "#     idx_test = np.random.permutation(len(x_test))\n",
    "#     idx_train = np.random.permutation(len(x_train))\n",
    "#     x_test1 = x_test[idx_test]\n",
    "#     y_test1 = y_test[idx_test]\n",
    "#     x_train1 = x_train[idx_train]\n",
    "#     y_train1 = y_train[idx_train]\n",
    "    for i in m:\n",
    "        eval_dict=[]\n",
    "        model = eval(i)\n",
    "        Evals = cv_test(model,x_train,y_train,x_test,y_test)\n",
    "        ALL_evals_test = pd.concat([ALL_evals_test,Evals],axis=1)\n",
    "        index.append('{}_{}'.format(n,i))\n",
    "ALL_evals_test.columns=index"
   ]
  },
  {
   "cell_type": "code",
   "execution_count": 7,
   "id": "4e0b8af4",
   "metadata": {},
   "outputs": [],
   "source": [
    "ALL_evals.to_csv(\"results/evalue/select_encodings_ML.csv\")"
   ]
  },
  {
   "cell_type": "code",
   "execution_count": 9,
   "id": "9d63d40b",
   "metadata": {},
   "outputs": [],
   "source": [
    "ALL_evals_test.to_csv(\"results/evalue/select_encodings_ML_test.csv\")"
   ]
  },
  {
   "cell_type": "code",
   "execution_count": 5,
   "id": "e22531a7",
   "metadata": {},
   "outputs": [],
   "source": [
    "import matplotlib.pyplot as plt\n",
    "import seaborn as sns\n",
    "import pandas as pd"
   ]
  },
  {
   "cell_type": "code",
   "execution_count": 6,
   "id": "399cfe1e",
   "metadata": {},
   "outputs": [],
   "source": [
    "data_eval = pd.read_excel('results/evalue/AUC_ML_encod.xlsx',index_col=0,sheet_name='Sheet2')"
   ]
  },
  {
   "cell_type": "code",
   "execution_count": 14,
   "id": "d79b6015",
   "metadata": {},
   "outputs": [],
   "source": [
    "data_eval = data_eval.loc['Average'].T"
   ]
  },
  {
   "cell_type": "code",
   "execution_count": 21,
   "id": "60a1aed4",
   "metadata": {
    "scrolled": true
   },
   "outputs": [
    {
     "data": {
      "text/plain": [
       "<matplotlib.legend.Legend at 0x15aca631f10>"
      ]
     },
     "execution_count": 21,
     "metadata": {},
     "output_type": "execute_result"
    },
    {
     "data": {
      "image/png": "[encoded data removed]",
      "text/plain": [
       "<Figure size 648x360 with 1 Axes>"
      ]
     },
     "metadata": {},
     "output_type": "display_data"
    }
   ],
   "source": [
    "sns.set()\n",
    "data_eval.plot.bar(figsize=(9,5),rot=45,width = 0.5,grid = False)\n",
    "plt.ylim(0.50,1.0)\n",
    "plt.ylabel('Average area Under Curve',fontsize=15)\n",
    "plt.xlabel('ML classifiers',fontsize=15)\n",
    "plt.legend(loc =  'lower left' )"
   ]
  },
  {
   "cell_type": "code",
   "execution_count": 2,
   "id": "17fb2776",
   "metadata": {},
   "outputs": [],
   "source": [
    "data_eval = pd.read_excel('results/evalue/AUC_ML_encod.xlsx',index_col=0,sheet_name='Sheet2').T"
   ]
  },
  {
   "cell_type": "code",
   "execution_count": 4,
   "id": "87627210",
   "metadata": {
    "scrolled": true
   },
   "outputs": [
    {
     "data": {
      "text/plain": [
       "<matplotlib.legend.Legend at 0x15a9a2f2160>"
      ]
     },
     "execution_count": 4,
     "metadata": {},
     "output_type": "execute_result"
    },
    {
     "data": {
      "image/png": "[encoded data removed]",
      "text/plain": [
       "<Figure size 720x360 with 1 Axes>"
      ]
     },
     "metadata": {
      "needs_background": "light"
     },
     "output_type": "display_data"
    }
   ],
   "source": [
    "\n",
    "data_eval.plot.bar(figsize=(10,5),rot=45,width = 0.8,grid = False)\n",
    "plt.ylim(0.50,1.0)\n",
    "plt.ylabel('Area Under Curve',fontsize=18)\n",
    "plt.xlabel('Performance of ML and Encode',fontsize=18)\n",
    "plt.legend(loc =  'lower left' )"
   ]
  },
  {
   "cell_type": "code",
   "execution_count": null,
   "id": "96e44fc2",
   "metadata": {},
   "outputs": [],
   "source": []
  },
  {
   "cell_type": "code",
   "execution_count": null,
   "id": "115068a2",
   "metadata": {},
   "outputs": [],
   "source": []
  },
  {
   "cell_type": "code",
   "execution_count": null,
   "id": "2acf64b5",
   "metadata": {},
   "outputs": [],
   "source": []
  },
  {
   "cell_type": "code",
   "execution_count": null,
   "id": "f6264eed",
   "metadata": {},
   "outputs": [],
   "source": []
  },
  {
   "cell_type": "code",
   "execution_count": 10,
   "id": "4f268ee6",
   "metadata": {},
   "outputs": [],
   "source": [
    "from skimage import transform,data\n",
    "import matplotlib.pyplot as plt\n",
    "import numpy as np"
   ]
  },
  {
   "cell_type": "code",
   "execution_count": 17,
   "id": "8d729e8e",
   "metadata": {},
   "outputs": [],
   "source": [
    "a = [2,5,8,4,3,8,7,1]\n",
    "b = np.array(a).reshape(8,1)"
   ]
  },
  {
   "cell_type": "code",
   "execution_count": 22,
   "id": "156528a8",
   "metadata": {},
   "outputs": [
    {
     "data": {
      "image/png": "[encoded data removed]",
      "text/plain": [
       "<Figure size 432x288 with 2 Axes>"
      ]
     },
     "metadata": {
      "needs_background": "light"
     },
     "output_type": "display_data"
    }
   ],
   "source": [
    "dst=transform.resize(b, (16, 16))\n",
    "plt.figure('resize')\n",
    "\n",
    "plt.subplot(121)\n",
    "plt.title('before resize')\n",
    "plt.imshow(c,plt.cm.gray)\n",
    "\n",
    "plt.subplot(122)\n",
    "plt.title('before resize')\n",
    "plt.imshow(dst,plt.cm.gray)\n",
    "\n",
    "plt.show()"
   ]
  },
  {
   "cell_type": "code",
   "execution_count": 25,
   "id": "a237e58c",
   "metadata": {},
   "outputs": [
    {
     "name": "stdout",
     "output_type": "stream",
     "text": [
      "(8, 1)\n",
      "[[2]\n",
      " [5]\n",
      " [8]\n",
      " [4]\n",
      " [3]\n",
      " [8]\n",
      " [7]\n",
      " [1]]\n",
      "(16, 16)\n",
      "[[1.51339918e-09 1.51339918e-09 1.51339918e-09 1.51339918e-09\n",
      "  1.51339918e-09 1.51339918e-09 1.51339918e-09 1.51339918e-09\n",
      "  1.51339918e-09 1.51339918e-09 1.51339918e-09 1.51339918e-09\n",
      "  1.51339918e-09 1.51339918e-09 1.51339918e-09 1.51339918e-09]\n",
      " [1.51339918e-09 1.51339918e-09 1.51339918e-09 1.51339918e-09\n",
      "  1.51339918e-09 1.51339918e-09 1.51339918e-09 1.51339918e-09\n",
      "  1.51339918e-09 1.51339918e-09 1.51339918e-09 1.51339918e-09\n",
      "  1.51339918e-09 1.51339918e-09 1.51339918e-09 1.51339918e-09]\n",
      " [2.21189112e-09 2.21189112e-09 2.21189112e-09 2.21189112e-09\n",
      "  2.21189112e-09 2.21189112e-09 2.21189112e-09 2.21189112e-09\n",
      "  2.21189112e-09 2.21189112e-09 2.21189112e-09 2.21189112e-09\n",
      "  2.21189112e-09 2.21189112e-09 2.21189112e-09 2.21189112e-09]\n",
      " [2.91038305e-09 2.91038305e-09 2.91038305e-09 2.91038305e-09\n",
      "  2.91038305e-09 2.91038305e-09 2.91038305e-09 2.91038305e-09\n",
      "  2.91038305e-09 2.91038305e-09 2.91038305e-09 2.91038305e-09\n",
      "  2.91038305e-09 2.91038305e-09 2.91038305e-09 2.91038305e-09]\n",
      " [3.60887498e-09 3.60887498e-09 3.60887498e-09 3.60887498e-09\n",
      "  3.60887498e-09 3.60887498e-09 3.60887498e-09 3.60887498e-09\n",
      "  3.60887498e-09 3.60887498e-09 3.60887498e-09 3.60887498e-09\n",
      "  3.60887498e-09 3.60887498e-09 3.60887498e-09 3.60887498e-09]\n",
      " [3.49245966e-09 3.49245966e-09 3.49245966e-09 3.49245966e-09\n",
      "  3.49245966e-09 3.49245966e-09 3.49245966e-09 3.49245966e-09\n",
      "  3.49245966e-09 3.49245966e-09 3.49245966e-09 3.49245966e-09\n",
      "  3.49245966e-09 3.49245966e-09 3.49245966e-09 3.49245966e-09]\n",
      " [2.56113708e-09 2.56113708e-09 2.56113708e-09 2.56113708e-09\n",
      "  2.56113708e-09 2.56113708e-09 2.56113708e-09 2.56113708e-09\n",
      "  2.56113708e-09 2.56113708e-09 2.56113708e-09 2.56113708e-09\n",
      "  2.56113708e-09 2.56113708e-09 2.56113708e-09 2.56113708e-09]\n",
      " [1.97906047e-09 1.97906047e-09 1.97906047e-09 1.97906047e-09\n",
      "  1.97906047e-09 1.97906047e-09 1.97906047e-09 1.97906047e-09\n",
      "  1.97906047e-09 1.97906047e-09 1.97906047e-09 1.97906047e-09\n",
      "  1.97906047e-09 1.97906047e-09 1.97906047e-09 1.97906047e-09]\n",
      " [1.74622983e-09 1.74622983e-09 1.74622983e-09 1.74622983e-09\n",
      "  1.74622983e-09 1.74622983e-09 1.74622983e-09 1.74622983e-09\n",
      "  1.74622983e-09 1.74622983e-09 1.74622983e-09 1.74622983e-09\n",
      "  1.74622983e-09 1.74622983e-09 1.74622983e-09 1.74622983e-09]\n",
      " [2.21189112e-09 2.21189112e-09 2.21189112e-09 2.21189112e-09\n",
      "  2.21189112e-09 2.21189112e-09 2.21189112e-09 2.21189112e-09\n",
      "  2.21189112e-09 2.21189112e-09 2.21189112e-09 2.21189112e-09\n",
      "  2.21189112e-09 2.21189112e-09 2.21189112e-09 2.21189112e-09]\n",
      " [3.37604433e-09 3.37604433e-09 3.37604433e-09 3.37604433e-09\n",
      "  3.37604433e-09 3.37604433e-09 3.37604433e-09 3.37604433e-09\n",
      "  3.37604433e-09 3.37604433e-09 3.37604433e-09 3.37604433e-09\n",
      "  3.37604433e-09 3.37604433e-09 3.37604433e-09 3.37604433e-09]\n",
      " [3.84170562e-09 3.84170562e-09 3.84170562e-09 3.84170562e-09\n",
      "  3.84170562e-09 3.84170562e-09 3.84170562e-09 3.84170562e-09\n",
      "  3.84170562e-09 3.84170562e-09 3.84170562e-09 3.84170562e-09\n",
      "  3.84170562e-09 3.84170562e-09 3.84170562e-09 3.84170562e-09]\n",
      " [3.60887498e-09 3.60887498e-09 3.60887498e-09 3.60887498e-09\n",
      "  3.60887498e-09 3.60887498e-09 3.60887498e-09 3.60887498e-09\n",
      "  3.60887498e-09 3.60887498e-09 3.60887498e-09 3.60887498e-09\n",
      "  3.60887498e-09 3.60887498e-09 3.60887498e-09 3.60887498e-09]\n",
      " [2.79396772e-09 2.79396772e-09 2.79396772e-09 2.79396772e-09\n",
      "  2.79396772e-09 2.79396772e-09 2.79396772e-09 2.79396772e-09\n",
      "  2.79396772e-09 2.79396772e-09 2.79396772e-09 2.79396772e-09\n",
      "  2.79396772e-09 2.79396772e-09 2.79396772e-09 2.79396772e-09]\n",
      " [1.39698386e-09 1.39698386e-09 1.39698386e-09 1.39698386e-09\n",
      "  1.39698386e-09 1.39698386e-09 1.39698386e-09 1.39698386e-09\n",
      "  1.39698386e-09 1.39698386e-09 1.39698386e-09 1.39698386e-09\n",
      "  1.39698386e-09 1.39698386e-09 1.39698386e-09 1.39698386e-09]\n",
      " [1.39698386e-09 1.39698386e-09 1.39698386e-09 1.39698386e-09\n",
      "  1.39698386e-09 1.39698386e-09 1.39698386e-09 1.39698386e-09\n",
      "  1.39698386e-09 1.39698386e-09 1.39698386e-09 1.39698386e-09\n",
      "  1.39698386e-09 1.39698386e-09 1.39698386e-09 1.39698386e-09]]\n"
     ]
    }
   ],
   "source": [
    "print(b.shape)\n",
    "print(b)\n",
    "print(dst.shape)\n",
    "print(dst)"
   ]
  },
  {
   "cell_type": "code",
   "execution_count": null,
   "id": "1e045f80",
   "metadata": {},
   "outputs": [],
   "source": []
  },
  {
   "cell_type": "code",
   "execution_count": null,
   "id": "553ef15d",
   "metadata": {},
   "outputs": [],
   "source": []
  },
  {
   "cell_type": "markdown",
   "id": "0ca741a5",
   "metadata": {},
   "source": [
    "###### 选取Word2int与ET"
   ]
  },
  {
   "cell_type": "code",
   "execution_count": null,
   "id": "49f98930",
   "metadata": {},
   "outputs": [],
   "source": []
  },
  {
   "cell_type": "markdown",
   "id": "04858d5a",
   "metadata": {},
   "source": [
    "###### 对平衡数据集进行处理"
   ]
  },
  {
   "cell_type": "code",
   "execution_count": 5,
   "id": "9d5c5376",
   "metadata": {
    "scrolled": true
   },
   "outputs": [
    {
     "name": "stdout",
     "output_type": "stream",
     "text": [
      "process_AAC\n",
      "process_PAAC\n",
      "process_CKSAAGP\n",
      "process_PSAAC\n",
      "process_DPC\n",
      "process_GTPC\n",
      "process_QSO\n",
      "process_AAE\n",
      "process_AAI\n",
      "process_ASDC\n",
      "process_word2int\n",
      "process_CTD\n"
     ]
    }
   ],
   "source": [
    "index = []\n",
    "ALL_evals = pd.DataFrame()\n",
    "for (n,m) in clf_feature_order.items():\n",
    "    print('process_{}'.format(n))\n",
    "    X = pd.read_csv('results/balance/train_{}.csv'.format(n))\n",
    "    feature = X.columns[2:]\n",
    "    X_ = X[feature] .to_numpy()\n",
    "    Y_ = pd.read_csv('data/processdata/blearn_y.csv').to_numpy()\n",
    "    for i in m:\n",
    "        model = eval(i)\n",
    "        Evals = cv(model,X_,Y_)\n",
    "        ALL_evals = pd.concat([ALL_evals,Evals],axis=1)\n",
    "        index.append('{}_{}'.format(n,i))\n",
    "ALL_evals.columns=index"
   ]
  },
  {
   "cell_type": "code",
   "execution_count": 13,
   "id": "063da31c",
   "metadata": {},
   "outputs": [],
   "source": [
    "ALL_evals.to_csv(\"results/evalue_balance/select_encodings_ML.csv\",index = False)"
   ]
  },
  {
   "cell_type": "markdown",
   "id": "7f1c8779",
   "metadata": {},
   "source": [
    "###### 画图"
   ]
  },
  {
   "cell_type": "code",
   "execution_count": 31,
   "id": "2f4ef026",
   "metadata": {},
   "outputs": [],
   "source": [
    "data = pd.read_excel('results/evalue/AUC_ML_encod.xlsx',index_col=0,sheet_name='Sheet2').T"
   ]
  },
  {
   "cell_type": "code",
   "execution_count": 32,
   "id": "609fd5de",
   "metadata": {},
   "outputs": [
    {
     "data": {
      "text/plain": [
       "<matplotlib.legend.Legend at 0x22467b74a60>"
      ]
     },
     "execution_count": 32,
     "metadata": {},
     "output_type": "execute_result"
    },
    {
     "data": {
      "image/png": "[encoded data removed]",
      "text/plain": [
       "<Figure size 720x360 with 1 Axes>"
      ]
     },
     "metadata": {},
     "output_type": "display_data"
    }
   ],
   "source": [
    "sns.set()\n",
    "data.plot.bar(figsize=(10,5),rot=45,width = 0.7,grid = False)\n",
    "plt.ylim(0.50,1.0)\n",
    "plt.ylabel('Area Under Curve',fontsize=18)\n",
    "plt.xlabel('Performance of ML and Encode',fontsize=18)\n",
    "plt.legend(loc =  'lower left' )"
   ]
  },
  {
   "cell_type": "code",
   "execution_count": null,
   "id": "80967d40",
   "metadata": {},
   "outputs": [],
   "source": []
  }
 ],
 "metadata": {
  "kernelspec": {
   "display_name": "Python 3",
   "language": "python",
   "name": "python3"
  },
  "language_info": {
   "codemirror_mode": {
    "name": "ipython",
    "version": 3
   },
   "file_extension": ".py",
   "mimetype": "text/x-python",
   "name": "python",
   "nbconvert_exporter": "python",
   "pygments_lexer": "ipython3",
   "version": "3.8.3"
  }
 },
 "nbformat": 4,
 "nbformat_minor": 5
}
