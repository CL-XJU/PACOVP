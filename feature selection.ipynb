{
 "cells": [
  {
   "cell_type": "code",
   "execution_count": 1,
   "id": "3ea0e919",
   "metadata": {},
   "outputs": [],
   "source": [
    "import numpy as np\n",
    "import pandas as pd\n",
    "import os, re, math, platform\n",
    "from pathlib import Path\n",
    "import matplotlib.pyplot as plt\n",
    "import json\n",
    "import joblib\n",
    "from scipy.stats import randint as sp_randint\n",
    "from sklearn.model_selection import train_test_split\n",
    "from sklearn.model_selection import KFold, StratifiedKFold\n",
    "from sklearn.model_selection import RandomizedSearchCV\n",
    "from imblearn.over_sampling import SMOTE\n",
    "from sklearn.preprocessing import StandardScaler\n",
    "from sklearn.metrics import matthews_corrcoef, confusion_matrix\n",
    "from sklearn.metrics import precision_recall_curve, roc_curve, auc, fbeta_score\n",
    "from imblearn.metrics import geometric_mean_score\n",
    "from sklearn.neural_network import MLPClassifier\n",
    "from xgboost import XGBClassifier \n",
    "from xgboost import plot_importance\n",
    "from sklearn.ensemble import GradientBoostingClassifier,RandomForestClassifier,ExtraTreesClassifier,AdaBoostClassifier\n",
    "from sklearn.linear_model import LogisticRegression\n",
    "from sklearn.neighbors import KNeighborsClassifier\n",
    "from sklearn.svm import SVC\n",
    "from Bio import SeqIO\n",
    "from Bio.SeqUtils.ProtParam import ProteinAnalysis as PA\n",
    "from modlamp.descriptors import PeptideDescriptor, GlobalDescriptor\n",
    "from matplotlib import pyplot\n",
    "from sklearn.metrics import matthews_corrcoef, confusion_matrix,precision_recall_curve, roc_curve, auc, fbeta_score,roc_auc_score\n",
    "from fea_extract import read_fasta,insert_AAC,insert_DPC,insert_CKSAAGP,insert_CTD,insert_PAAC,insert_AAI,insert_GTPC,insert_QSO,insert_AAE,insert_PSAAC,insert_word2int,insert_ASDC\n",
    "import warnings \n",
    "from collections import Counter\n",
    "from tools import cv,evaluate, pro_data\n",
    "import matplotlib.pyplot as plt\n",
    "import seaborn as sns\n",
    "from imblearn.combine import SMOTEENN\n",
    "warnings.filterwarnings('ignore')\n",
    "seed=10"
   ]
  },
  {
   "cell_type": "markdown",
   "id": "f4686205",
   "metadata": {},
   "source": [
    "#### 处理数据\n",
    "导入数据，对数据进行编码"
   ]
  },
  {
   "cell_type": "code",
   "execution_count": 52,
   "id": "c0affea2",
   "metadata": {},
   "outputs": [],
   "source": [
    "X_train = pd.read_csv('data/train/X_train_norm.csv').to_numpy()\n",
    "X_test = pd.read_csv('data/test/X_test_norm.csv').to_numpy()\n",
    "y_train = pd.read_csv('data/train/y_train.csv').to_numpy()\n",
    "y_test = pd.read_csv('data/test/y_test.csv').to_numpy()"
   ]
  },
  {
   "cell_type": "markdown",
   "id": "39a62ebc",
   "metadata": {},
   "source": [
    "#### 进行不平衡处理"
   ]
  },
  {
   "cell_type": "code",
   "execution_count": 3,
   "id": "6e21addf",
   "metadata": {},
   "outputs": [],
   "source": [
    "smte = SMOTEENN(random_state=10)\n",
    "X_train_resampled ,y_train_resampled = smte.fit_sample(X_train,y_train)"
   ]
  },
  {
   "cell_type": "code",
   "execution_count": 13,
   "id": "daaae49b",
   "metadata": {},
   "outputs": [],
   "source": [
    "y_train_resampled1= y_train_resampled.reshape(2576,1)"
   ]
  },
  {
   "cell_type": "code",
   "execution_count": 159,
   "id": "d147b3c0",
   "metadata": {},
   "outputs": [],
   "source": [
    "X_train_resampled = pd.DataFrame(X_train_resampled,columns=feature_name1)\n",
    "y_train_resampled1 = pd.DataFrame(y_train_resampled1,columns=['label'])"
   ]
  },
  {
   "cell_type": "code",
   "execution_count": 162,
   "id": "4c835411",
   "metadata": {},
   "outputs": [],
   "source": [
    "X_ = pd.concat([X_train_resampled,y_train_resampled1],axis=1)\n",
    "X_.to_csv('data/process_X.csv',index = False)"
   ]
  },
  {
   "cell_type": "code",
   "execution_count": 4,
   "id": "85f05a03",
   "metadata": {},
   "outputs": [],
   "source": [
    "import numpy as np\n",
    "import pandas as pd\n",
    "import math\n",
    "\n",
    "def read_csv(filecsv):\n",
    "    dataset=pd.read_csv(filecsv,engine='python').dropna(axis=1)\n",
    "    features_name = dataset.columns.values.tolist()\n",
    "    dataset=np.array(dataset)\n",
    "\n",
    "    X=dataset[:,1:]\n",
    "    y=dataset[:,0]\n",
    "    return(X,y,features_name)\n",
    "\n",
    "def calcE(X,coli,colj):\n",
    "    # sum=0\n",
    "    # for i in range(len(X)):\n",
    "    #\n",
    "    #      sum+=(X[i,coli]-X[i,colj])*(X[i,coli]-X[i,colj])\n",
    "    sum = np.sum((X[:,coli]-X[:,colj])**2)\n",
    "\n",
    "\n",
    "    return math.sqrt(sum)\n",
    "def Euclidean(X,n):\n",
    "\n",
    "    Euclideandata=np.zeros([n,n])\n",
    "\n",
    "    for i in range(n):\n",
    "        for j in range(n):\n",
    "            Euclideandata[i,j]=calcE(X,i,j)\n",
    "            Euclideandata[j,i]=Euclideandata[i,j]\n",
    "    Euclidean_distance=[]\n",
    "\n",
    "    for i in range(n):\n",
    "        sum = np.sum(Euclideandata[i,:])\n",
    "        Euclidean_distance.append(sum/n)\n",
    "\n",
    "    return Euclidean_distance\n",
    "def varience(data,avg1,col1,avg2,col2):\n",
    "\n",
    "    return np.average((data[:,col1]-avg1)*(data[:,col2]-avg2))\n",
    "\n",
    "def Person(X,y,n):\n",
    "    feaNum=n\n",
    "    #label_num=len(y[0,:])\n",
    "    label_num=1\n",
    "    PersonData=np.zeros([n])\n",
    "    for i in range(feaNum):\n",
    "        for j in range(feaNum,feaNum+label_num):\n",
    "            #print('. ', end='')\n",
    "            average1 = np.average(X[:,i])\n",
    "            average2 = np.average(y)\n",
    "            yn=(X.shape)[0]\n",
    "            y=y.reshape((yn,1))\n",
    "            dataset = np.concatenate((X,y),axis=1)\n",
    "            numerator = varience(dataset, average1, i, average2, j);\n",
    "            denominator = math.sqrt(\n",
    "                varience(dataset, average1, i, average1, i) * varience(dataset, average2, j, average2, j));\n",
    "            if (abs(denominator) < (1E-10)):\n",
    "                PersonData[i]=0\n",
    "            else:\n",
    "                PersonData[i]=abs(numerator/denominator)\n",
    "\n",
    "    return list(PersonData)\n",
    "\n",
    "def run(filecsv):\n",
    "    print('mrmd start...')\n",
    "    X,y,features_name=read_csv(filecsv)\n",
    "    n=len(features_name)-1\n",
    "\n",
    "\n",
    "    e=Euclidean(X,n)\n",
    "\n",
    "    p = Person(X,y,n)\n",
    "\n",
    "    mrmrValue=[]\n",
    "    for i,j in zip(p,e):\n",
    "        mrmrValue.append(i+j)\n",
    "    mrmr_max=max(mrmrValue)\n",
    "    mrmrValue = [x / mrmr_max for x in mrmrValue]\n",
    "    mrmrValue = [(i,j) for i,j in zip(features_name[:-1],mrmrValue)]   # features 和 mrmrvalue绑定\n",
    "    mrmd=sorted(mrmrValue,key=lambda x:x[1],reverse=True)  #按mrmrValue 由大到小排序\n",
    "\n",
    "    mrmd =[x[0] for x in mrmd]\n",
    "\n",
    "\n",
    "    print('mrmd end.')\n",
    "    return mrmd"
   ]
  },
  {
   "cell_type": "code",
   "execution_count": 5,
   "id": "45cc0049",
   "metadata": {},
   "outputs": [],
   "source": [
    "X_all = np.hstack([X_train,y_train])\n",
    "X_ALL = pd.DataFrame(X_all)\n",
    "X_ALL.to_csv('data/X_ALL.csv',index = False)"
   ]
  },
  {
   "cell_type": "code",
   "execution_count": 50,
   "id": "889ca458",
   "metadata": {
    "scrolled": false
   },
   "outputs": [
    {
     "name": "stdout",
     "output_type": "stream",
     "text": [
      "mrmd start...\n",
      "mrmd end.\n"
     ]
    }
   ],
   "source": [
    "f = run('data/process_X.csv')"
   ]
  },
  {
   "cell_type": "code",
   "execution_count": 46,
   "id": "8fe4ad11",
   "metadata": {},
   "outputs": [],
   "source": [
    "def MRMD_ALL(X_train,y_train,X_v,y_v):\n",
    "    clf = ExtraTreesClassifier()\n",
    "    kf = StratifiedKFold(n_splits=5,shuffle=True,random_state=10)\n",
    "    avg_score_valid=[]\n",
    "    scores_test = []\n",
    "    X = X_train\n",
    "    Y = y_train\n",
    "    for train_index, test_index in kf.split(X,Y):\n",
    "        kf_X_train,kf_X_test=X[train_index],X[test_index]\n",
    "        kf_y_train,kf_y_test=Y[train_index],Y[test_index]\n",
    "        kf_X_train,kf_y_train = smte.fit_sample(kf_X_train,kf_y_train)\n",
    "        clf.fit(kf_X_train,kf_y_train)\n",
    "        scores_test.append(clf.score(X_v,y_v))\n",
    "    scores = np.array(scores_test)\n",
    "    avg_score_test = np.sum(scores)/5\n",
    "    print(\"This is validation score: %s\" % (avg_score_test))\n",
    "    return avg_score_test"
   ]
  },
  {
   "cell_type": "code",
   "execution_count": null,
   "id": "917c8063",
   "metadata": {},
   "outputs": [],
   "source": []
  },
  {
   "cell_type": "code",
   "execution_count": 53,
   "id": "36dada30",
   "metadata": {
    "scrolled": true
   },
   "outputs": [
    {
     "ename": "ValueError",
     "evalue": "Found input variables with inconsistent numbers of samples: [1369, 1712]",
     "output_type": "error",
     "traceback": [
      "\u001b[1;31m---------------------------------------------------------------------------\u001b[0m",
      "\u001b[1;31mValueError\u001b[0m                                Traceback (most recent call last)",
      "\u001b[1;32m<ipython-input-53-5c84ee8ddcaf>\u001b[0m in \u001b[0;36m<module>\u001b[1;34m\u001b[0m\n\u001b[0;32m      3\u001b[0m \u001b[0mX_train1\u001b[0m\u001b[1;33m,\u001b[0m\u001b[0my_train1\u001b[0m\u001b[1;33m,\u001b[0m\u001b[0mX_v\u001b[0m\u001b[1;33m,\u001b[0m\u001b[0my_v\u001b[0m \u001b[1;33m=\u001b[0m \u001b[0mtrain_test_split\u001b[0m\u001b[1;33m(\u001b[0m\u001b[0mX_train\u001b[0m\u001b[1;33m,\u001b[0m\u001b[0my_train\u001b[0m\u001b[1;33m,\u001b[0m\u001b[0mtest_size\u001b[0m\u001b[1;33m=\u001b[0m\u001b[1;36m0.2\u001b[0m\u001b[1;33m)\u001b[0m\u001b[1;33m\u001b[0m\u001b[1;33m\u001b[0m\u001b[0m\n\u001b[0;32m      4\u001b[0m \u001b[0msmte\u001b[0m \u001b[1;33m=\u001b[0m \u001b[0mSMOTEENN\u001b[0m\u001b[1;33m(\u001b[0m\u001b[0mrandom_state\u001b[0m\u001b[1;33m=\u001b[0m\u001b[1;36m10\u001b[0m\u001b[1;33m)\u001b[0m\u001b[1;33m\u001b[0m\u001b[1;33m\u001b[0m\u001b[0m\n\u001b[1;32m----> 5\u001b[1;33m \u001b[0mX_train_resampled\u001b[0m \u001b[1;33m,\u001b[0m\u001b[0my_train_resampled\u001b[0m \u001b[1;33m=\u001b[0m \u001b[0msmte\u001b[0m\u001b[1;33m.\u001b[0m\u001b[0mfit_sample\u001b[0m\u001b[1;33m(\u001b[0m\u001b[0mX_train1\u001b[0m\u001b[1;33m,\u001b[0m\u001b[0my_train\u001b[0m\u001b[1;33m)\u001b[0m\u001b[1;33m\u001b[0m\u001b[1;33m\u001b[0m\u001b[0m\n\u001b[0m\u001b[0;32m      6\u001b[0m \u001b[0my_train_resampled1\u001b[0m\u001b[1;33m=\u001b[0m \u001b[0my_train_resampled\u001b[0m\u001b[1;33m.\u001b[0m\u001b[0mreshape\u001b[0m\u001b[1;33m(\u001b[0m\u001b[1;36m2576\u001b[0m\u001b[1;33m,\u001b[0m\u001b[1;36m1\u001b[0m\u001b[1;33m)\u001b[0m\u001b[1;33m\u001b[0m\u001b[1;33m\u001b[0m\u001b[0m\n\u001b[0;32m      7\u001b[0m \u001b[0mind\u001b[0m \u001b[1;33m=\u001b[0m \u001b[1;33m[\u001b[0m\u001b[1;33m]\u001b[0m\u001b[1;33m\u001b[0m\u001b[1;33m\u001b[0m\u001b[0m\n",
      "\u001b[1;32mE:\\Anaconda3\\lib\\site-packages\\imblearn\\base.py\u001b[0m in \u001b[0;36mfit_resample\u001b[1;34m(self, X, y)\u001b[0m\n\u001b[0;32m     75\u001b[0m         \u001b[0mcheck_classification_targets\u001b[0m\u001b[1;33m(\u001b[0m\u001b[0my\u001b[0m\u001b[1;33m)\u001b[0m\u001b[1;33m\u001b[0m\u001b[1;33m\u001b[0m\u001b[0m\n\u001b[0;32m     76\u001b[0m         \u001b[0marrays_transformer\u001b[0m \u001b[1;33m=\u001b[0m \u001b[0mArraysTransformer\u001b[0m\u001b[1;33m(\u001b[0m\u001b[0mX\u001b[0m\u001b[1;33m,\u001b[0m \u001b[0my\u001b[0m\u001b[1;33m)\u001b[0m\u001b[1;33m\u001b[0m\u001b[1;33m\u001b[0m\u001b[0m\n\u001b[1;32m---> 77\u001b[1;33m         \u001b[0mX\u001b[0m\u001b[1;33m,\u001b[0m \u001b[0my\u001b[0m\u001b[1;33m,\u001b[0m \u001b[0mbinarize_y\u001b[0m \u001b[1;33m=\u001b[0m \u001b[0mself\u001b[0m\u001b[1;33m.\u001b[0m\u001b[0m_check_X_y\u001b[0m\u001b[1;33m(\u001b[0m\u001b[0mX\u001b[0m\u001b[1;33m,\u001b[0m \u001b[0my\u001b[0m\u001b[1;33m)\u001b[0m\u001b[1;33m\u001b[0m\u001b[1;33m\u001b[0m\u001b[0m\n\u001b[0m\u001b[0;32m     78\u001b[0m \u001b[1;33m\u001b[0m\u001b[0m\n\u001b[0;32m     79\u001b[0m         self.sampling_strategy_ = check_sampling_strategy(\n",
      "\u001b[1;32mE:\\Anaconda3\\lib\\site-packages\\imblearn\\base.py\u001b[0m in \u001b[0;36m_check_X_y\u001b[1;34m(self, X, y, accept_sparse)\u001b[0m\n\u001b[0;32m    132\u001b[0m             \u001b[0maccept_sparse\u001b[0m \u001b[1;33m=\u001b[0m \u001b[1;33m[\u001b[0m\u001b[1;34m\"csr\"\u001b[0m\u001b[1;33m,\u001b[0m \u001b[1;34m\"csc\"\u001b[0m\u001b[1;33m]\u001b[0m\u001b[1;33m\u001b[0m\u001b[1;33m\u001b[0m\u001b[0m\n\u001b[0;32m    133\u001b[0m         \u001b[0my\u001b[0m\u001b[1;33m,\u001b[0m \u001b[0mbinarize_y\u001b[0m \u001b[1;33m=\u001b[0m \u001b[0mcheck_target_type\u001b[0m\u001b[1;33m(\u001b[0m\u001b[0my\u001b[0m\u001b[1;33m,\u001b[0m \u001b[0mindicate_one_vs_all\u001b[0m\u001b[1;33m=\u001b[0m\u001b[1;32mTrue\u001b[0m\u001b[1;33m)\u001b[0m\u001b[1;33m\u001b[0m\u001b[1;33m\u001b[0m\u001b[0m\n\u001b[1;32m--> 134\u001b[1;33m         X, y = self._validate_data(\n\u001b[0m\u001b[0;32m    135\u001b[0m             \u001b[0mX\u001b[0m\u001b[1;33m,\u001b[0m \u001b[0my\u001b[0m\u001b[1;33m,\u001b[0m \u001b[0mreset\u001b[0m\u001b[1;33m=\u001b[0m\u001b[1;32mTrue\u001b[0m\u001b[1;33m,\u001b[0m \u001b[0maccept_sparse\u001b[0m\u001b[1;33m=\u001b[0m\u001b[0maccept_sparse\u001b[0m\u001b[1;33m\u001b[0m\u001b[1;33m\u001b[0m\u001b[0m\n\u001b[0;32m    136\u001b[0m         )\n",
      "\u001b[1;32mE:\\Anaconda3\\lib\\site-packages\\sklearn\\base.py\u001b[0m in \u001b[0;36m_validate_data\u001b[1;34m(self, X, y, reset, validate_separately, **check_params)\u001b[0m\n\u001b[0;32m    431\u001b[0m                 \u001b[0my\u001b[0m \u001b[1;33m=\u001b[0m \u001b[0mcheck_array\u001b[0m\u001b[1;33m(\u001b[0m\u001b[0my\u001b[0m\u001b[1;33m,\u001b[0m \u001b[1;33m**\u001b[0m\u001b[0mcheck_y_params\u001b[0m\u001b[1;33m)\u001b[0m\u001b[1;33m\u001b[0m\u001b[1;33m\u001b[0m\u001b[0m\n\u001b[0;32m    432\u001b[0m             \u001b[1;32melse\u001b[0m\u001b[1;33m:\u001b[0m\u001b[1;33m\u001b[0m\u001b[1;33m\u001b[0m\u001b[0m\n\u001b[1;32m--> 433\u001b[1;33m                 \u001b[0mX\u001b[0m\u001b[1;33m,\u001b[0m \u001b[0my\u001b[0m \u001b[1;33m=\u001b[0m \u001b[0mcheck_X_y\u001b[0m\u001b[1;33m(\u001b[0m\u001b[0mX\u001b[0m\u001b[1;33m,\u001b[0m \u001b[0my\u001b[0m\u001b[1;33m,\u001b[0m \u001b[1;33m**\u001b[0m\u001b[0mcheck_params\u001b[0m\u001b[1;33m)\u001b[0m\u001b[1;33m\u001b[0m\u001b[1;33m\u001b[0m\u001b[0m\n\u001b[0m\u001b[0;32m    434\u001b[0m             \u001b[0mout\u001b[0m \u001b[1;33m=\u001b[0m \u001b[0mX\u001b[0m\u001b[1;33m,\u001b[0m \u001b[0my\u001b[0m\u001b[1;33m\u001b[0m\u001b[1;33m\u001b[0m\u001b[0m\n\u001b[0;32m    435\u001b[0m \u001b[1;33m\u001b[0m\u001b[0m\n",
      "\u001b[1;32mE:\\Anaconda3\\lib\\site-packages\\sklearn\\utils\\validation.py\u001b[0m in \u001b[0;36minner_f\u001b[1;34m(*args, **kwargs)\u001b[0m\n\u001b[0;32m     61\u001b[0m             \u001b[0mextra_args\u001b[0m \u001b[1;33m=\u001b[0m \u001b[0mlen\u001b[0m\u001b[1;33m(\u001b[0m\u001b[0margs\u001b[0m\u001b[1;33m)\u001b[0m \u001b[1;33m-\u001b[0m \u001b[0mlen\u001b[0m\u001b[1;33m(\u001b[0m\u001b[0mall_args\u001b[0m\u001b[1;33m)\u001b[0m\u001b[1;33m\u001b[0m\u001b[1;33m\u001b[0m\u001b[0m\n\u001b[0;32m     62\u001b[0m             \u001b[1;32mif\u001b[0m \u001b[0mextra_args\u001b[0m \u001b[1;33m<=\u001b[0m \u001b[1;36m0\u001b[0m\u001b[1;33m:\u001b[0m\u001b[1;33m\u001b[0m\u001b[1;33m\u001b[0m\u001b[0m\n\u001b[1;32m---> 63\u001b[1;33m                 \u001b[1;32mreturn\u001b[0m \u001b[0mf\u001b[0m\u001b[1;33m(\u001b[0m\u001b[1;33m*\u001b[0m\u001b[0margs\u001b[0m\u001b[1;33m,\u001b[0m \u001b[1;33m**\u001b[0m\u001b[0mkwargs\u001b[0m\u001b[1;33m)\u001b[0m\u001b[1;33m\u001b[0m\u001b[1;33m\u001b[0m\u001b[0m\n\u001b[0m\u001b[0;32m     64\u001b[0m \u001b[1;33m\u001b[0m\u001b[0m\n\u001b[0;32m     65\u001b[0m             \u001b[1;31m# extra_args > 0\u001b[0m\u001b[1;33m\u001b[0m\u001b[1;33m\u001b[0m\u001b[1;33m\u001b[0m\u001b[0m\n",
      "\u001b[1;32mE:\\Anaconda3\\lib\\site-packages\\sklearn\\utils\\validation.py\u001b[0m in \u001b[0;36mcheck_X_y\u001b[1;34m(X, y, accept_sparse, accept_large_sparse, dtype, order, copy, force_all_finite, ensure_2d, allow_nd, multi_output, ensure_min_samples, ensure_min_features, y_numeric, estimator)\u001b[0m\n\u001b[0;32m    886\u001b[0m         \u001b[0my\u001b[0m \u001b[1;33m=\u001b[0m \u001b[0my\u001b[0m\u001b[1;33m.\u001b[0m\u001b[0mastype\u001b[0m\u001b[1;33m(\u001b[0m\u001b[0mnp\u001b[0m\u001b[1;33m.\u001b[0m\u001b[0mfloat64\u001b[0m\u001b[1;33m)\u001b[0m\u001b[1;33m\u001b[0m\u001b[1;33m\u001b[0m\u001b[0m\n\u001b[0;32m    887\u001b[0m \u001b[1;33m\u001b[0m\u001b[0m\n\u001b[1;32m--> 888\u001b[1;33m     \u001b[0mcheck_consistent_length\u001b[0m\u001b[1;33m(\u001b[0m\u001b[0mX\u001b[0m\u001b[1;33m,\u001b[0m \u001b[0my\u001b[0m\u001b[1;33m)\u001b[0m\u001b[1;33m\u001b[0m\u001b[1;33m\u001b[0m\u001b[0m\n\u001b[0m\u001b[0;32m    889\u001b[0m \u001b[1;33m\u001b[0m\u001b[0m\n\u001b[0;32m    890\u001b[0m     \u001b[1;32mreturn\u001b[0m \u001b[0mX\u001b[0m\u001b[1;33m,\u001b[0m \u001b[0my\u001b[0m\u001b[1;33m\u001b[0m\u001b[1;33m\u001b[0m\u001b[0m\n",
      "\u001b[1;32mE:\\Anaconda3\\lib\\site-packages\\sklearn\\utils\\validation.py\u001b[0m in \u001b[0;36mcheck_consistent_length\u001b[1;34m(*arrays)\u001b[0m\n\u001b[0;32m    317\u001b[0m     \u001b[0muniques\u001b[0m \u001b[1;33m=\u001b[0m \u001b[0mnp\u001b[0m\u001b[1;33m.\u001b[0m\u001b[0munique\u001b[0m\u001b[1;33m(\u001b[0m\u001b[0mlengths\u001b[0m\u001b[1;33m)\u001b[0m\u001b[1;33m\u001b[0m\u001b[1;33m\u001b[0m\u001b[0m\n\u001b[0;32m    318\u001b[0m     \u001b[1;32mif\u001b[0m \u001b[0mlen\u001b[0m\u001b[1;33m(\u001b[0m\u001b[0muniques\u001b[0m\u001b[1;33m)\u001b[0m \u001b[1;33m>\u001b[0m \u001b[1;36m1\u001b[0m\u001b[1;33m:\u001b[0m\u001b[1;33m\u001b[0m\u001b[1;33m\u001b[0m\u001b[0m\n\u001b[1;32m--> 319\u001b[1;33m         raise ValueError(\"Found input variables with inconsistent numbers of\"\n\u001b[0m\u001b[0;32m    320\u001b[0m                          \" samples: %r\" % [int(l) for l in lengths])\n\u001b[0;32m    321\u001b[0m \u001b[1;33m\u001b[0m\u001b[0m\n",
      "\u001b[1;31mValueError\u001b[0m: Found input variables with inconsistent numbers of samples: [1369, 1712]"
     ]
    }
   ],
   "source": [
    "S = []\n",
    "num = []\n",
    "X_train1,y_train1,X_v,y_v = train_test_split(X_train,y_train,test_size=0.2)\n",
    "smte = SMOTEENN(random_state=10)\n",
    "X_train_resampled ,y_train_resampled = smte.fit_sample(X_train1,y_train)\n",
    "y_train_resampled1= y_train_resampled.reshape(2576,1)\n",
    "ind = []\n",
    "for i in range(1296):\n",
    "    ind.append(str(i))\n",
    "X_train1 = pd.DataFrame(X_train_resampled,columns = ind)\n",
    "for i in range(100,1290,10):\n",
    "    X_train2 = X_train1[f[:i]].to_numpy()\n",
    "    print(X_train2.shape)\n",
    "    avg_score_test = MRMD_ALL(X_train2,y_train_resampled1,X_v,y_v)\n",
    "    S.append(avg_score_test)\n",
    "    num.append(i)\n",
    "# ALL_eval.columns=num"
   ]
  },
  {
   "cell_type": "code",
   "execution_count": 14,
   "id": "67ddb205",
   "metadata": {},
   "outputs": [
    {
     "data": {
      "image/png": "[encoded data removed]",
      "text/plain": [
       "<Figure size 432x288 with 1 Axes>"
      ]
     },
     "metadata": {
      "needs_background": "light"
     },
     "output_type": "display_data"
    }
   ],
   "source": [
    "plt.plot(num,S,'r')\n",
    "plt.ylim(0.8,0.95)\n",
    "# plt.yticks([0.985,0.990,0.995,1.00])\n",
    "# plt.xlim(200,1290)\n",
    "plt.show()"
   ]
  },
  {
   "cell_type": "markdown",
   "id": "f7e1be51",
   "metadata": {},
   "source": [
    "#### 特征选择"
   ]
  },
  {
   "cell_type": "code",
   "execution_count": 7,
   "id": "ec853035",
   "metadata": {
    "scrolled": true
   },
   "outputs": [
    {
     "name": "stdout",
     "output_type": "stream",
     "text": [
      "mrmd start...\n",
      "mrmd end.\n"
     ]
    }
   ],
   "source": [
    "#mrmd\n",
    "# import mRMD\n",
    "X_ = pd.read_csv('data/process_X.csv')\n",
    "mrmd_data = run('data/process_X.csv')"
   ]
  },
  {
   "cell_type": "code",
   "execution_count": 62,
   "id": "2a4a5ded",
   "metadata": {},
   "outputs": [],
   "source": [
    "def MRMD_(X_train,y_train,X_test,y_test):\n",
    "    clf = ExtraTreesClassifier()\n",
    "    kf = StratifiedKFold(n_splits=10,shuffle=True,random_state=10)\n",
    "    avg_score_valid=[]\n",
    "    scores_test = []\n",
    "    X = X_train\n",
    "    Y = y_train\n",
    "    for train_index, test_index in kf.split(X,Y):\n",
    "        kf_X_train,kf_X_test=X[train_index],X[test_index]\n",
    "        kf_y_train,kf_y_test=Y[train_index],Y[test_index]\n",
    "        clf.fit(kf_X_train,kf_y_train)\n",
    "        scores_test.append(clf.score(X_test,y_test))\n",
    "    scores = np.array(scores_test)\n",
    "    avg_score_test = np.sum(scores)/10\n",
    "    print(\"This is validation score: %s\" % (avg_score_test))\n",
    "    return avg_score_test"
   ]
  },
  {
   "cell_type": "code",
   "execution_count": 22,
   "id": "488b2cb4",
   "metadata": {},
   "outputs": [],
   "source": [
    "def cv1(df_X,df_y,n_folds=5):\n",
    "    eval_dict = []\n",
    "    kf = KFold(n_splits=n_folds, shuffle=True, random_state=10)#K-折叠交叉验证。\n",
    "    for train_index, test_index in kf.split(df_X, df_y):\n",
    "        model= ExtraTreesClassifier(random_state=10)\n",
    "        X_train,X_test=df_X[train_index],df_X[test_index]\n",
    "        y_train,y_test=df_y[train_index],df_y[test_index]\n",
    "        model.fit(X_train,y_train)\n",
    "        eval_dictionary = evaluate(X_test,y_test,model)\n",
    "        eval_dict = eval_dict+[eval_dictionary]\n",
    "    evals = pd.DataFrame(eval_dict).mean()\n",
    "    Evals = pd.DataFrame(evals)\n",
    "    return Evals"
   ]
  },
  {
   "cell_type": "code",
   "execution_count": 63,
   "id": "b6fa0d5f",
   "metadata": {
    "collapsed": true
   },
   "outputs": [
    {
     "name": "stdout",
     "output_type": "stream",
     "text": [
      "(2576, 101)\n"
     ]
    },
    {
     "ename": "ValueError",
     "evalue": "X has 1296 features, but ExtraTreeClassifier is expecting 101 features as input.",
     "output_type": "error",
     "traceback": [
      "\u001b[1;31m---------------------------------------------------------------------------\u001b[0m",
      "\u001b[1;31mValueError\u001b[0m                                Traceback (most recent call last)",
      "\u001b[1;32m<ipython-input-63-b1e3d3d3a3ff>\u001b[0m in \u001b[0;36m<module>\u001b[1;34m\u001b[0m\n\u001b[0;32m     15\u001b[0m     \u001b[0my_train\u001b[0m \u001b[1;33m=\u001b[0m \u001b[0my_train\u001b[0m\u001b[1;33m[\u001b[0m\u001b[0midx\u001b[0m\u001b[1;33m]\u001b[0m\u001b[1;33m\u001b[0m\u001b[1;33m\u001b[0m\u001b[0m\n\u001b[0;32m     16\u001b[0m     \u001b[0mprint\u001b[0m\u001b[1;33m(\u001b[0m\u001b[0mX_train1\u001b[0m\u001b[1;33m.\u001b[0m\u001b[0mshape\u001b[0m\u001b[1;33m)\u001b[0m\u001b[1;33m\u001b[0m\u001b[1;33m\u001b[0m\u001b[0m\n\u001b[1;32m---> 17\u001b[1;33m     \u001b[0mavg_score_test\u001b[0m \u001b[1;33m=\u001b[0m \u001b[0mMRMD_\u001b[0m\u001b[1;33m(\u001b[0m\u001b[0mX_train1\u001b[0m\u001b[1;33m,\u001b[0m\u001b[0my_train\u001b[0m\u001b[1;33m,\u001b[0m\u001b[0mX_test\u001b[0m\u001b[1;33m,\u001b[0m\u001b[0my_test\u001b[0m\u001b[1;33m)\u001b[0m\u001b[1;33m\u001b[0m\u001b[1;33m\u001b[0m\u001b[0m\n\u001b[0m\u001b[0;32m     18\u001b[0m     \u001b[0mS\u001b[0m\u001b[1;33m.\u001b[0m\u001b[0mappend\u001b[0m\u001b[1;33m(\u001b[0m\u001b[0mavg_score_test\u001b[0m\u001b[1;33m)\u001b[0m\u001b[1;33m\u001b[0m\u001b[1;33m\u001b[0m\u001b[0m\n\u001b[0;32m     19\u001b[0m     \u001b[0mnum\u001b[0m\u001b[1;33m.\u001b[0m\u001b[0mappend\u001b[0m\u001b[1;33m(\u001b[0m\u001b[0mi\u001b[0m\u001b[1;33m+\u001b[0m\u001b[1;36m1\u001b[0m\u001b[1;33m)\u001b[0m\u001b[1;33m\u001b[0m\u001b[1;33m\u001b[0m\u001b[0m\n",
      "\u001b[1;32m<ipython-input-62-552ec7c0f199>\u001b[0m in \u001b[0;36mMRMD_\u001b[1;34m(X_train, y_train, X_test, y_test)\u001b[0m\n\u001b[0;32m     10\u001b[0m         \u001b[0mkf_y_train\u001b[0m\u001b[1;33m,\u001b[0m\u001b[0mkf_y_test\u001b[0m\u001b[1;33m=\u001b[0m\u001b[0mY\u001b[0m\u001b[1;33m[\u001b[0m\u001b[0mtrain_index\u001b[0m\u001b[1;33m]\u001b[0m\u001b[1;33m,\u001b[0m\u001b[0mY\u001b[0m\u001b[1;33m[\u001b[0m\u001b[0mtest_index\u001b[0m\u001b[1;33m]\u001b[0m\u001b[1;33m\u001b[0m\u001b[1;33m\u001b[0m\u001b[0m\n\u001b[0;32m     11\u001b[0m         \u001b[0mclf\u001b[0m\u001b[1;33m.\u001b[0m\u001b[0mfit\u001b[0m\u001b[1;33m(\u001b[0m\u001b[0mkf_X_train\u001b[0m\u001b[1;33m,\u001b[0m\u001b[0mkf_y_train\u001b[0m\u001b[1;33m)\u001b[0m\u001b[1;33m\u001b[0m\u001b[1;33m\u001b[0m\u001b[0m\n\u001b[1;32m---> 12\u001b[1;33m         \u001b[0mscores_test\u001b[0m\u001b[1;33m.\u001b[0m\u001b[0mappend\u001b[0m\u001b[1;33m(\u001b[0m\u001b[0mclf\u001b[0m\u001b[1;33m.\u001b[0m\u001b[0mscore\u001b[0m\u001b[1;33m(\u001b[0m\u001b[0mX_test\u001b[0m\u001b[1;33m,\u001b[0m\u001b[0my_test\u001b[0m\u001b[1;33m)\u001b[0m\u001b[1;33m)\u001b[0m\u001b[1;33m\u001b[0m\u001b[1;33m\u001b[0m\u001b[0m\n\u001b[0m\u001b[0;32m     13\u001b[0m     \u001b[0mscores\u001b[0m \u001b[1;33m=\u001b[0m \u001b[0mnp\u001b[0m\u001b[1;33m.\u001b[0m\u001b[0marray\u001b[0m\u001b[1;33m(\u001b[0m\u001b[0mscores_test\u001b[0m\u001b[1;33m)\u001b[0m\u001b[1;33m\u001b[0m\u001b[1;33m\u001b[0m\u001b[0m\n\u001b[0;32m     14\u001b[0m     \u001b[0mavg_score_test\u001b[0m \u001b[1;33m=\u001b[0m \u001b[0mnp\u001b[0m\u001b[1;33m.\u001b[0m\u001b[0msum\u001b[0m\u001b[1;33m(\u001b[0m\u001b[0mscores\u001b[0m\u001b[1;33m)\u001b[0m\u001b[1;33m/\u001b[0m\u001b[1;36m10\u001b[0m\u001b[1;33m\u001b[0m\u001b[1;33m\u001b[0m\u001b[0m\n",
      "\u001b[1;32mE:\\Anaconda3\\lib\\site-packages\\sklearn\\base.py\u001b[0m in \u001b[0;36mscore\u001b[1;34m(self, X, y, sample_weight)\u001b[0m\n\u001b[0;32m    498\u001b[0m         \"\"\"\n\u001b[0;32m    499\u001b[0m         \u001b[1;32mfrom\u001b[0m \u001b[1;33m.\u001b[0m\u001b[0mmetrics\u001b[0m \u001b[1;32mimport\u001b[0m \u001b[0maccuracy_score\u001b[0m\u001b[1;33m\u001b[0m\u001b[1;33m\u001b[0m\u001b[0m\n\u001b[1;32m--> 500\u001b[1;33m         \u001b[1;32mreturn\u001b[0m \u001b[0maccuracy_score\u001b[0m\u001b[1;33m(\u001b[0m\u001b[0my\u001b[0m\u001b[1;33m,\u001b[0m \u001b[0mself\u001b[0m\u001b[1;33m.\u001b[0m\u001b[0mpredict\u001b[0m\u001b[1;33m(\u001b[0m\u001b[0mX\u001b[0m\u001b[1;33m)\u001b[0m\u001b[1;33m,\u001b[0m \u001b[0msample_weight\u001b[0m\u001b[1;33m=\u001b[0m\u001b[0msample_weight\u001b[0m\u001b[1;33m)\u001b[0m\u001b[1;33m\u001b[0m\u001b[1;33m\u001b[0m\u001b[0m\n\u001b[0m\u001b[0;32m    501\u001b[0m \u001b[1;33m\u001b[0m\u001b[0m\n\u001b[0;32m    502\u001b[0m     \u001b[1;32mdef\u001b[0m \u001b[0m_more_tags\u001b[0m\u001b[1;33m(\u001b[0m\u001b[0mself\u001b[0m\u001b[1;33m)\u001b[0m\u001b[1;33m:\u001b[0m\u001b[1;33m\u001b[0m\u001b[1;33m\u001b[0m\u001b[0m\n",
      "\u001b[1;32mE:\\Anaconda3\\lib\\site-packages\\sklearn\\ensemble\\_forest.py\u001b[0m in \u001b[0;36mpredict\u001b[1;34m(self, X)\u001b[0m\n\u001b[0;32m    628\u001b[0m             \u001b[0mThe\u001b[0m \u001b[0mpredicted\u001b[0m \u001b[0mclasses\u001b[0m\u001b[1;33m.\u001b[0m\u001b[1;33m\u001b[0m\u001b[1;33m\u001b[0m\u001b[0m\n\u001b[0;32m    629\u001b[0m         \"\"\"\n\u001b[1;32m--> 630\u001b[1;33m         \u001b[0mproba\u001b[0m \u001b[1;33m=\u001b[0m \u001b[0mself\u001b[0m\u001b[1;33m.\u001b[0m\u001b[0mpredict_proba\u001b[0m\u001b[1;33m(\u001b[0m\u001b[0mX\u001b[0m\u001b[1;33m)\u001b[0m\u001b[1;33m\u001b[0m\u001b[1;33m\u001b[0m\u001b[0m\n\u001b[0m\u001b[0;32m    631\u001b[0m \u001b[1;33m\u001b[0m\u001b[0m\n\u001b[0;32m    632\u001b[0m         \u001b[1;32mif\u001b[0m \u001b[0mself\u001b[0m\u001b[1;33m.\u001b[0m\u001b[0mn_outputs_\u001b[0m \u001b[1;33m==\u001b[0m \u001b[1;36m1\u001b[0m\u001b[1;33m:\u001b[0m\u001b[1;33m\u001b[0m\u001b[1;33m\u001b[0m\u001b[0m\n",
      "\u001b[1;32mE:\\Anaconda3\\lib\\site-packages\\sklearn\\ensemble\\_forest.py\u001b[0m in \u001b[0;36mpredict_proba\u001b[1;34m(self, X)\u001b[0m\n\u001b[0;32m    672\u001b[0m         \u001b[0mcheck_is_fitted\u001b[0m\u001b[1;33m(\u001b[0m\u001b[0mself\u001b[0m\u001b[1;33m)\u001b[0m\u001b[1;33m\u001b[0m\u001b[1;33m\u001b[0m\u001b[0m\n\u001b[0;32m    673\u001b[0m         \u001b[1;31m# Check data\u001b[0m\u001b[1;33m\u001b[0m\u001b[1;33m\u001b[0m\u001b[1;33m\u001b[0m\u001b[0m\n\u001b[1;32m--> 674\u001b[1;33m         \u001b[0mX\u001b[0m \u001b[1;33m=\u001b[0m \u001b[0mself\u001b[0m\u001b[1;33m.\u001b[0m\u001b[0m_validate_X_predict\u001b[0m\u001b[1;33m(\u001b[0m\u001b[0mX\u001b[0m\u001b[1;33m)\u001b[0m\u001b[1;33m\u001b[0m\u001b[1;33m\u001b[0m\u001b[0m\n\u001b[0m\u001b[0;32m    675\u001b[0m \u001b[1;33m\u001b[0m\u001b[0m\n\u001b[0;32m    676\u001b[0m         \u001b[1;31m# Assign chunk of trees to jobs\u001b[0m\u001b[1;33m\u001b[0m\u001b[1;33m\u001b[0m\u001b[1;33m\u001b[0m\u001b[0m\n",
      "\u001b[1;32mE:\\Anaconda3\\lib\\site-packages\\sklearn\\ensemble\\_forest.py\u001b[0m in \u001b[0;36m_validate_X_predict\u001b[1;34m(self, X)\u001b[0m\n\u001b[0;32m    420\u001b[0m         \u001b[0mcheck_is_fitted\u001b[0m\u001b[1;33m(\u001b[0m\u001b[0mself\u001b[0m\u001b[1;33m)\u001b[0m\u001b[1;33m\u001b[0m\u001b[1;33m\u001b[0m\u001b[0m\n\u001b[0;32m    421\u001b[0m \u001b[1;33m\u001b[0m\u001b[0m\n\u001b[1;32m--> 422\u001b[1;33m         \u001b[1;32mreturn\u001b[0m \u001b[0mself\u001b[0m\u001b[1;33m.\u001b[0m\u001b[0mestimators_\u001b[0m\u001b[1;33m[\u001b[0m\u001b[1;36m0\u001b[0m\u001b[1;33m]\u001b[0m\u001b[1;33m.\u001b[0m\u001b[0m_validate_X_predict\u001b[0m\u001b[1;33m(\u001b[0m\u001b[0mX\u001b[0m\u001b[1;33m,\u001b[0m \u001b[0mcheck_input\u001b[0m\u001b[1;33m=\u001b[0m\u001b[1;32mTrue\u001b[0m\u001b[1;33m)\u001b[0m\u001b[1;33m\u001b[0m\u001b[1;33m\u001b[0m\u001b[0m\n\u001b[0m\u001b[0;32m    423\u001b[0m \u001b[1;33m\u001b[0m\u001b[0m\n\u001b[0;32m    424\u001b[0m     \u001b[1;33m@\u001b[0m\u001b[0mproperty\u001b[0m\u001b[1;33m\u001b[0m\u001b[1;33m\u001b[0m\u001b[0m\n",
      "\u001b[1;32mE:\\Anaconda3\\lib\\site-packages\\sklearn\\tree\\_classes.py\u001b[0m in \u001b[0;36m_validate_X_predict\u001b[1;34m(self, X, check_input)\u001b[0m\n\u001b[0;32m    405\u001b[0m         \u001b[1;34m\"\"\"Validate the training data on predict (probabilities).\"\"\"\u001b[0m\u001b[1;33m\u001b[0m\u001b[1;33m\u001b[0m\u001b[0m\n\u001b[0;32m    406\u001b[0m         \u001b[1;32mif\u001b[0m \u001b[0mcheck_input\u001b[0m\u001b[1;33m:\u001b[0m\u001b[1;33m\u001b[0m\u001b[1;33m\u001b[0m\u001b[0m\n\u001b[1;32m--> 407\u001b[1;33m             X = self._validate_data(X, dtype=DTYPE, accept_sparse=\"csr\",\n\u001b[0m\u001b[0;32m    408\u001b[0m                                     reset=False)\n\u001b[0;32m    409\u001b[0m             if issparse(X) and (X.indices.dtype != np.intc or\n",
      "\u001b[1;32mE:\\Anaconda3\\lib\\site-packages\\sklearn\\base.py\u001b[0m in \u001b[0;36m_validate_data\u001b[1;34m(self, X, y, reset, validate_separately, **check_params)\u001b[0m\n\u001b[0;32m    435\u001b[0m \u001b[1;33m\u001b[0m\u001b[0m\n\u001b[0;32m    436\u001b[0m         \u001b[1;32mif\u001b[0m \u001b[0mcheck_params\u001b[0m\u001b[1;33m.\u001b[0m\u001b[0mget\u001b[0m\u001b[1;33m(\u001b[0m\u001b[1;34m'ensure_2d'\u001b[0m\u001b[1;33m,\u001b[0m \u001b[1;32mTrue\u001b[0m\u001b[1;33m)\u001b[0m\u001b[1;33m:\u001b[0m\u001b[1;33m\u001b[0m\u001b[1;33m\u001b[0m\u001b[0m\n\u001b[1;32m--> 437\u001b[1;33m             \u001b[0mself\u001b[0m\u001b[1;33m.\u001b[0m\u001b[0m_check_n_features\u001b[0m\u001b[1;33m(\u001b[0m\u001b[0mX\u001b[0m\u001b[1;33m,\u001b[0m \u001b[0mreset\u001b[0m\u001b[1;33m=\u001b[0m\u001b[0mreset\u001b[0m\u001b[1;33m)\u001b[0m\u001b[1;33m\u001b[0m\u001b[1;33m\u001b[0m\u001b[0m\n\u001b[0m\u001b[0;32m    438\u001b[0m \u001b[1;33m\u001b[0m\u001b[0m\n\u001b[0;32m    439\u001b[0m         \u001b[1;32mreturn\u001b[0m \u001b[0mout\u001b[0m\u001b[1;33m\u001b[0m\u001b[1;33m\u001b[0m\u001b[0m\n",
      "\u001b[1;32mE:\\Anaconda3\\lib\\site-packages\\sklearn\\base.py\u001b[0m in \u001b[0;36m_check_n_features\u001b[1;34m(self, X, reset)\u001b[0m\n\u001b[0;32m    363\u001b[0m \u001b[1;33m\u001b[0m\u001b[0m\n\u001b[0;32m    364\u001b[0m         \u001b[1;32mif\u001b[0m \u001b[0mn_features\u001b[0m \u001b[1;33m!=\u001b[0m \u001b[0mself\u001b[0m\u001b[1;33m.\u001b[0m\u001b[0mn_features_in_\u001b[0m\u001b[1;33m:\u001b[0m\u001b[1;33m\u001b[0m\u001b[1;33m\u001b[0m\u001b[0m\n\u001b[1;32m--> 365\u001b[1;33m             raise ValueError(\n\u001b[0m\u001b[0;32m    366\u001b[0m                 \u001b[1;34mf\"X has {n_features} features, but {self.__class__.__name__} \"\u001b[0m\u001b[1;33m\u001b[0m\u001b[1;33m\u001b[0m\u001b[0m\n\u001b[0;32m    367\u001b[0m                 f\"is expecting {self.n_features_in_} features as input.\")\n",
      "\u001b[1;31mValueError\u001b[0m: X has 1296 features, but ExtraTreeClassifier is expecting 101 features as input."
     ]
    }
   ],
   "source": [
    "#前项特征选择(CV model错了)\n",
    "from sklearn.model_selection import cross_val_score\n",
    "ET = ExtraTreesClassifier(random_state=10)\n",
    "# ALL_eval=pd.DataFrame()\n",
    "S=[]\n",
    "num = []\n",
    "for i in range(100,1290,10):\n",
    "    y_train = X_['label'].to_numpy()\n",
    "    X_train = X_[mrmd_data[:i+1]]\n",
    "    X_train1 = np.array(X_train)\n",
    "    #打乱数据\n",
    "    np.random.seed(1234)\n",
    "    idx = np.random.permutation(len(X_train1))\n",
    "    X_train1 = X_train1[idx]\n",
    "    y_train = y_train[idx]\n",
    "    print(X_train1.shape)\n",
    "    avg_score_test = MRMD_(X_train1,y_train,X_test,y_test)\n",
    "    S.append(avg_score_test)\n",
    "    num.append(i+1)\n",
    "# ALL_eval.columns=num"
   ]
  },
  {
   "cell_type": "code",
   "execution_count": 9,
   "id": "dcbc4e83",
   "metadata": {},
   "outputs": [],
   "source": [
    "#Boruta\n",
    "from boruta import BorutaPy\n",
    "#打乱数据\n",
    "np.random.seed(1234)\n",
    "idx = np.random.permutation(len(X_norm_train_resampled))\n",
    "X_norm_train = X_norm_train_resampled[idx]\n",
    "y_norm_train = y_train_resampled[idx]\n",
    "ET = ExtraTreesClassifier(random_state=10)\n",
    "feat_selector = BorutaPy(ET, n_estimators='auto', verbose=2, random_state=seed)"
   ]
  },
  {
   "cell_type": "code",
   "execution_count": 10,
   "id": "f6a251ae",
   "metadata": {
    "scrolled": true
   },
   "outputs": [
    {
     "name": "stdout",
     "output_type": "stream",
     "text": [
      "Iteration: \t1 / 100\n",
      "Confirmed: \t0\n",
      "Tentative: \t1296\n",
      "Rejected: \t0\n",
      "Iteration: \t2 / 100\n",
      "Confirmed: \t0\n",
      "Tentative: \t1296\n",
      "Rejected: \t0\n",
      "Iteration: \t3 / 100\n",
      "Confirmed: \t0\n",
      "Tentative: \t1296\n",
      "Rejected: \t0\n",
      "Iteration: \t4 / 100\n",
      "Confirmed: \t0\n",
      "Tentative: \t1296\n",
      "Rejected: \t0\n",
      "Iteration: \t5 / 100\n",
      "Confirmed: \t0\n",
      "Tentative: \t1296\n",
      "Rejected: \t0\n",
      "Iteration: \t6 / 100\n",
      "Confirmed: \t0\n",
      "Tentative: \t1296\n",
      "Rejected: \t0\n",
      "Iteration: \t7 / 100\n",
      "Confirmed: \t0\n",
      "Tentative: \t1296\n",
      "Rejected: \t0\n",
      "Iteration: \t8 / 100\n",
      "Confirmed: \t0\n",
      "Tentative: \t178\n",
      "Rejected: \t1118\n",
      "Iteration: \t9 / 100\n",
      "Confirmed: \t56\n",
      "Tentative: \t122\n",
      "Rejected: \t1118\n",
      "Iteration: \t10 / 100\n",
      "Confirmed: \t56\n",
      "Tentative: \t122\n",
      "Rejected: \t1118\n",
      "Iteration: \t11 / 100\n",
      "Confirmed: \t56\n",
      "Tentative: \t122\n",
      "Rejected: \t1118\n",
      "Iteration: \t12 / 100\n",
      "Confirmed: \t71\n",
      "Tentative: \t84\n",
      "Rejected: \t1141\n",
      "Iteration: \t13 / 100\n",
      "Confirmed: \t71\n",
      "Tentative: \t84\n",
      "Rejected: \t1141\n",
      "Iteration: \t14 / 100\n",
      "Confirmed: \t71\n",
      "Tentative: \t84\n",
      "Rejected: \t1141\n",
      "Iteration: \t15 / 100\n",
      "Confirmed: \t71\n",
      "Tentative: \t84\n",
      "Rejected: \t1141\n",
      "Iteration: \t16 / 100\n",
      "Confirmed: \t75\n",
      "Tentative: \t64\n",
      "Rejected: \t1157\n",
      "Iteration: \t17 / 100\n",
      "Confirmed: \t75\n",
      "Tentative: \t64\n",
      "Rejected: \t1157\n",
      "Iteration: \t18 / 100\n",
      "Confirmed: \t75\n",
      "Tentative: \t64\n",
      "Rejected: \t1157\n",
      "Iteration: \t19 / 100\n",
      "Confirmed: \t77\n",
      "Tentative: \t62\n",
      "Rejected: \t1157\n",
      "Iteration: \t20 / 100\n",
      "Confirmed: \t77\n",
      "Tentative: \t57\n",
      "Rejected: \t1162\n",
      "Iteration: \t21 / 100\n",
      "Confirmed: \t77\n",
      "Tentative: \t57\n",
      "Rejected: \t1162\n",
      "Iteration: \t22 / 100\n",
      "Confirmed: \t77\n",
      "Tentative: \t57\n",
      "Rejected: \t1162\n",
      "Iteration: \t23 / 100\n",
      "Confirmed: \t77\n",
      "Tentative: \t57\n",
      "Rejected: \t1162\n",
      "Iteration: \t24 / 100\n",
      "Confirmed: \t77\n",
      "Tentative: \t57\n",
      "Rejected: \t1162\n",
      "Iteration: \t25 / 100\n",
      "Confirmed: \t77\n",
      "Tentative: \t55\n",
      "Rejected: \t1164\n",
      "Iteration: \t26 / 100\n",
      "Confirmed: \t78\n",
      "Tentative: \t54\n",
      "Rejected: \t1164\n",
      "Iteration: \t27 / 100\n",
      "Confirmed: \t78\n",
      "Tentative: \t54\n",
      "Rejected: \t1164\n",
      "Iteration: \t28 / 100\n",
      "Confirmed: \t78\n",
      "Tentative: \t54\n",
      "Rejected: \t1164\n",
      "Iteration: \t29 / 100\n",
      "Confirmed: \t79\n",
      "Tentative: \t49\n",
      "Rejected: \t1168\n",
      "Iteration: \t30 / 100\n",
      "Confirmed: \t79\n",
      "Tentative: \t49\n",
      "Rejected: \t1168\n",
      "Iteration: \t31 / 100\n",
      "Confirmed: \t79\n",
      "Tentative: \t49\n",
      "Rejected: \t1168\n",
      "Iteration: \t32 / 100\n",
      "Confirmed: \t80\n",
      "Tentative: \t48\n",
      "Rejected: \t1168\n",
      "Iteration: \t33 / 100\n",
      "Confirmed: \t80\n",
      "Tentative: \t47\n",
      "Rejected: \t1169\n",
      "Iteration: \t34 / 100\n",
      "Confirmed: \t84\n",
      "Tentative: \t39\n",
      "Rejected: \t1173\n",
      "Iteration: \t35 / 100\n",
      "Confirmed: \t84\n",
      "Tentative: \t39\n",
      "Rejected: \t1173\n",
      "Iteration: \t36 / 100\n",
      "Confirmed: \t84\n",
      "Tentative: \t39\n",
      "Rejected: \t1173\n",
      "Iteration: \t37 / 100\n",
      "Confirmed: \t84\n",
      "Tentative: \t39\n",
      "Rejected: \t1173\n",
      "Iteration: \t38 / 100\n",
      "Confirmed: \t84\n",
      "Tentative: \t39\n",
      "Rejected: \t1173\n",
      "Iteration: \t39 / 100\n",
      "Confirmed: \t84\n",
      "Tentative: \t39\n",
      "Rejected: \t1173\n",
      "Iteration: \t40 / 100\n",
      "Confirmed: \t89\n",
      "Tentative: \t31\n",
      "Rejected: \t1176\n",
      "Iteration: \t41 / 100\n",
      "Confirmed: \t89\n",
      "Tentative: \t31\n",
      "Rejected: \t1176\n",
      "Iteration: \t42 / 100\n",
      "Confirmed: \t89\n",
      "Tentative: \t31\n",
      "Rejected: \t1176\n",
      "Iteration: \t43 / 100\n",
      "Confirmed: \t91\n",
      "Tentative: \t29\n",
      "Rejected: \t1176\n",
      "Iteration: \t44 / 100\n",
      "Confirmed: \t91\n",
      "Tentative: \t29\n",
      "Rejected: \t1176\n",
      "Iteration: \t45 / 100\n",
      "Confirmed: \t91\n",
      "Tentative: \t29\n",
      "Rejected: \t1176\n",
      "Iteration: \t46 / 100\n",
      "Confirmed: \t92\n",
      "Tentative: \t28\n",
      "Rejected: \t1176\n",
      "Iteration: \t47 / 100\n",
      "Confirmed: \t92\n",
      "Tentative: \t28\n",
      "Rejected: \t1176\n",
      "Iteration: \t48 / 100\n",
      "Confirmed: \t92\n",
      "Tentative: \t28\n",
      "Rejected: \t1176\n",
      "Iteration: \t49 / 100\n",
      "Confirmed: \t94\n",
      "Tentative: \t26\n",
      "Rejected: \t1176\n",
      "Iteration: \t50 / 100\n",
      "Confirmed: \t94\n",
      "Tentative: \t26\n",
      "Rejected: \t1176\n",
      "Iteration: \t51 / 100\n",
      "Confirmed: \t94\n",
      "Tentative: \t21\n",
      "Rejected: \t1181\n",
      "Iteration: \t52 / 100\n",
      "Confirmed: \t94\n",
      "Tentative: \t21\n",
      "Rejected: \t1181\n",
      "Iteration: \t53 / 100\n",
      "Confirmed: \t94\n",
      "Tentative: \t21\n",
      "Rejected: \t1181\n",
      "Iteration: \t54 / 100\n",
      "Confirmed: \t95\n",
      "Tentative: \t20\n",
      "Rejected: \t1181\n",
      "Iteration: \t55 / 100\n",
      "Confirmed: \t95\n",
      "Tentative: \t20\n",
      "Rejected: \t1181\n",
      "Iteration: \t56 / 100\n",
      "Confirmed: \t95\n",
      "Tentative: \t19\n",
      "Rejected: \t1182\n",
      "Iteration: \t57 / 100\n",
      "Confirmed: \t96\n",
      "Tentative: \t18\n",
      "Rejected: \t1182\n",
      "Iteration: \t58 / 100\n",
      "Confirmed: \t96\n",
      "Tentative: \t18\n",
      "Rejected: \t1182\n",
      "Iteration: \t59 / 100\n",
      "Confirmed: \t96\n",
      "Tentative: \t17\n",
      "Rejected: \t1183\n",
      "Iteration: \t60 / 100\n",
      "Confirmed: \t96\n",
      "Tentative: \t17\n",
      "Rejected: \t1183\n",
      "Iteration: \t61 / 100\n",
      "Confirmed: \t96\n",
      "Tentative: \t17\n",
      "Rejected: \t1183\n",
      "Iteration: \t62 / 100\n",
      "Confirmed: \t96\n",
      "Tentative: \t16\n",
      "Rejected: \t1184\n",
      "Iteration: \t63 / 100\n",
      "Confirmed: \t96\n",
      "Tentative: \t16\n",
      "Rejected: \t1184\n",
      "Iteration: \t64 / 100\n",
      "Confirmed: \t96\n",
      "Tentative: \t16\n",
      "Rejected: \t1184\n",
      "Iteration: \t65 / 100\n",
      "Confirmed: \t98\n",
      "Tentative: \t14\n",
      "Rejected: \t1184\n",
      "Iteration: \t66 / 100\n",
      "Confirmed: \t98\n",
      "Tentative: \t14\n",
      "Rejected: \t1184\n",
      "Iteration: \t67 / 100\n",
      "Confirmed: \t98\n",
      "Tentative: \t14\n",
      "Rejected: \t1184\n",
      "Iteration: \t68 / 100\n",
      "Confirmed: \t98\n",
      "Tentative: \t14\n",
      "Rejected: \t1184\n",
      "Iteration: \t69 / 100\n",
      "Confirmed: \t98\n",
      "Tentative: \t14\n",
      "Rejected: \t1184\n",
      "Iteration: \t70 / 100\n",
      "Confirmed: \t98\n",
      "Tentative: \t14\n",
      "Rejected: \t1184\n",
      "Iteration: \t71 / 100\n",
      "Confirmed: \t98\n",
      "Tentative: \t14\n",
      "Rejected: \t1184\n",
      "Iteration: \t72 / 100\n",
      "Confirmed: \t100\n",
      "Tentative: \t12\n",
      "Rejected: \t1184\n",
      "Iteration: \t73 / 100\n",
      "Confirmed: \t100\n",
      "Tentative: \t12\n",
      "Rejected: \t1184\n",
      "Iteration: \t74 / 100\n",
      "Confirmed: \t100\n",
      "Tentative: \t12\n",
      "Rejected: \t1184\n",
      "Iteration: \t75 / 100\n",
      "Confirmed: \t101\n",
      "Tentative: \t11\n",
      "Rejected: \t1184\n",
      "Iteration: \t76 / 100\n",
      "Confirmed: \t101\n",
      "Tentative: \t11\n",
      "Rejected: \t1184\n",
      "Iteration: \t77 / 100\n",
      "Confirmed: \t102\n",
      "Tentative: \t9\n",
      "Rejected: \t1185\n",
      "Iteration: \t78 / 100\n",
      "Confirmed: \t102\n",
      "Tentative: \t9\n",
      "Rejected: \t1185\n",
      "Iteration: \t79 / 100\n",
      "Confirmed: \t102\n",
      "Tentative: \t9\n",
      "Rejected: \t1185\n",
      "Iteration: \t80 / 100\n",
      "Confirmed: \t102\n",
      "Tentative: \t9\n",
      "Rejected: \t1185\n",
      "Iteration: \t81 / 100\n",
      "Confirmed: \t102\n",
      "Tentative: \t9\n",
      "Rejected: \t1185\n",
      "Iteration: \t82 / 100\n",
      "Confirmed: \t102\n",
      "Tentative: \t9\n",
      "Rejected: \t1185\n",
      "Iteration: \t83 / 100\n",
      "Confirmed: \t102\n",
      "Tentative: \t9\n",
      "Rejected: \t1185\n",
      "Iteration: \t84 / 100\n",
      "Confirmed: \t102\n",
      "Tentative: \t9\n",
      "Rejected: \t1185\n",
      "Iteration: \t85 / 100\n",
      "Confirmed: \t102\n",
      "Tentative: \t9\n",
      "Rejected: \t1185\n",
      "Iteration: \t86 / 100\n",
      "Confirmed: \t102\n",
      "Tentative: \t9\n",
      "Rejected: \t1185\n",
      "Iteration: \t87 / 100\n",
      "Confirmed: \t102\n",
      "Tentative: \t9\n",
      "Rejected: \t1185\n",
      "Iteration: \t88 / 100\n",
      "Confirmed: \t102\n",
      "Tentative: \t9\n",
      "Rejected: \t1185\n",
      "Iteration: \t89 / 100\n",
      "Confirmed: \t102\n",
      "Tentative: \t9\n",
      "Rejected: \t1185\n",
      "Iteration: \t90 / 100\n",
      "Confirmed: \t102\n",
      "Tentative: \t9\n",
      "Rejected: \t1185\n",
      "Iteration: \t91 / 100\n",
      "Confirmed: \t102\n",
      "Tentative: \t9\n",
      "Rejected: \t1185\n",
      "Iteration: \t92 / 100\n",
      "Confirmed: \t102\n",
      "Tentative: \t9\n",
      "Rejected: \t1185\n",
      "Iteration: \t93 / 100\n",
      "Confirmed: \t102\n",
      "Tentative: \t9\n",
      "Rejected: \t1185\n",
      "Iteration: \t94 / 100\n",
      "Confirmed: \t102\n",
      "Tentative: \t9\n",
      "Rejected: \t1185\n",
      "Iteration: \t95 / 100\n",
      "Confirmed: \t102\n",
      "Tentative: \t9\n",
      "Rejected: \t1185\n",
      "Iteration: \t96 / 100\n",
      "Confirmed: \t102\n",
      "Tentative: \t9\n",
      "Rejected: \t1185\n",
      "Iteration: \t97 / 100\n",
      "Confirmed: \t102\n",
      "Tentative: \t9\n",
      "Rejected: \t1185\n",
      "Iteration: \t98 / 100\n",
      "Confirmed: \t102\n",
      "Tentative: \t9\n",
      "Rejected: \t1185\n",
      "Iteration: \t99 / 100\n",
      "Confirmed: \t102\n",
      "Tentative: \t9\n",
      "Rejected: \t1185\n",
      "\n",
      "\n",
      "BorutaPy finished running.\n",
      "\n",
      "Iteration: \t100 / 100\n",
      "Confirmed: \t102\n",
      "Tentative: \t3\n",
      "Rejected: \t1185\n"
     ]
    },
    {
     "data": {
      "text/plain": [
       "BorutaPy(estimator=XGBClassifier(base_score=0.5, booster='gbtree',\n",
       "                                 colsample_bylevel=1, colsample_bynode=1,\n",
       "                                 colsample_bytree=1, gamma=0, gpu_id=-1,\n",
       "                                 importance_type='gain',\n",
       "                                 interaction_constraints='',\n",
       "                                 learning_rate=0.300000012, max_delta_step=0,\n",
       "                                 max_depth=6, min_child_weight=1, missing=nan,\n",
       "                                 monotone_constraints='()', n_estimators=248,\n",
       "                                 n_jobs=0, num_parallel_tree=1,\n",
       "                                 random_state=1197928190, reg_alpha=0,\n",
       "                                 reg_lambda=1, scale_pos_weight=1, subsample=1,\n",
       "                                 tree_method='exact', validate_parameters=1,\n",
       "                                 verbosity=None),\n",
       "         n_estimators='auto',\n",
       "         random_state=RandomState(MT19937) at 0x17A2B0DB040, verbose=2)"
      ]
     },
     "execution_count": 10,
     "metadata": {},
     "output_type": "execute_result"
    }
   ],
   "source": [
    "feat_selector.fit(X_norm_train,y_norm_train)"
   ]
  },
  {
   "cell_type": "code",
   "execution_count": 89,
   "id": "8f6e2379",
   "metadata": {},
   "outputs": [],
   "source": [
    "X_norm_filtered_train = feat_selector.transform(X_norm_train_resampled)\n",
    "X_train_boruta = pd.DataFrame(X_norm_filtered_train)\n",
    "X_train_boruta.to_csv('Feature_different/X_train_Boruta.csv',index = False)\n",
    "X_norm_filtered_test = feat_selector.transform(X_test_norm)\n",
    "X_test_boruta = pd.DataFrame(X_norm_filtered_test)\n",
    "X_test_boruta.to_csv('Feature_different/X_test_Boruta.csv',index = False)"
   ]
  },
  {
   "cell_type": "code",
   "execution_count": 91,
   "id": "f84fe55d",
   "metadata": {},
   "outputs": [],
   "source": [
    "y_train_ = pd.DataFrame(y_train_resampled)\n",
    "y_train_.to_csv('Feature_different/y_train.csv',index = False)"
   ]
  },
  {
   "cell_type": "code",
   "execution_count": 19,
   "id": "d7613c62",
   "metadata": {},
   "outputs": [],
   "source": [
    "# final_features = list()\n",
    "indexes = np.where(feat_selector.support_ == True)"
   ]
  },
  {
   "cell_type": "code",
   "execution_count": 71,
   "id": "2b3b7e20",
   "metadata": {},
   "outputs": [
    {
     "data": {
      "text/plain": [
       "array([False,  True, False, ..., False, False, False])"
      ]
     },
     "execution_count": 71,
     "metadata": {},
     "output_type": "execute_result"
    }
   ],
   "source": [
    "feat_selector.support_"
   ]
  },
  {
   "cell_type": "code",
   "execution_count": 21,
   "id": "a868b673",
   "metadata": {},
   "outputs": [],
   "source": [
    "np.save('Feature_different/boruta_fea.txt',indexes)\n",
    "# c = np.load('Feature_different/F_score_fea.txt.npy')"
   ]
  },
  {
   "cell_type": "code",
   "execution_count": 11,
   "id": "12861e0a",
   "metadata": {},
   "outputs": [],
   "source": [
    "from sklearn.ensemble import ExtraTreesClassifier\n",
    "ET = ExtraTreesClassifier(random_state=seed)"
   ]
  },
  {
   "cell_type": "code",
   "execution_count": 6,
   "id": "417b838b",
   "metadata": {},
   "outputs": [],
   "source": [
    "#F_score\n",
    "import numpy as np\n",
    "from sklearn.feature_selection import f_classif\n",
    "from sklearn.feature_selection import SelectKBest\n",
    "#打乱数据\n",
    "np.random.seed(1234)\n",
    "idx = np.random.permutation(len(X_norm_train_resampled))\n",
    "X_norm_train = X_norm_train_resampled[idx]\n",
    "y_norm_train = y_train_resampled[idx]"
   ]
  },
  {
   "cell_type": "code",
   "execution_count": 7,
   "id": "8b5747bd",
   "metadata": {},
   "outputs": [
    {
     "name": "stdout",
     "output_type": "stream",
     "text": [
      "1024\n"
     ]
    }
   ],
   "source": [
    "F, pvalues_f = f_classif(X_norm_train,y_norm_train)\n",
    "k = F.shape[0] - (pvalues_f > 0.05).sum()\n",
    "print(k)"
   ]
  },
  {
   "cell_type": "code",
   "execution_count": 8,
   "id": "5217876a",
   "metadata": {},
   "outputs": [
    {
     "data": {
      "text/plain": [
       "SelectKBest(k=1024)"
      ]
     },
     "execution_count": 8,
     "metadata": {},
     "output_type": "execute_result"
    }
   ],
   "source": [
    "selector = SelectKBest(f_classif, k=1024) # k => 我们想要选择的变量数\n",
    "selector.fit(X_norm_train,y_norm_train) # 在训练集上训练\n",
    "\n",
    "# index_F = selector.fit(X_norm_train,y_norm_train).get_support(indices=True)#得到索引\n",
    "# transformed_train.shape #(100, 2), 其选择了第三个及第四个变量 "
   ]
  },
  {
   "cell_type": "code",
   "execution_count": 25,
   "id": "0ee54238",
   "metadata": {},
   "outputs": [],
   "source": [
    "np.save('Feature_different/F_score_fea.txt',index_F)\n",
    "# c = np.load('Feature_different/F_score_fea.txt.npy')"
   ]
  },
  {
   "cell_type": "code",
   "execution_count": 9,
   "id": "ef724f92",
   "metadata": {},
   "outputs": [],
   "source": [
    "transformed_train = selector.transform(X_norm_train_resampled)# 转换训练集\n",
    "transformed_test = selector.transform(X_test_norm)\n",
    "# X_F_train = pd.DataFrame(transformed_train)\n",
    "# X_F_train.to_csv('Feature_different/X_train_Fscore.csv')\n",
    "# X_F_test = pd.DataFrame(transformed_test)\n",
    "# X_F_test.to_csv('Feature_different/X_test_Fscore.csv')"
   ]
  },
  {
   "cell_type": "code",
   "execution_count": 18,
   "id": "49468d20",
   "metadata": {},
   "outputs": [],
   "source": [
    "from mlxtend.feature_selection import SequentialFeatureSelector as sfs\n",
    "from mlxtend.plotting import plot_sequential_feature_selection as plot_sfs"
   ]
  },
  {
   "cell_type": "code",
   "execution_count": null,
   "id": "086dbaed",
   "metadata": {},
   "outputs": [],
   "source": []
  },
  {
   "cell_type": "markdown",
   "id": "64e705f6",
   "metadata": {},
   "source": [
    "#### Simulated Annealing (SA) 基于模拟退火特征选择"
   ]
  },
  {
   "cell_type": "code",
   "execution_count": 103,
   "id": "4d304241",
   "metadata": {},
   "outputs": [],
   "source": [
    "from GA import Genetic_Algorithm # 导入模块\n",
    "import numpy as np\n",
    "import random\n",
    "\n",
    "#打乱数据\n",
    "np.random.seed(1234)\n",
    "idx = np.random.permutation(len(X_norm_train_resampled))\n",
    "X_norm_train = X_norm_train_resampled[idx]\n",
    "y_norm_train = y_train_resampled[idx]\n"
   ]
  },
  {
   "cell_type": "code",
   "execution_count": 104,
   "id": "00554414",
   "metadata": {},
   "outputs": [],
   "source": [
    "X_norm_train_set = X_norm_train[0:1036,:]\n",
    "val_set = X_norm_train[1036:1296,:]\n",
    "y_norm_train_set = y_norm_train[0:1036]\n",
    "val_y = y_norm_train[1036:1296]"
   ]
  },
  {
   "cell_type": "code",
   "execution_count": 105,
   "id": "016a2cf6",
   "metadata": {},
   "outputs": [
    {
     "name": "stderr",
     "output_type": "stream",
     "text": [
      "100%|████████████████████████████████████████████████████████████████████████████████| 100/100 [05:17<00:00,  3.17s/it]\n"
     ]
    }
   ],
   "source": [
    "random.seed()\n",
    "np.random.seed()\n",
    "from sklearn.ensemble import ExtraTreesClassifier\n",
    "ET = ExtraTreesClassifier(random_state=seed)\n",
    "from sklearn.metrics import log_loss\n",
    "GA = Genetic_Algorithm(loss_func = log_loss, estimator = ET, \n",
    "                             n_gen = 100, n_pop = 15, predict_type = 'predict_proba')\n",
    "GA.fit(X_train = X_norm_train_set, y_train = y_norm_train_set, X_val = val_set, \n",
    "             y_val = val_y, stop_point = 15) "
   ]
  },
  {
   "cell_type": "code",
   "execution_count": 106,
   "id": "e9a838ec",
   "metadata": {},
   "outputs": [],
   "source": [
    "GA_train = GA.transform(X_norm_train_resampled)  # 转换训练集\n",
    "X_GA_train = pd.DataFrame(GA_train)\n",
    "GA_test = GA.transform(X_test_norm)  # 转换测试集\n",
    "X_GA_test = pd.DataFrame(GA_test)\n",
    "X_GA_train.to_csv('Feature_different/X_train_GA.csv')\n",
    "X_GA_test.to_csv('Feature_different/X_test_GA.csv')"
   ]
  },
  {
   "cell_type": "code",
   "execution_count": 108,
   "id": "4ef7c7f4",
   "metadata": {},
   "outputs": [
    {
     "name": "stdout",
     "output_type": "stream",
     "text": [
      "(0.0942,)\n"
     ]
    }
   ],
   "source": [
    "print(GA.best_loss) # 返回最优特征子集对应的损失"
   ]
  },
  {
   "cell_type": "code",
   "execution_count": 109,
   "id": "ab084a93",
   "metadata": {},
   "outputs": [
    {
     "data": {
      "text/html": [
       "<div>\n",
       "<style scoped>\n",
       "    .dataframe tbody tr th:only-of-type {\n",
       "        vertical-align: middle;\n",
       "    }\n",
       "\n",
       "    .dataframe tbody tr th {\n",
       "        vertical-align: top;\n",
       "    }\n",
       "\n",
       "    .dataframe thead th {\n",
       "        text-align: right;\n",
       "    }\n",
       "</style>\n",
       "<table border=\"1\" class=\"dataframe\">\n",
       "  <thead>\n",
       "    <tr style=\"text-align: right;\">\n",
       "      <th></th>\n",
       "      <th>0</th>\n",
       "      <th>1</th>\n",
       "      <th>2</th>\n",
       "      <th>3</th>\n",
       "      <th>4</th>\n",
       "      <th>5</th>\n",
       "      <th>6</th>\n",
       "      <th>7</th>\n",
       "      <th>8</th>\n",
       "      <th>9</th>\n",
       "      <th>...</th>\n",
       "      <th>632</th>\n",
       "      <th>633</th>\n",
       "      <th>634</th>\n",
       "      <th>635</th>\n",
       "      <th>636</th>\n",
       "      <th>637</th>\n",
       "      <th>638</th>\n",
       "      <th>639</th>\n",
       "      <th>640</th>\n",
       "      <th>641</th>\n",
       "    </tr>\n",
       "  </thead>\n",
       "  <tbody>\n",
       "    <tr>\n",
       "      <th>0</th>\n",
       "      <td>0.000000</td>\n",
       "      <td>0.000000</td>\n",
       "      <td>0.000000</td>\n",
       "      <td>0.000000</td>\n",
       "      <td>0.000000</td>\n",
       "      <td>0.070050</td>\n",
       "      <td>0.000000</td>\n",
       "      <td>0.000000</td>\n",
       "      <td>0.000000</td>\n",
       "      <td>0.000000</td>\n",
       "      <td>...</td>\n",
       "      <td>0.000000</td>\n",
       "      <td>0.000000</td>\n",
       "      <td>0.000000</td>\n",
       "      <td>0.194444</td>\n",
       "      <td>0.000000</td>\n",
       "      <td>0.000000</td>\n",
       "      <td>0.000000</td>\n",
       "      <td>0.000000</td>\n",
       "      <td>0.583333</td>\n",
       "      <td>0.000000</td>\n",
       "    </tr>\n",
       "    <tr>\n",
       "      <th>1</th>\n",
       "      <td>0.040784</td>\n",
       "      <td>0.000000</td>\n",
       "      <td>0.142268</td>\n",
       "      <td>0.244437</td>\n",
       "      <td>0.066610</td>\n",
       "      <td>0.065643</td>\n",
       "      <td>0.073295</td>\n",
       "      <td>0.102683</td>\n",
       "      <td>0.077422</td>\n",
       "      <td>0.000000</td>\n",
       "      <td>...</td>\n",
       "      <td>0.000000</td>\n",
       "      <td>0.000000</td>\n",
       "      <td>0.000000</td>\n",
       "      <td>0.000000</td>\n",
       "      <td>0.209524</td>\n",
       "      <td>0.238730</td>\n",
       "      <td>0.071429</td>\n",
       "      <td>0.000000</td>\n",
       "      <td>0.100000</td>\n",
       "      <td>0.000000</td>\n",
       "    </tr>\n",
       "    <tr>\n",
       "      <th>2</th>\n",
       "      <td>0.000000</td>\n",
       "      <td>0.082704</td>\n",
       "      <td>0.000000</td>\n",
       "      <td>0.000000</td>\n",
       "      <td>0.259452</td>\n",
       "      <td>0.170457</td>\n",
       "      <td>0.095164</td>\n",
       "      <td>0.133320</td>\n",
       "      <td>0.000000</td>\n",
       "      <td>0.000000</td>\n",
       "      <td>...</td>\n",
       "      <td>0.000000</td>\n",
       "      <td>0.000000</td>\n",
       "      <td>0.000000</td>\n",
       "      <td>0.000000</td>\n",
       "      <td>0.000000</td>\n",
       "      <td>0.000000</td>\n",
       "      <td>0.000000</td>\n",
       "      <td>0.000000</td>\n",
       "      <td>0.000000</td>\n",
       "      <td>0.000000</td>\n",
       "    </tr>\n",
       "    <tr>\n",
       "      <th>3</th>\n",
       "      <td>0.000000</td>\n",
       "      <td>0.000000</td>\n",
       "      <td>0.000000</td>\n",
       "      <td>0.000000</td>\n",
       "      <td>0.000000</td>\n",
       "      <td>0.154002</td>\n",
       "      <td>0.000000</td>\n",
       "      <td>0.000000</td>\n",
       "      <td>0.090818</td>\n",
       "      <td>0.000000</td>\n",
       "      <td>...</td>\n",
       "      <td>0.000000</td>\n",
       "      <td>0.000000</td>\n",
       "      <td>0.000000</td>\n",
       "      <td>0.000000</td>\n",
       "      <td>0.000000</td>\n",
       "      <td>0.000000</td>\n",
       "      <td>0.000000</td>\n",
       "      <td>0.000000</td>\n",
       "      <td>0.269231</td>\n",
       "      <td>0.000000</td>\n",
       "    </tr>\n",
       "    <tr>\n",
       "      <th>4</th>\n",
       "      <td>0.046593</td>\n",
       "      <td>0.145541</td>\n",
       "      <td>0.000000</td>\n",
       "      <td>0.139625</td>\n",
       "      <td>0.000000</td>\n",
       "      <td>0.074992</td>\n",
       "      <td>0.000000</td>\n",
       "      <td>0.000000</td>\n",
       "      <td>0.088449</td>\n",
       "      <td>0.000000</td>\n",
       "      <td>...</td>\n",
       "      <td>0.000000</td>\n",
       "      <td>0.000000</td>\n",
       "      <td>0.000000</td>\n",
       "      <td>0.000000</td>\n",
       "      <td>0.000000</td>\n",
       "      <td>0.000000</td>\n",
       "      <td>0.000000</td>\n",
       "      <td>0.000000</td>\n",
       "      <td>0.000000</td>\n",
       "      <td>0.000000</td>\n",
       "    </tr>\n",
       "    <tr>\n",
       "      <th>...</th>\n",
       "      <td>...</td>\n",
       "      <td>...</td>\n",
       "      <td>...</td>\n",
       "      <td>...</td>\n",
       "      <td>...</td>\n",
       "      <td>...</td>\n",
       "      <td>...</td>\n",
       "      <td>...</td>\n",
       "      <td>...</td>\n",
       "      <td>...</td>\n",
       "      <td>...</td>\n",
       "      <td>...</td>\n",
       "      <td>...</td>\n",
       "      <td>...</td>\n",
       "      <td>...</td>\n",
       "      <td>...</td>\n",
       "      <td>...</td>\n",
       "      <td>...</td>\n",
       "      <td>...</td>\n",
       "      <td>...</td>\n",
       "      <td>...</td>\n",
       "    </tr>\n",
       "    <tr>\n",
       "      <th>2557</th>\n",
       "      <td>0.000000</td>\n",
       "      <td>0.020588</td>\n",
       "      <td>0.076577</td>\n",
       "      <td>0.394711</td>\n",
       "      <td>0.021529</td>\n",
       "      <td>0.173158</td>\n",
       "      <td>0.078904</td>\n",
       "      <td>0.254270</td>\n",
       "      <td>0.095859</td>\n",
       "      <td>0.201241</td>\n",
       "      <td>...</td>\n",
       "      <td>0.000000</td>\n",
       "      <td>0.000000</td>\n",
       "      <td>0.000000</td>\n",
       "      <td>0.025972</td>\n",
       "      <td>0.000000</td>\n",
       "      <td>0.093004</td>\n",
       "      <td>0.000000</td>\n",
       "      <td>0.048697</td>\n",
       "      <td>0.116873</td>\n",
       "      <td>0.000000</td>\n",
       "    </tr>\n",
       "    <tr>\n",
       "      <th>2558</th>\n",
       "      <td>0.000000</td>\n",
       "      <td>0.072359</td>\n",
       "      <td>0.000000</td>\n",
       "      <td>0.000000</td>\n",
       "      <td>0.075666</td>\n",
       "      <td>0.309715</td>\n",
       "      <td>0.036822</td>\n",
       "      <td>0.116644</td>\n",
       "      <td>0.082869</td>\n",
       "      <td>0.093912</td>\n",
       "      <td>...</td>\n",
       "      <td>0.043447</td>\n",
       "      <td>0.017379</td>\n",
       "      <td>0.000000</td>\n",
       "      <td>0.000000</td>\n",
       "      <td>0.000000</td>\n",
       "      <td>0.000000</td>\n",
       "      <td>0.000000</td>\n",
       "      <td>0.000000</td>\n",
       "      <td>0.000000</td>\n",
       "      <td>0.000000</td>\n",
       "    </tr>\n",
       "    <tr>\n",
       "      <th>2559</th>\n",
       "      <td>0.045034</td>\n",
       "      <td>0.000000</td>\n",
       "      <td>0.060368</td>\n",
       "      <td>0.000000</td>\n",
       "      <td>0.056529</td>\n",
       "      <td>0.077869</td>\n",
       "      <td>0.000000</td>\n",
       "      <td>0.113383</td>\n",
       "      <td>0.065705</td>\n",
       "      <td>0.000000</td>\n",
       "      <td>...</td>\n",
       "      <td>0.000000</td>\n",
       "      <td>0.000000</td>\n",
       "      <td>0.000000</td>\n",
       "      <td>0.087154</td>\n",
       "      <td>0.158122</td>\n",
       "      <td>0.000000</td>\n",
       "      <td>0.078947</td>\n",
       "      <td>0.138158</td>\n",
       "      <td>0.221053</td>\n",
       "      <td>0.017968</td>\n",
       "    </tr>\n",
       "    <tr>\n",
       "      <th>2560</th>\n",
       "      <td>0.097397</td>\n",
       "      <td>0.024469</td>\n",
       "      <td>0.224524</td>\n",
       "      <td>0.000000</td>\n",
       "      <td>0.159071</td>\n",
       "      <td>0.214864</td>\n",
       "      <td>0.000000</td>\n",
       "      <td>0.039444</td>\n",
       "      <td>0.184891</td>\n",
       "      <td>0.000000</td>\n",
       "      <td>...</td>\n",
       "      <td>0.000000</td>\n",
       "      <td>0.000000</td>\n",
       "      <td>0.030099</td>\n",
       "      <td>0.028092</td>\n",
       "      <td>0.087359</td>\n",
       "      <td>0.000000</td>\n",
       "      <td>0.029782</td>\n",
       "      <td>0.065564</td>\n",
       "      <td>0.010312</td>\n",
       "      <td>0.000000</td>\n",
       "    </tr>\n",
       "    <tr>\n",
       "      <th>2561</th>\n",
       "      <td>0.027145</td>\n",
       "      <td>0.299840</td>\n",
       "      <td>0.000000</td>\n",
       "      <td>0.000000</td>\n",
       "      <td>0.000000</td>\n",
       "      <td>0.131070</td>\n",
       "      <td>0.000000</td>\n",
       "      <td>0.000000</td>\n",
       "      <td>0.419699</td>\n",
       "      <td>0.000000</td>\n",
       "      <td>...</td>\n",
       "      <td>0.000000</td>\n",
       "      <td>0.000000</td>\n",
       "      <td>0.075567</td>\n",
       "      <td>0.008816</td>\n",
       "      <td>0.000000</td>\n",
       "      <td>0.000000</td>\n",
       "      <td>0.018892</td>\n",
       "      <td>0.000000</td>\n",
       "      <td>0.026448</td>\n",
       "      <td>0.006297</td>\n",
       "    </tr>\n",
       "  </tbody>\n",
       "</table>\n",
       "<p>2562 rows × 642 columns</p>\n",
       "</div>"
      ],
      "text/plain": [
       "           0         1         2         3         4         5         6    \\\n",
       "0     0.000000  0.000000  0.000000  0.000000  0.000000  0.070050  0.000000   \n",
       "1     0.040784  0.000000  0.142268  0.244437  0.066610  0.065643  0.073295   \n",
       "2     0.000000  0.082704  0.000000  0.000000  0.259452  0.170457  0.095164   \n",
       "3     0.000000  0.000000  0.000000  0.000000  0.000000  0.154002  0.000000   \n",
       "4     0.046593  0.145541  0.000000  0.139625  0.000000  0.074992  0.000000   \n",
       "...        ...       ...       ...       ...       ...       ...       ...   \n",
       "2557  0.000000  0.020588  0.076577  0.394711  0.021529  0.173158  0.078904   \n",
       "2558  0.000000  0.072359  0.000000  0.000000  0.075666  0.309715  0.036822   \n",
       "2559  0.045034  0.000000  0.060368  0.000000  0.056529  0.077869  0.000000   \n",
       "2560  0.097397  0.024469  0.224524  0.000000  0.159071  0.214864  0.000000   \n",
       "2561  0.027145  0.299840  0.000000  0.000000  0.000000  0.131070  0.000000   \n",
       "\n",
       "           7         8         9    ...       632       633       634  \\\n",
       "0     0.000000  0.000000  0.000000  ...  0.000000  0.000000  0.000000   \n",
       "1     0.102683  0.077422  0.000000  ...  0.000000  0.000000  0.000000   \n",
       "2     0.133320  0.000000  0.000000  ...  0.000000  0.000000  0.000000   \n",
       "3     0.000000  0.090818  0.000000  ...  0.000000  0.000000  0.000000   \n",
       "4     0.000000  0.088449  0.000000  ...  0.000000  0.000000  0.000000   \n",
       "...        ...       ...       ...  ...       ...       ...       ...   \n",
       "2557  0.254270  0.095859  0.201241  ...  0.000000  0.000000  0.000000   \n",
       "2558  0.116644  0.082869  0.093912  ...  0.043447  0.017379  0.000000   \n",
       "2559  0.113383  0.065705  0.000000  ...  0.000000  0.000000  0.000000   \n",
       "2560  0.039444  0.184891  0.000000  ...  0.000000  0.000000  0.030099   \n",
       "2561  0.000000  0.419699  0.000000  ...  0.000000  0.000000  0.075567   \n",
       "\n",
       "           635       636       637       638       639       640       641  \n",
       "0     0.194444  0.000000  0.000000  0.000000  0.000000  0.583333  0.000000  \n",
       "1     0.000000  0.209524  0.238730  0.071429  0.000000  0.100000  0.000000  \n",
       "2     0.000000  0.000000  0.000000  0.000000  0.000000  0.000000  0.000000  \n",
       "3     0.000000  0.000000  0.000000  0.000000  0.000000  0.269231  0.000000  \n",
       "4     0.000000  0.000000  0.000000  0.000000  0.000000  0.000000  0.000000  \n",
       "...        ...       ...       ...       ...       ...       ...       ...  \n",
       "2557  0.025972  0.000000  0.093004  0.000000  0.048697  0.116873  0.000000  \n",
       "2558  0.000000  0.000000  0.000000  0.000000  0.000000  0.000000  0.000000  \n",
       "2559  0.087154  0.158122  0.000000  0.078947  0.138158  0.221053  0.017968  \n",
       "2560  0.028092  0.087359  0.000000  0.029782  0.065564  0.010312  0.000000  \n",
       "2561  0.008816  0.000000  0.000000  0.018892  0.000000  0.026448  0.006297  \n",
       "\n",
       "[2562 rows x 642 columns]"
      ]
     },
     "execution_count": 109,
     "metadata": {},
     "output_type": "execute_result"
    }
   ],
   "source": [
    "X_GA_train"
   ]
  },
  {
   "cell_type": "code",
   "execution_count": 82,
   "id": "076ad2a8",
   "metadata": {},
   "outputs": [],
   "source": [
    "indexes_GA = np.where(np.array(selector.best_sol)== True)"
   ]
  },
  {
   "cell_type": "code",
   "execution_count": 84,
   "id": "e41ba333",
   "metadata": {},
   "outputs": [],
   "source": [
    "np.save('Feature_different/GA_fea.txt',indexes_GA)"
   ]
  },
  {
   "cell_type": "markdown",
   "id": "fd63fefe",
   "metadata": {},
   "source": [
    "#### 互信息"
   ]
  },
  {
   "cell_type": "code",
   "execution_count": null,
   "id": "2554e9c8",
   "metadata": {},
   "outputs": [],
   "source": [
    "X = pd.read_csv('data/')"
   ]
  },
  {
   "cell_type": "code",
   "execution_count": 7,
   "id": "9cfc7fee",
   "metadata": {},
   "outputs": [],
   "source": [
    "import numpy as np\n",
    "from sklearn.feature_selection import mutual_info_classif\n",
    "from sklearn.feature_selection import SelectKBest"
   ]
  },
  {
   "cell_type": "code",
   "execution_count": 8,
   "id": "d9cf5b2f",
   "metadata": {},
   "outputs": [],
   "source": [
    "def udf_MI(X, y):\n",
    "    result = mutual_info_classif(X, y, n_neighbors = 5) # 用户可以输入想要的临近数\n",
    "    return result"
   ]
  },
  {
   "cell_type": "code",
   "execution_count": 6,
   "id": "9f6942cc",
   "metadata": {},
   "outputs": [],
   "source": [
    "np.random.seed(1234)\n",
    "idx = np.random.permutation(len(X_norm_train_resampled))\n",
    "X_norm_train = X_norm_train_resampled[idx]\n",
    "y_norm_train = y_train_resampled[idx]"
   ]
  },
  {
   "cell_type": "code",
   "execution_count": 11,
   "id": "6bdb5a72",
   "metadata": {},
   "outputs": [],
   "source": [
    "score = udf_MI(X_norm_train,y_norm_train)\n",
    "sco_mean = score.mean()\n",
    "k = score.shape[0] - (score <= sco_mean).sum()\n",
    "print(k)"
   ]
  },
  {
   "cell_type": "code",
   "execution_count": 30,
   "id": "d42a9f3b",
   "metadata": {},
   "outputs": [],
   "source": [
    "selector_MI = SelectKBest(udf_MI, k=515) # k => 我们想要选择的变量数\n",
    "selector_MI.fit(X_norm_train,y_norm_train) # 在训练集上训练\n",
    "MI_transformed_test = selector_MI.transform(X_test_norm)\n",
    "MI_transformed_train = selector_MI.transform(X_norm_train_resampled) # 转换训练集"
   ]
  },
  {
   "cell_type": "code",
   "execution_count": 1,
   "id": "b6d222f5",
   "metadata": {},
   "outputs": [
    {
     "ename": "NameError",
     "evalue": "name 'pd' is not defined",
     "output_type": "error",
     "traceback": [
      "\u001b[1;31m---------------------------------------------------------------------------\u001b[0m",
      "\u001b[1;31mNameError\u001b[0m                                 Traceback (most recent call last)",
      "\u001b[1;32m<ipython-input-1-526c471c8df1>\u001b[0m in \u001b[0;36m<module>\u001b[1;34m\u001b[0m\n\u001b[1;32m----> 1\u001b[1;33m \u001b[0mX_MI_train\u001b[0m \u001b[1;33m=\u001b[0m \u001b[0mpd\u001b[0m\u001b[1;33m.\u001b[0m\u001b[0mDataFrame\u001b[0m\u001b[1;33m(\u001b[0m\u001b[0mMI_transformed_train\u001b[0m\u001b[1;33m)\u001b[0m\u001b[1;33m\u001b[0m\u001b[1;33m\u001b[0m\u001b[0m\n\u001b[0m\u001b[0;32m      2\u001b[0m \u001b[0mX_MI_train\u001b[0m\u001b[1;33m.\u001b[0m\u001b[0mto_csv\u001b[0m\u001b[1;33m(\u001b[0m\u001b[1;34m'Feature_different/X_train_MI.csv'\u001b[0m\u001b[1;33m,\u001b[0m\u001b[0mindex\u001b[0m \u001b[1;33m=\u001b[0m \u001b[1;32mFalse\u001b[0m\u001b[1;33m)\u001b[0m\u001b[1;33m\u001b[0m\u001b[1;33m\u001b[0m\u001b[0m\n\u001b[0;32m      3\u001b[0m \u001b[0mX_MI_test\u001b[0m \u001b[1;33m=\u001b[0m \u001b[0mpd\u001b[0m\u001b[1;33m.\u001b[0m\u001b[0mDataFrame\u001b[0m\u001b[1;33m(\u001b[0m\u001b[0mMI_transformed_test\u001b[0m\u001b[1;33m)\u001b[0m\u001b[1;33m\u001b[0m\u001b[1;33m\u001b[0m\u001b[0m\n\u001b[0;32m      4\u001b[0m \u001b[0mX_MI_test\u001b[0m\u001b[1;33m.\u001b[0m\u001b[0mto_csv\u001b[0m\u001b[1;33m(\u001b[0m\u001b[1;34m'Feature_different/X_test_MI.csv'\u001b[0m\u001b[1;33m,\u001b[0m\u001b[0mindex\u001b[0m \u001b[1;33m=\u001b[0m \u001b[1;32mFalse\u001b[0m\u001b[1;33m)\u001b[0m\u001b[1;33m\u001b[0m\u001b[1;33m\u001b[0m\u001b[0m\n",
      "\u001b[1;31mNameError\u001b[0m: name 'pd' is not defined"
     ]
    }
   ],
   "source": [
    "X_MI_train = pd.DataFrame(MI_transformed_train)\n",
    "X_MI_train.to_csv('Feature_different/X_train_MI.csv',index = False)\n",
    "X_MI_test = pd.DataFrame(MI_transformed_test)\n",
    "X_MI_test.to_csv('Feature_different/X_test_MI.csv',index = False)"
   ]
  },
  {
   "cell_type": "code",
   "execution_count": null,
   "id": "4a3b3343",
   "metadata": {},
   "outputs": [],
   "source": []
  },
  {
   "cell_type": "code",
   "execution_count": 7,
   "id": "dce4f7d7",
   "metadata": {},
   "outputs": [],
   "source": [
    "from sklearn.feature_selection import SelectFromModel\n",
    "from sklearn.ensemble import RandomForestClassifier\n",
    "sfm = SelectFromModel(ExtraTreesClassifier(n_estimators=100,random_state=10),threshold = 'median')"
   ]
  },
  {
   "cell_type": "code",
   "execution_count": 8,
   "id": "5fdf1a78",
   "metadata": {},
   "outputs": [],
   "source": [
    "sfm.fit(X_norm_train,y_norm_train)\n",
    "SFM_transformed_train = sfm.transform(X_norm_train_resampled)\n",
    "SFM_transformed_test = sfm.transform(X_test_norm)"
   ]
  },
  {
   "cell_type": "code",
   "execution_count": 9,
   "id": "b8e28e6b",
   "metadata": {},
   "outputs": [],
   "source": [
    "X_SFM_train = pd.DataFrame(SFM_transformed_train)\n",
    "X_SFM_train.to_csv('Feature_different/X_train_SFM.csv')\n",
    "X_SFM_test = pd.DataFrame(SFM_transformed_test)\n",
    "X_SFM_test.to_csv('Feature_different/X_test_SFM.csv')"
   ]
  },
  {
   "cell_type": "code",
   "execution_count": 10,
   "id": "310ba5b8",
   "metadata": {},
   "outputs": [
    {
     "name": "stdout",
     "output_type": "stream",
     "text": [
      "[ True  True  True ... False False False]\n"
     ]
    },
    {
     "data": {
      "image/png": "[encoded data removed]",
      "text/plain": [
       "<Figure size 1152x144 with 1 Axes>"
      ]
     },
     "metadata": {
      "needs_background": "light"
     },
     "output_type": "display_data"
    }
   ],
   "source": [
    "mask_sfm = sfm.get_support()\n",
    "print(mask_sfm)\n",
    "plt.matshow(mask_sfm.reshape(1,-1),cmap=plt.cm.cool)\n",
    "plt.xlabel('Features Selected')\n",
    "plt.show()"
   ]
  },
  {
   "cell_type": "code",
   "execution_count": 11,
   "id": "ac3cb111",
   "metadata": {},
   "outputs": [
    {
     "data": {
      "text/plain": [
       "(2562, 648)"
      ]
     },
     "execution_count": 11,
     "metadata": {},
     "output_type": "execute_result"
    }
   ],
   "source": [
    "SFM_transformed_train.shape"
   ]
  },
  {
   "cell_type": "code",
   "execution_count": 12,
   "id": "284ce946",
   "metadata": {},
   "outputs": [],
   "source": [
    "from sklearn.feature_selection import RFE\n",
    "rfe = RFE(ExtraTreesClassifier(n_estimators=100,random_state=10),n_features_to_select=648)"
   ]
  },
  {
   "cell_type": "code",
   "execution_count": 13,
   "id": "7e2985d9",
   "metadata": {},
   "outputs": [],
   "source": [
    "rfe.fit(X_norm_train,y_norm_train)\n",
    "RFE_transformed_train = rfe.transform(X_norm_train_resampled)\n",
    "RFE_transformed_test = rfe.transform(X_test_norm)"
   ]
  },
  {
   "cell_type": "code",
   "execution_count": 14,
   "id": "ebb5a7a2",
   "metadata": {},
   "outputs": [],
   "source": [
    "X_RFE_train = pd.DataFrame(RFE_transformed_train)\n",
    "X_RFE_train.to_csv('Feature_different/X_train_RFE.csv')\n",
    "X_RFE_test = pd.DataFrame(RFE_transformed_test)\n",
    "X_RFE_test.to_csv('Feature_different/X_test_RFE.csv')"
   ]
  },
  {
   "cell_type": "code",
   "execution_count": null,
   "id": "3db79acd",
   "metadata": {},
   "outputs": [],
   "source": []
  }
 ],
 "metadata": {
  "kernelspec": {
   "display_name": "Python 3",
   "language": "python",
   "name": "python3"
  },
  "language_info": {
   "codemirror_mode": {
    "name": "ipython",
    "version": 3
   },
   "file_extension": ".py",
   "mimetype": "text/x-python",
   "name": "python",
   "nbconvert_exporter": "python",
   "pygments_lexer": "ipython3",
   "version": "3.8.3"
  }
 },
 "nbformat": 4,
 "nbformat_minor": 5
}
