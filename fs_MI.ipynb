{
 "cells": [
  {
   "cell_type": "code",
   "execution_count": 1,
   "id": "439cc087",
   "metadata": {},
   "outputs": [],
   "source": [
    "import numpy as np\n",
    "import pandas as pd\n",
    "import os, re, math, platform\n",
    "from pathlib import Path\n",
    "import matplotlib.pyplot as plt\n",
    "import json\n",
    "import joblib\n",
    "from scipy.stats import randint as sp_randint\n",
    "from sklearn.model_selection import train_test_split\n",
    "from sklearn.model_selection import KFold, StratifiedKFold\n",
    "from sklearn.model_selection import RandomizedSearchCV\n",
    "from imblearn.over_sampling import SMOTE\n",
    "from sklearn.preprocessing import StandardScaler\n",
    "from sklearn.metrics import matthews_corrcoef, confusion_matrix\n",
    "from sklearn.metrics import precision_recall_curve, roc_curve, auc, fbeta_score\n",
    "from imblearn.metrics import geometric_mean_score\n",
    "from sklearn.neural_network import MLPClassifier\n",
    "from xgboost import XGBClassifier \n",
    "from xgboost import plot_importance\n",
    "from sklearn.ensemble import GradientBoostingClassifier,RandomForestClassifier,ExtraTreesClassifier,AdaBoostClassifier\n",
    "from sklearn.linear_model import LogisticRegression\n",
    "from sklearn.neighbors import KNeighborsClassifier\n",
    "from sklearn.svm import SVC\n",
    "from Bio import SeqIO\n",
    "from Bio.SeqUtils.ProtParam import ProteinAnalysis as PA\n",
    "from modlamp.descriptors import PeptideDescriptor, GlobalDescriptor\n",
    "from matplotlib import pyplot\n",
    "from sklearn.metrics import matthews_corrcoef, confusion_matrix,precision_recall_curve, roc_curve, auc, fbeta_score,roc_auc_score\n",
    "from fea_extract import read_fasta,insert_AAC,insert_DPC,insert_CKSAAGP,insert_CTD,insert_PAAC,insert_AAI,insert_GTPC,insert_QSO,insert_AAE,insert_PSAAC,insert_word2int,insert_ASDC\n",
    "import warnings \n",
    "from collections import Counter\n",
    "from tools import cv,evaluate, pro_data\n",
    "import matplotlib.pyplot as plt\n",
    "import seaborn as sns\n",
    "from imblearn.combine import SMOTEENN\n",
    "warnings.filterwarnings('ignore')\n",
    "seed=10"
   ]
  },
  {
   "cell_type": "code",
   "execution_count": 22,
   "id": "c5d7d582",
   "metadata": {},
   "outputs": [],
   "source": [
    "X_test_norm = pd.read_csv('data/test/X_test_norm.csv').to_numpy()\n",
    "y_test_norm = pd.read_csv('data/test/y_test.csv').to_numpy()\n",
    "X_v = pd.read_csv('data/test/X_v.csv').to_numpy()\n",
    "y_v = pd.read_csv('data/test/y_v.csv').to_numpy()\n",
    "X_train_resampled = pd.read_csv('data/train/X_train_resampled.csv').to_numpy()\n",
    "y_train_resampled = pd.read_csv('data/train/y_train_resampled.csv').to_numpy()"
   ]
  },
  {
   "cell_type": "code",
   "execution_count": 3,
   "id": "e40b575d",
   "metadata": {},
   "outputs": [],
   "source": [
    "X = pd.read_csv('data/train/Seq_X_train_all.csv')\n",
    "feature_names = X.columns[2:]"
   ]
  },
  {
   "cell_type": "code",
   "execution_count": 23,
   "id": "3211514f",
   "metadata": {},
   "outputs": [],
   "source": [
    "import numpy as np\n",
    "from sklearn.feature_selection import mutual_info_classif\n",
    "from sklearn.feature_selection import SelectKBest"
   ]
  },
  {
   "cell_type": "code",
   "execution_count": 24,
   "id": "2593798e",
   "metadata": {},
   "outputs": [],
   "source": [
    "def udf_MI(X, y):\n",
    "    result = mutual_info_classif(X, y, n_neighbors = 5) # 用户可以输入想要的临近数\n",
    "    return result"
   ]
  },
  {
   "cell_type": "code",
   "execution_count": 25,
   "id": "d9f1e094",
   "metadata": {},
   "outputs": [],
   "source": [
    "np.random.seed(1234)\n",
    "idx = np.random.permutation(len(X_train_resampled))\n",
    "X_norm_train = X_train_resampled[idx]\n",
    "y_norm_train = y_train_resampled[idx]"
   ]
  },
  {
   "cell_type": "code",
   "execution_count": 26,
   "id": "4d96fc32",
   "metadata": {},
   "outputs": [],
   "source": [
    "score = udf_MI(X_norm_train,y_norm_train)"
   ]
  },
  {
   "cell_type": "code",
   "execution_count": 27,
   "id": "ebdedcf8",
   "metadata": {},
   "outputs": [
    {
     "data": {
      "text/plain": [
       "array([0.1264537 , 0.13144588, 0.2189469 , ..., 0.12052441, 0.01546697,\n",
       "       0.10393284])"
      ]
     },
     "execution_count": 27,
     "metadata": {},
     "output_type": "execute_result"
    }
   ],
   "source": [
    "score"
   ]
  },
  {
   "cell_type": "code",
   "execution_count": 28,
   "id": "81e70122",
   "metadata": {},
   "outputs": [
    {
     "data": {
      "text/plain": [
       "SelectKBest(k=415, score_func=<function udf_MI at 0x00000136DCE95820>)"
      ]
     },
     "execution_count": 28,
     "metadata": {},
     "output_type": "execute_result"
    }
   ],
   "source": [
    "selector_MI = SelectKBest(udf_MI, k=415)\n",
    "selector_MI.fit(X_norm_train,y_norm_train)"
   ]
  },
  {
   "cell_type": "code",
   "execution_count": 29,
   "id": "1d3a4a08",
   "metadata": {},
   "outputs": [],
   "source": [
    "MI_transformed_test = selector_MI.transform(X_test_norm)\n",
    "\n",
    "MI_transformed_train = selector_MI.transform(X_train_resampled) # 转换训练集"
   ]
  },
  {
   "cell_type": "code",
   "execution_count": null,
   "id": "674fab44",
   "metadata": {},
   "outputs": [],
   "source": []
  },
  {
   "cell_type": "code",
   "execution_count": 11,
   "id": "d17ffa8a",
   "metadata": {},
   "outputs": [],
   "source": [
    "X_A = pd.read_csv('data/train/X_train_resampled_all.csv').to_numpy()"
   ]
  },
  {
   "cell_type": "code",
   "execution_count": 12,
   "id": "2a6d5dfd",
   "metadata": {},
   "outputs": [],
   "source": [
    "MI_transformed_train = selector_MI.transform(X_A)"
   ]
  },
  {
   "cell_type": "code",
   "execution_count": 13,
   "id": "51480d4c",
   "metadata": {},
   "outputs": [],
   "source": [
    "X_MI_train = pd.DataFrame(MI_transformed_train)\n",
    "X_MI_train.to_csv('Feature_different/X_train_MI_A.csv',index = False)"
   ]
  },
  {
   "cell_type": "code",
   "execution_count": null,
   "id": "1049e2a1",
   "metadata": {},
   "outputs": [],
   "source": []
  },
  {
   "cell_type": "code",
   "execution_count": null,
   "id": "1219d540",
   "metadata": {},
   "outputs": [],
   "source": []
  },
  {
   "cell_type": "code",
   "execution_count": null,
   "id": "d1c21fde",
   "metadata": {},
   "outputs": [],
   "source": []
  },
  {
   "cell_type": "code",
   "execution_count": 30,
   "id": "fbe5420a",
   "metadata": {},
   "outputs": [],
   "source": [
    "X_MI_train = pd.DataFrame(MI_transformed_train)\n",
    "X_MI_train.to_csv('Feature_different/X_train_MI.csv',index = False)\n",
    "X_MI_test = pd.DataFrame(MI_transformed_test)\n",
    "X_MI_test.to_csv('Feature_different/X_test_MI.csv',index = False)"
   ]
  },
  {
   "cell_type": "code",
   "execution_count": null,
   "id": "4055e264",
   "metadata": {},
   "outputs": [],
   "source": []
  },
  {
   "cell_type": "code",
   "execution_count": 10,
   "id": "3c00b4b9",
   "metadata": {},
   "outputs": [],
   "source": [
    "num_index = []\n",
    "for i in range(1296):\n",
    "    num_index.append(str(i))\n",
    "    \n",
    "num_index = np.array(num_index)"
   ]
  },
  {
   "cell_type": "code",
   "execution_count": 11,
   "id": "36e84d0b",
   "metadata": {},
   "outputs": [],
   "source": [
    "# result = [(x,y) for x,y in zip(feature_names[:],score)]\n",
    "result = [(x,y) for x,y in zip(num_index[:],score)]\n",
    "result = sorted(result, key=lambda x: x[1], reverse=True)"
   ]
  },
  {
   "cell_type": "code",
   "execution_count": 12,
   "id": "c9b61fa3",
   "metadata": {},
   "outputs": [],
   "source": [
    "MI_fs = [x[0] for x in result]"
   ]
  },
  {
   "cell_type": "code",
   "execution_count": 13,
   "id": "4ec33adc",
   "metadata": {},
   "outputs": [],
   "source": [
    "def MI_ALL(X_train,y_train,X_v,y_v):\n",
    "    clf = ExtraTreesClassifier()\n",
    "    kf = StratifiedKFold(n_splits=10,shuffle=True,random_state=10)\n",
    "    avg_score_valid=[]\n",
    "    scores_test = []\n",
    "    X = X_train\n",
    "    Y = y_train\n",
    "    for train_index, test_index in kf.split(X,Y):\n",
    "        kf_X_train,kf_X_test=X[train_index],X[test_index]\n",
    "        kf_y_train,kf_y_test=Y[train_index],Y[test_index]\n",
    "        clf.fit(kf_X_train,kf_y_train)\n",
    "        scores_test.append(clf.score(X_v,y_v))\n",
    "    scores = np.array(scores_test)\n",
    "    avg_score_test = np.sum(scores)/10\n",
    "    print(\"This is validation score: %s\" % (avg_score_test))\n",
    "    return avg_score_test"
   ]
  },
  {
   "cell_type": "code",
   "execution_count": 14,
   "id": "6a25e6ce",
   "metadata": {},
   "outputs": [],
   "source": [
    "X_=pd.read_csv('data/process_X.csv')"
   ]
  },
  {
   "cell_type": "code",
   "execution_count": 16,
   "id": "d907f33c",
   "metadata": {},
   "outputs": [
    {
     "name": "stdout",
     "output_type": "stream",
     "text": [
      "(2009, 5)\n",
      "This is validation score: 0.8798833819241982\n",
      "(2009, 10)\n",
      "This is validation score: 0.8865889212827988\n",
      "(2009, 15)\n",
      "This is validation score: 0.8991253644314868\n",
      "(2009, 20)\n",
      "This is validation score: 0.8865889212827988\n",
      "(2009, 25)\n",
      "This is validation score: 0.885131195335277\n",
      "(2009, 30)\n",
      "This is validation score: 0.8860058309037901\n",
      "(2009, 35)\n",
      "This is validation score: 0.8839650145772595\n",
      "(2009, 40)\n",
      "This is validation score: 0.89533527696793\n",
      "(2009, 45)\n",
      "This is validation score: 0.8985422740524781\n",
      "(2009, 50)\n",
      "This is validation score: 0.89533527696793\n",
      "(2009, 55)\n",
      "This is validation score: 0.9040816326530612\n",
      "(2009, 60)\n",
      "This is validation score: 0.8976676384839651\n",
      "(2009, 65)\n",
      "This is validation score: 0.8973760932944608\n",
      "(2009, 70)\n",
      "This is validation score: 0.8997084548104957\n",
      "(2009, 75)\n",
      "This is validation score: 0.9049562682215744\n",
      "(2009, 80)\n",
      "This is validation score: 0.9043731778425658\n",
      "(2009, 85)\n",
      "This is validation score: 0.903206997084548\n",
      "(2009, 90)\n",
      "This is validation score: 0.9134110787172013\n",
      "(2009, 95)\n",
      "This is validation score: 0.912536443148688\n",
      "(2009, 100)\n",
      "This is validation score: 0.9174927113702624\n",
      "(2009, 105)\n",
      "This is validation score: 0.9160349854227405\n",
      "(2009, 110)\n",
      "This is validation score: 0.9142857142857143\n",
      "(2009, 115)\n",
      "This is validation score: 0.9166180758017493\n",
      "(2009, 120)\n",
      "This is validation score: 0.9151603498542276\n",
      "(2009, 125)\n",
      "This is validation score: 0.9157434402332362\n",
      "(2009, 130)\n",
      "This is validation score: 0.9125364431486881\n",
      "(2009, 135)\n",
      "This is validation score: 0.9192419825072887\n",
      "(2009, 140)\n",
      "This is validation score: 0.9160349854227405\n",
      "(2009, 145)\n",
      "This is validation score: 0.9131195335276969\n",
      "(2009, 150)\n",
      "This is validation score: 0.9134110787172013\n",
      "(2009, 155)\n",
      "This is validation score: 0.9154518950437318\n",
      "(2009, 160)\n",
      "This is validation score: 0.9142857142857144\n",
      "(2009, 165)\n",
      "This is validation score: 0.91399416909621\n",
      "(2009, 170)\n",
      "This is validation score: 0.9177842565597668\n",
      "(2009, 175)\n",
      "This is validation score: 0.9157434402332362\n",
      "(2009, 180)\n",
      "This is validation score: 0.9195335276967931\n",
      "(2009, 185)\n",
      "This is validation score: 0.9201166180758019\n",
      "(2009, 190)\n",
      "This is validation score: 0.9227405247813412\n",
      "(2009, 195)\n",
      "This is validation score: 0.9215743440233236\n",
      "(2009, 200)\n",
      "This is validation score: 0.925947521865889\n",
      "(2009, 205)\n",
      "This is validation score: 0.9247813411078718\n",
      "(2009, 210)\n",
      "This is validation score: 0.9204081632653063\n",
      "(2009, 215)\n",
      "This is validation score: 0.9224489795918366\n",
      "(2009, 220)\n",
      "This is validation score: 0.9192419825072887\n",
      "(2009, 225)\n",
      "This is validation score: 0.9253644314868806\n",
      "(2009, 230)\n",
      "This is validation score: 0.9227405247813412\n",
      "(2009, 235)\n",
      "This is validation score: 0.9204081632653061\n",
      "(2009, 240)\n",
      "This is validation score: 0.9201166180758019\n",
      "(2009, 245)\n",
      "This is validation score: 0.9154518950437318\n",
      "(2009, 250)\n",
      "This is validation score: 0.9209912536443149\n",
      "(2009, 255)\n",
      "This is validation score: 0.9195335276967931\n",
      "(2009, 260)\n",
      "This is validation score: 0.9212827988338192\n",
      "(2009, 265)\n",
      "This is validation score: 0.925072886297376\n",
      "(2009, 270)\n",
      "This is validation score: 0.9192419825072887\n",
      "(2009, 275)\n",
      "This is validation score: 0.9212827988338192\n",
      "(2009, 280)\n",
      "This is validation score: 0.9212827988338195\n",
      "(2009, 285)\n",
      "This is validation score: 0.91865889212828\n",
      "(2009, 290)\n",
      "This is validation score: 0.9256559766763847\n",
      "(2009, 295)\n",
      "This is validation score: 0.9227405247813409\n",
      "(2009, 300)\n",
      "This is validation score: 0.926530612244898\n",
      "(2009, 305)\n",
      "This is validation score: 0.9224489795918366\n",
      "(2009, 310)\n",
      "This is validation score: 0.9201166180758017\n",
      "(2009, 315)\n",
      "This is validation score: 0.9233236151603498\n",
      "(2009, 320)\n",
      "This is validation score: 0.9271137026239067\n",
      "(2009, 325)\n",
      "This is validation score: 0.9227405247813412\n",
      "(2009, 330)\n",
      "This is validation score: 0.9236151603498541\n",
      "(2009, 335)\n",
      "This is validation score: 0.9288629737609329\n",
      "(2009, 340)\n",
      "This is validation score: 0.926530612244898\n",
      "(2009, 345)\n",
      "This is validation score: 0.9244897959183673\n",
      "(2009, 350)\n",
      "This is validation score: 0.9262390670553937\n",
      "(2009, 355)\n",
      "This is validation score: 0.9244897959183673\n",
      "(2009, 360)\n",
      "This is validation score: 0.9282798833819241\n",
      "(2009, 365)\n",
      "This is validation score: 0.9291545189504372\n",
      "(2009, 370)\n",
      "This is validation score: 0.9279883381924199\n",
      "(2009, 375)\n",
      "This is validation score: 0.9262390670553934\n",
      "(2009, 380)\n",
      "This is validation score: 0.9236151603498541\n",
      "(2009, 385)\n",
      "This is validation score: 0.9224489795918368\n",
      "(2009, 390)\n",
      "This is validation score: 0.9262390670553934\n",
      "(2009, 395)\n",
      "This is validation score: 0.9256559766763848\n",
      "(2009, 400)\n",
      "This is validation score: 0.929737609329446\n",
      "(2009, 405)\n",
      "This is validation score: 0.9291545189504372\n",
      "(2009, 410)\n",
      "This is validation score: 0.9303206997084548\n",
      "(2009, 415)\n",
      "This is validation score: 0.9303206997084548\n",
      "(2009, 420)\n",
      "This is validation score: 0.9259475218658894\n",
      "(2009, 425)\n",
      "This is validation score: 0.9256559766763848\n",
      "(2009, 430)\n",
      "This is validation score: 0.9259475218658892\n",
      "(2009, 435)\n",
      "This is validation score: 0.9282798833819241\n",
      "(2009, 440)\n",
      "This is validation score: 0.9262390670553936\n",
      "(2009, 445)\n",
      "This is validation score: 0.9274052478134112\n",
      "(2009, 450)\n",
      "This is validation score: 0.925072886297376\n",
      "(2009, 455)\n",
      "This is validation score: 0.9285714285714285\n",
      "(2009, 460)\n",
      "This is validation score: 0.9265306122448977\n",
      "(2009, 465)\n",
      "This is validation score: 0.9262390670553934\n",
      "(2009, 470)\n",
      "This is validation score: 0.9253644314868806\n",
      "(2009, 475)\n",
      "This is validation score: 0.9259475218658892\n",
      "(2009, 480)\n",
      "This is validation score: 0.9274052478134113\n",
      "(2009, 485)\n",
      "This is validation score: 0.9309037900874635\n",
      "(2009, 490)\n",
      "This is validation score: 0.9300291545189504\n",
      "(2009, 495)\n",
      "This is validation score: 0.9271137026239067\n",
      "(2009, 500)\n",
      "This is validation score: 0.9282798833819241\n",
      "(2009, 505)\n",
      "This is validation score: 0.9279883381924197\n",
      "(2009, 510)\n",
      "This is validation score: 0.9279883381924197\n",
      "(2009, 515)\n",
      "This is validation score: 0.9271137026239067\n",
      "(2009, 520)\n",
      "This is validation score: 0.9271137026239066\n",
      "(2009, 525)\n",
      "This is validation score: 0.9303206997084548\n",
      "(2009, 530)\n",
      "This is validation score: 0.9285714285714285\n",
      "(2009, 535)\n",
      "This is validation score: 0.9221574344023324\n",
      "(2009, 540)\n",
      "This is validation score: 0.925947521865889\n",
      "(2009, 545)\n",
      "This is validation score: 0.9233236151603498\n",
      "(2009, 550)\n",
      "This is validation score: 0.9236151603498544\n",
      "(2009, 555)\n",
      "This is validation score: 0.9233236151603498\n",
      "(2009, 560)\n",
      "This is validation score: 0.9239067055393587\n",
      "(2009, 565)\n",
      "This is validation score: 0.9256559766763848\n",
      "(2009, 570)\n",
      "This is validation score: 0.9285714285714285\n",
      "(2009, 575)\n",
      "This is validation score: 0.9239067055393585\n",
      "(2009, 580)\n",
      "This is validation score: 0.9227405247813409\n",
      "(2009, 585)\n",
      "This is validation score: 0.9247813411078717\n",
      "(2009, 590)\n",
      "This is validation score: 0.9250728862973758\n",
      "(2009, 595)\n",
      "This is validation score: 0.9239067055393585\n"
     ]
    }
   ],
   "source": [
    "S = []\n",
    "num = []\n",
    "X_Test = pd.DataFrame(X_v,columns=num_index)\n",
    "for i in range(5,600,5):\n",
    "    y_train = X_['label'].to_numpy()\n",
    "    x_train = X_[MI_fs[:i]]\n",
    "    x_test = X_Test[MI_fs[:i]]\n",
    "    X_test1 = np.array(x_test)\n",
    "    X_train1 = np.array(x_train)\n",
    "    print(X_train1.shape)\n",
    "    avg_score_test = MI_ALL(X_train1,y_train,X_test1,y_v)\n",
    "    S.append(avg_score_test)\n",
    "    num.append(i)"
   ]
  },
  {
   "cell_type": "code",
   "execution_count": 19,
   "id": "7001ea10",
   "metadata": {},
   "outputs": [
    {
     "data": {
      "image/png": "[encoded data removed]",
      "text/plain": [
       "<Figure size 432x288 with 1 Axes>"
      ]
     },
     "metadata": {
      "needs_background": "light"
     },
     "output_type": "display_data"
    }
   ],
   "source": [
    "plt.plot(num,S,'b')\n",
    "plt.ylim(0.8,0.95)\n",
    "# plt.yticks([0.985,0.990,0.995,1.00])\n",
    "# plt.xlim(200,1290)\n",
    "plt.show()"
   ]
  },
  {
   "cell_type": "code",
   "execution_count": 20,
   "id": "f6c56869",
   "metadata": {},
   "outputs": [],
   "source": [
    "S_mrmd = pd.DataFrame(S)\n",
    "S_mrmd.to_csv('data/S_MI.csv',index = False)\n",
    "NUM = pd.DataFrame(num)\n",
    "NUM.to_csv('data/NUM_MI.csv',index = False)"
   ]
  },
  {
   "cell_type": "code",
   "execution_count": 21,
   "id": "ed098cd2",
   "metadata": {},
   "outputs": [],
   "source": [
    "S_MI = pd.read_csv('data/S_MI.csv').to_numpy()\n",
    "S_MRMD = pd.read_csv('data/S_MRMD.csv').to_numpy()"
   ]
  },
  {
   "cell_type": "code",
   "execution_count": 57,
   "id": "42e8c07d",
   "metadata": {},
   "outputs": [
    {
     "data": {
      "image/png": "[encoded data removed]",
      "text/plain": [
       "<Figure size 720x432 with 1 Axes>"
      ]
     },
     "metadata": {},
     "output_type": "display_data"
    }
   ],
   "source": [
    "plt.figure(figsize=(10,6))\n",
    "plt.grid(False)\n",
    "plt.plot(num,S_MI,'r',label='MI')\n",
    "plt.plot(num,S_MRMD,'b',label = 'MRMD')\n",
    "plt.ylim(0.8,0.93)\n",
    "plt.yticks([0.80,0.84,0.88,0.92])\n",
    "# plt.xlim(200,1290)\n",
    "plt.legend(loc='best')\n",
    "plt.show()"
   ]
  },
  {
   "cell_type": "code",
   "execution_count": 21,
   "id": "87e7438c",
   "metadata": {},
   "outputs": [],
   "source": [
    "S_MI = pd.DataFrame(S_MI)"
   ]
  },
  {
   "cell_type": "code",
   "execution_count": 22,
   "id": "2986c7a6",
   "metadata": {},
   "outputs": [],
   "source": [
    "NUM = pd.read_csv('data/NUM_MI.csv')"
   ]
  },
  {
   "cell_type": "code",
   "execution_count": 23,
   "id": "db1a134e",
   "metadata": {},
   "outputs": [],
   "source": [
    "MI = pd.concat([NUM,S_MI],axis = 1)\n",
    "MI.to_csv('data/MI.csv',index = False)"
   ]
  },
  {
   "cell_type": "code",
   "execution_count": 24,
   "id": "a899a911",
   "metadata": {},
   "outputs": [],
   "source": [
    "S_MRMD = pd.read_csv('data/S_MRMD.csv')"
   ]
  },
  {
   "cell_type": "code",
   "execution_count": 25,
   "id": "18435676",
   "metadata": {},
   "outputs": [],
   "source": [
    "MRMD = pd.concat([NUM,S_MRMD],axis = 1)\n",
    "MRMD.to_csv('data/MRMD.csv',index = False)"
   ]
  },
  {
   "cell_type": "code",
   "execution_count": null,
   "id": "01b8b121",
   "metadata": {},
   "outputs": [],
   "source": []
  },
  {
   "cell_type": "code",
   "execution_count": 12,
   "id": "5ffa9097",
   "metadata": {},
   "outputs": [],
   "source": [
    "PAAC=23\n",
    "AAC=20\n",
    "CKSAAGP=75\n",
    "CTD=147\n",
    "DPC=400\n",
    "GTPC=125\n",
    "QSO=46\n",
    "AAE=60\n",
    "ASDC=400"
   ]
  },
  {
   "cell_type": "code",
   "execution_count": 13,
   "id": "1badf8aa",
   "metadata": {},
   "outputs": [],
   "source": [
    "PAAC_N=0\n",
    "AAC_N=0\n",
    "CKSAAGP_N=0\n",
    "CTD_N=0\n",
    "DPC_N=0\n",
    "GTPC_N=0\n",
    "QSO_N=0\n",
    "AAE_N=0\n",
    "ASDC_N=0"
   ]
  },
  {
   "cell_type": "code",
   "execution_count": 14,
   "id": "b0dbf084",
   "metadata": {},
   "outputs": [],
   "source": [
    "NUM=[]\n",
    "NUM1=[]\n",
    "for i in MI_fs[:1120]:\n",
    "    if 0<= int(i) <23:\n",
    "        PAAC_N += 1\n",
    "    elif 23<= int(i) <43:\n",
    "        AAC_N += 1\n",
    "    elif 43<= int(i) <118:\n",
    "        CKSAAGP_N += 1\n",
    "    elif 118<= int(i) <265:\n",
    "        CTD_N += 1\n",
    "    elif 265<= int(i) <665:\n",
    "        DPC_N += 1\n",
    "    elif 665<= int(i) <790:\n",
    "        GTPC_N += 1\n",
    "    elif 790<= int(i) <836:\n",
    "        QSO_N += 1\n",
    "    elif 836<= int(i) <896:\n",
    "        AAE_N += 1\n",
    "    elif 896<= int(i) <1296:\n",
    "        ASDC_N += 1\n",
    "NUM.append(PAAC_N/23)\n",
    "NUM.append(AAC_N/20)\n",
    "NUM.append(CKSAAGP_N/75)\n",
    "NUM.append(CTD_N/147)\n",
    "NUM.append(DPC_N/400)\n",
    "NUM.append(GTPC_N/125)\n",
    "NUM.append(QSO_N/46)\n",
    "NUM.append(AAE_N/60)\n",
    "NUM.append(ASDC_N/400)\n",
    "NUM1.append(PAAC_N)\n",
    "NUM1.append(AAC_N)\n",
    "NUM1.append(CKSAAGP_N)\n",
    "NUM1.append(CTD_N)\n",
    "NUM1.append(DPC_N)\n",
    "NUM1.append(GTPC_N)\n",
    "NUM1.append(QSO_N)\n",
    "NUM1.append(AAE_N)\n",
    "NUM1.append(ASDC_N)"
   ]
  },
  {
   "cell_type": "code",
   "execution_count": 24,
   "id": "42af78de",
   "metadata": {},
   "outputs": [
    {
     "data": {
      "text/plain": [
       "[1.0, 1.0, 1.0, 1.0, 0.675, 0.824, 1.0, 0.7666666666666667, 0.975]"
      ]
     },
     "execution_count": 24,
     "metadata": {},
     "output_type": "execute_result"
    }
   ],
   "source": [
    "NUM"
   ]
  },
  {
   "cell_type": "code",
   "execution_count": 27,
   "id": "dc9ee2bb",
   "metadata": {},
   "outputs": [],
   "source": [
    "names = ['PAAC','AAC','CKSAAGP','CTD','DPC','GTPC','QSO','AAE','ASDC']\n",
    "NUm = np.array(NUM)*(1120/1296)"
   ]
  },
  {
   "cell_type": "code",
   "execution_count": 16,
   "id": "12e9a2bc",
   "metadata": {},
   "outputs": [
    {
     "data": {
      "image/png": "[encoded data removed]",
      "text/plain": [
       "<Figure size 1000x400 with 1 Axes>"
      ]
     },
     "metadata": {},
     "output_type": "display_data"
    }
   ],
   "source": [
    "plt.figure(figsize=(10, 4), dpi=100)\n",
    "\n",
    "# 3）绘制饼图\n",
    "plt.pie(NUm, labels=names,colors=['b','r','g','y','c','m','y','k'])\n",
    "\n",
    "# # 显示图例\n",
    "# plt.legend(loc='best')\n",
    "\n",
    "# # 添加标题\n",
    "# plt.title(\"o1PO )oineH. 93viuo.uod\")\n",
    "\n",
    "# 4）显示图像\n",
    "plt.show()"
   ]
  },
  {
   "cell_type": "code",
   "execution_count": 32,
   "id": "e60977ac",
   "metadata": {},
   "outputs": [
    {
     "data": {
      "text/plain": [
       "(0.0, 1.0)"
      ]
     },
     "execution_count": 32,
     "metadata": {},
     "output_type": "execute_result"
    },
    {
     "data": {
      "image/png": "[encoded data removed]",
      "text/plain": [
       "<Figure size 720x576 with 1 Axes>"
      ]
     },
     "metadata": {},
     "output_type": "display_data"
    }
   ],
   "source": [
    "sns.set()\n",
    "plt.figure(figsize=(10,8))\n",
    "plt.grid(False)\n",
    "plt.barh(names,NUm,label='MI',color = \"b\")\n",
    "plt.legend(loc='upper right')\n",
    "plt.xlim(0.0,1.0)"
   ]
  },
  {
   "cell_type": "code",
   "execution_count": 33,
   "id": "4d03ac6e",
   "metadata": {},
   "outputs": [],
   "source": [
    "num_d = np.zeros([1296,1])\n",
    "for i in MI_fs[:1120]:\n",
    "    num_d[int(i)]=1"
   ]
  },
  {
   "cell_type": "code",
   "execution_count": 34,
   "id": "b190d528",
   "metadata": {},
   "outputs": [],
   "source": [
    "num_D = pd.DataFrame(num_d)\n",
    "num_D.to_csv('MI.csv',index=False)"
   ]
  },
  {
   "cell_type": "code",
   "execution_count": 35,
   "id": "a62c1320",
   "metadata": {},
   "outputs": [],
   "source": [
    "MI = pd.DataFrame(MI_fs)\n",
    "MI.to_csv('data/MI.csv',index=False)"
   ]
  },
  {
   "cell_type": "code",
   "execution_count": null,
   "id": "cd98c2ed",
   "metadata": {},
   "outputs": [],
   "source": []
  }
 ],
 "metadata": {
  "kernelspec": {
   "display_name": "Python 3 (ipykernel)",
   "language": "python",
   "name": "python3"
  },
  "language_info": {
   "codemirror_mode": {
    "name": "ipython",
    "version": 3
   },
   "file_extension": ".py",
   "mimetype": "text/x-python",
   "name": "python",
   "nbconvert_exporter": "python",
   "pygments_lexer": "ipython3",
   "version": "3.8.3"
  }
 },
 "nbformat": 4,
 "nbformat_minor": 5
}
